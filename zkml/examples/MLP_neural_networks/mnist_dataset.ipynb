{
 "cells": [
  {
   "cell_type": "markdown",
   "metadata": {},
   "source": [
    "# Demo of an MLP neural network Leo transpilation - MNIST dataset"
   ]
  },
  {
   "cell_type": "markdown",
   "metadata": {},
   "source": [
    "MLP neural networks are expressive ML models. Here, we use them for the MNIST classification task, which contains images of handwritten digits. We show the inference of MLP neural networks for the MNIST dataset is possible in a zero knowledge environment.\n",
    "\n",
    "For this, we first download the dataset, and then compute feature representations of the dataset. We then train and test an MLP neural network on the feature dataset. Afterward, we iteratively prune the network (meaning we set weights and biases close to 0 to actually 0) and fine-tune it. Then, we transpile the final MLP neural network to Leo, evaluate the Leo network and create a zero knowledge proof."
   ]
  },
  {
   "cell_type": "markdown",
   "metadata": {},
   "source": [
    "## Define function to download the dataset"
   ]
  },
  {
   "cell_type": "code",
   "execution_count": 1,
   "metadata": {},
   "outputs": [],
   "source": [
    "import gzip\n",
    "import os\n",
    "import shutil\n",
    "\n",
    "import requests\n",
    "\n",
    "\n",
    "def download_and_extract_dataset(url, save_path, folder_path):\n",
    "    \"\"\"Download and extract dataset if it doesn't exist.\"\"\"\n",
    "    if not os.path.exists(save_path):\n",
    "        print(f\"Downloading {os.path.basename(save_path)}...\")\n",
    "        response = requests.get(url)\n",
    "        with open(save_path, \"wb\") as file:\n",
    "            file.write(response.content)\n",
    "\n",
    "        decompressed_file_name = os.path.splitext(os.path.basename(save_path))[0]\n",
    "        decompressed_file_path = os.path.join(folder_path, decompressed_file_name)\n",
    "\n",
    "        with gzip.open(save_path, \"rb\") as f_in:\n",
    "            with open(decompressed_file_path, \"wb\") as f_out:\n",
    "                shutil.copyfileobj(f_in, f_out)\n",
    "\n",
    "        print(f\"{decompressed_file_name} downloaded and extracted.\")\n",
    "    else:\n",
    "        print(f\"{os.path.basename(save_path)} already exists.\")"
   ]
  },
  {
   "cell_type": "markdown",
   "metadata": {},
   "source": [
    "## Download the dataset"
   ]
  },
  {
   "cell_type": "code",
   "execution_count": 2,
   "metadata": {},
   "outputs": [
    {
     "name": "stdout",
     "output_type": "stream",
     "text": [
      "train-images-idx3-ubyte.gz already exists.\n",
      "train-labels-idx1-ubyte.gz already exists.\n",
      "t10k-images-idx3-ubyte.gz already exists.\n",
      "t10k-labels-idx1-ubyte.gz already exists.\n"
     ]
    }
   ],
   "source": [
    "# URLs and filenames\n",
    "file_info = [\n",
    "    (\n",
    "        \"http://yann.lecun.com/exdb/mnist/train-images-idx3-ubyte.gz\",\n",
    "        \"train-images-idx3-ubyte.gz\",\n",
    "    ),\n",
    "    (\n",
    "        \"http://yann.lecun.com/exdb/mnist/train-labels-idx1-ubyte.gz\",\n",
    "        \"train-labels-idx1-ubyte.gz\",\n",
    "    ),\n",
    "    (\n",
    "        \"http://yann.lecun.com/exdb/mnist/t10k-images-idx3-ubyte.gz\",\n",
    "        \"t10k-images-idx3-ubyte.gz\",\n",
    "    ),\n",
    "    (\n",
    "        \"http://yann.lecun.com/exdb/mnist/t10k-labels-idx1-ubyte.gz\",\n",
    "        \"t10k-labels-idx1-ubyte.gz\",\n",
    "    ),\n",
    "]\n",
    "\n",
    "folder_name = \"tmp/mnist\"\n",
    "folder_path = os.path.join(os.getcwd(), folder_name)\n",
    "\n",
    "os.makedirs(folder_path, exist_ok=True)  # Create folder if it doesn't exist\n",
    "\n",
    "# Download and extract each file\n",
    "for url, file_name in file_info:\n",
    "    path_to_save = os.path.join(folder_path, file_name)\n",
    "    download_and_extract_dataset(url, path_to_save, folder_path)"
   ]
  },
  {
   "cell_type": "markdown",
   "metadata": {},
   "source": [
    "## Define function to read the dataset"
   ]
  },
  {
   "cell_type": "code",
   "execution_count": 3,
   "metadata": {},
   "outputs": [],
   "source": [
    "import numpy as np\n",
    "\n",
    "\n",
    "def read_idx3_ubyte_image_file(filename):\n",
    "    \"\"\"Read IDX3-ubyte formatted image data.\"\"\"\n",
    "    with open(filename, \"rb\") as f:\n",
    "        magic_num = int.from_bytes(f.read(4), byteorder=\"big\")\n",
    "        num_images = int.from_bytes(f.read(4), byteorder=\"big\")\n",
    "        num_rows = int.from_bytes(f.read(4), byteorder=\"big\")\n",
    "        num_cols = int.from_bytes(f.read(4), byteorder=\"big\")\n",
    "\n",
    "        if magic_num != 2051:\n",
    "            raise ValueError(f\"Invalid magic number: {magic_num}\")\n",
    "\n",
    "        images = np.zeros((num_images, num_rows, num_cols), dtype=np.uint8)\n",
    "\n",
    "        for i in range(num_images):\n",
    "            for r in range(num_rows):\n",
    "                for c in range(num_cols):\n",
    "                    pixel = int.from_bytes(f.read(1), byteorder=\"big\")\n",
    "                    images[i, r, c] = pixel\n",
    "\n",
    "    return images\n",
    "\n",
    "\n",
    "def read_idx1_ubyte_label_file(filename):\n",
    "    \"\"\"Read IDX1-ubyte formatted label data.\"\"\"\n",
    "    with open(filename, \"rb\") as f:\n",
    "        magic_num = int.from_bytes(f.read(4), byteorder=\"big\")\n",
    "        num_labels = int.from_bytes(f.read(4), byteorder=\"big\")\n",
    "\n",
    "        if magic_num != 2049:\n",
    "            raise ValueError(f\"Invalid magic number: {magic_num}\")\n",
    "\n",
    "        labels = np.zeros(num_labels, dtype=np.uint8)\n",
    "\n",
    "        for i in range(num_labels):\n",
    "            labels[i] = int.from_bytes(f.read(1), byteorder=\"big\")\n",
    "\n",
    "    return labels"
   ]
  },
  {
   "cell_type": "markdown",
   "metadata": {},
   "source": [
    "## Read the dataset"
   ]
  },
  {
   "cell_type": "code",
   "execution_count": 4,
   "metadata": {},
   "outputs": [
    {
     "name": "stdout",
     "output_type": "stream",
     "text": [
      "Shape of train_images: (60000, 28, 28)\n",
      "Shape of train_labels: (60000,)\n",
      "Shape of test_images: (10000, 28, 28)\n",
      "Shape of test_labels: (10000,)\n"
     ]
    }
   ],
   "source": [
    "folder_path = os.path.join(\n",
    "    os.getcwd(), folder_name\n",
    ")  # Adjust this path to where you stored the files\n",
    "\n",
    "train_images = read_idx3_ubyte_image_file(\n",
    "    os.path.join(folder_path, \"train-images-idx3-ubyte\")\n",
    ")\n",
    "train_labels = read_idx1_ubyte_label_file(\n",
    "    os.path.join(folder_path, \"train-labels-idx1-ubyte\")\n",
    ")\n",
    "test_images = read_idx3_ubyte_image_file(\n",
    "    os.path.join(folder_path, \"t10k-images-idx3-ubyte\")\n",
    ")\n",
    "test_labels = read_idx1_ubyte_label_file(\n",
    "    os.path.join(folder_path, \"t10k-labels-idx1-ubyte\")\n",
    ")\n",
    "\n",
    "print(\n",
    "    f\"Shape of train_images: {train_images.shape}\"\n",
    ")  # Should output \"Shape of train_images: (60000, 28, 28)\"\n",
    "print(\n",
    "    f\"Shape of train_labels: {train_labels.shape}\"\n",
    ")  # Should output \"Shape of train_labels: (60000,)\"\n",
    "print(\n",
    "    f\"Shape of test_images: {test_images.shape}\"\n",
    ")  # Should output \"Shape of test_images: (10000, 28, 28)\"\n",
    "print(\n",
    "    f\"Shape of test_labels: {test_labels.shape}\"\n",
    ")  # Should output \"Shape of test_labels: (10000,)\""
   ]
  },
  {
   "cell_type": "markdown",
   "metadata": {},
   "source": [
    "## Convert the datasets to PyTorch tensors, and get a validation set\n",
    "(We use PyTorch instead of sci-kit learn to train sparse neural networks with L1 regularization)"
   ]
  },
  {
   "cell_type": "code",
   "execution_count": 5,
   "metadata": {},
   "outputs": [],
   "source": [
    "# conver to pytorch tensors\n",
    "import torch\n",
    "\n",
    "train_images_tensor_initial = torch.from_numpy(train_images).float()\n",
    "train_labels_tensor_initial = torch.from_numpy(train_labels).long()\n",
    "test_images_tensor = torch.from_numpy(test_images).float()\n",
    "test_labels_tensor = torch.from_numpy(test_labels).long()\n",
    "\n",
    "# seed the random number generator\n",
    "torch.manual_seed(0)\n",
    "\n",
    "# shuffle the training dataset\n",
    "indices = torch.randperm(train_images_tensor_initial.shape[0])\n",
    "train_images_tensor_shuffled = train_images_tensor_initial[indices]\n",
    "train_labels_tensor_shuffled = train_labels_tensor_initial[indices]\n",
    "\n",
    "# get a 10% validation set\n",
    "validation_size = int(train_images_tensor_shuffled.shape[0] * 0.1)\n",
    "validation_images_tensor = train_images_tensor_shuffled[:validation_size]\n",
    "validation_labels_tensor = train_labels_tensor_shuffled[:validation_size]\n",
    "train_images_tensor = train_images_tensor_shuffled[validation_size:]\n",
    "train_labels_tensor = train_labels_tensor_shuffled[validation_size:]"
   ]
  },
  {
   "cell_type": "code",
   "execution_count": 6,
   "metadata": {},
   "outputs": [
    {
     "name": "stdout",
     "output_type": "stream",
     "text": [
      "Train labels tensor shape: torch.Size([54000])\n",
      "Validation labels tensor shape: torch.Size([6000])\n",
      "Test labels tensor shape: torch.Size([10000])\n"
     ]
    }
   ],
   "source": [
    "print(\"Train labels tensor shape:\", train_labels_tensor.shape)\n",
    "print(\"Validation labels tensor shape:\", validation_labels_tensor.shape)\n",
    "print(\"Test labels tensor shape:\", test_labels_tensor.shape)"
   ]
  },
  {
   "cell_type": "markdown",
   "metadata": {},
   "source": [
    "## Extract feature representations of the dataset\n",
    "\n",
    "(We transform the bounding box images to 12x12 images, defined by the new_size variable. There is a trade-off in circuit constraints and ML model accuracy. You can increase the image size which will lead to a higher accuracy at the cost of more circuit constraints and thus longer proving times.)"
   ]
  },
  {
   "cell_type": "code",
   "execution_count": 7,
   "metadata": {},
   "outputs": [],
   "source": [
    "import numpy as np\n",
    "\n",
    "\n",
    "def get_bounding_box(img):\n",
    "    \"\"\"\n",
    "    Extract the bounding box from an MNIST image.\n",
    "\n",
    "    Args:\n",
    "        img (np.ndarray): 2D numpy array representing the MNIST image.\n",
    "\n",
    "    Returns:\n",
    "        (np.ndarray): Cropped image with the bounding box.\n",
    "    \"\"\"\n",
    "\n",
    "    # convert torch image to numpy array\n",
    "    img = img.numpy()\n",
    "\n",
    "    # Find the rows and columns where the image has non-zero pixels\n",
    "    rows = np.any(img, axis=1)\n",
    "    cols = np.any(img, axis=0)\n",
    "\n",
    "    # Find the first and last row and column indices where the image has non-zero pixels\n",
    "    rmin, rmax = np.where(rows)[0][[0, -1]]\n",
    "    cmin, cmax = np.where(cols)[0][[0, -1]]\n",
    "\n",
    "    # Return the cropped image\n",
    "    return img[rmin : rmax + 1, cmin : cmax + 1]"
   ]
  },
  {
   "cell_type": "code",
   "execution_count": 8,
   "metadata": {},
   "outputs": [],
   "source": [
    "import cv2\n",
    "\n",
    "\n",
    "def get_resized_datasets(\n",
    "    train_images_tensor, validation_images_tensor, test_images_tensor, new_size\n",
    "):\n",
    "    num_train = len(train_images_tensor)\n",
    "    num_test = len(test_images_tensor)\n",
    "    num_val = len(validation_images_tensor)\n",
    "\n",
    "    train_images_tensor_resized = np.zeros((num_train, new_size**2))\n",
    "    validation_images_tensor_resized = np.zeros((num_val, new_size**2))\n",
    "    test_images_tensor_resized = np.zeros((num_test, new_size**2))\n",
    "\n",
    "    for i in range(num_train):\n",
    "        cropped_image = get_bounding_box(train_images_tensor[i].reshape(28, 28))\n",
    "        cropped_image_uint8 = np.clip(cropped_image, 0, 255).astype(np.uint8)\n",
    "        resized_image = cv2.resize(\n",
    "            cropped_image_uint8, (new_size, new_size), interpolation=cv2.INTER_AREA\n",
    "        )\n",
    "        train_images_tensor_resized[i, :] = resized_image.flatten()\n",
    "\n",
    "    for i in range(num_val):\n",
    "        cropped_image = get_bounding_box(validation_images_tensor[i].reshape(28, 28))\n",
    "        cropped_image_uint8 = np.clip(cropped_image, 0, 255).astype(np.uint8)\n",
    "        resized_image = cv2.resize(\n",
    "            cropped_image_uint8, (new_size, new_size), interpolation=cv2.INTER_AREA\n",
    "        )\n",
    "        validation_images_tensor_resized[i, :] = resized_image.flatten()\n",
    "\n",
    "    for i in range(num_test):\n",
    "        cropped_image = get_bounding_box(test_images_tensor[i].reshape(28, 28))\n",
    "        cropped_image_uint8 = np.clip(cropped_image, 0, 255).astype(np.uint8)\n",
    "        resized_image = cv2.resize(\n",
    "            cropped_image_uint8, (new_size, new_size), interpolation=cv2.INTER_AREA\n",
    "        )\n",
    "        test_images_tensor_resized[i, :] = resized_image.flatten()\n",
    "\n",
    "    return (\n",
    "        train_images_tensor_resized,\n",
    "        validation_images_tensor_resized,\n",
    "        test_images_tensor_resized,\n",
    "    )"
   ]
  },
  {
   "cell_type": "code",
   "execution_count": 9,
   "metadata": {},
   "outputs": [],
   "source": [
    "new_size = 12\n",
    "train_images_resized, val_images_resized, test_images_resized = get_resized_datasets(\n",
    "    train_images_tensor, validation_images_tensor, test_images_tensor, new_size\n",
    ")"
   ]
  },
  {
   "cell_type": "markdown",
   "metadata": {},
   "source": [
    "## Let's compute the features"
   ]
  },
  {
   "cell_type": "code",
   "execution_count": 10,
   "metadata": {},
   "outputs": [],
   "source": [
    "def compute_haar_features(image):\n",
    "    # raise value error if the image is not square\n",
    "    if image.shape[0] != image.shape[1]:\n",
    "        raise ValueError(\"The input image must be square.\")\n",
    "\n",
    "    features = []\n",
    "\n",
    "    # Sliding window\n",
    "    for i in range(0, image.shape[0], 3):  # Slide vertically with a step of 3\n",
    "        for j in range(0, image.shape[0], 3):  # Slide horizontally with a step of 3\n",
    "\n",
    "            if i + 6 > image.shape[0] or j + 6 > image.shape[0]:\n",
    "                continue\n",
    "\n",
    "            # Extract 6x6 window\n",
    "            window = image[i : i + 6, j : j + 6]\n",
    "\n",
    "            # Horizontal feature\n",
    "            horizontal_feature_value = np.sum(window[0:3, :]) - np.sum(window[3:6, :])\n",
    "\n",
    "            # Vertical feature\n",
    "            vertical_feature_value = np.sum(window[:, 0:3]) - np.sum(window[:, 3:6])\n",
    "\n",
    "            features.append(horizontal_feature_value)\n",
    "            features.append(vertical_feature_value)\n",
    "\n",
    "    return np.array(features)\n",
    "\n",
    "\n",
    "def aspect_ratio(image, threshold=0.5):\n",
    "    # Threshold the image to create a binary representation\n",
    "    bin_image = image > threshold\n",
    "    # Find the bounding box\n",
    "    row_indices, col_indices = np.nonzero(bin_image)\n",
    "    max_row, min_row = np.max(row_indices), np.min(row_indices)\n",
    "    max_col, min_col = np.max(col_indices), np.min(col_indices)\n",
    "\n",
    "    # Calculate the aspect ratio of the bounding box\n",
    "    width = max_col - min_col + 1\n",
    "    height = max_row - min_row + 1\n",
    "\n",
    "    if height == 0:  # To avoid division by zero\n",
    "        return 1.0\n",
    "\n",
    "    return width / height\n",
    "\n",
    "\n",
    "from scipy.ndimage import label\n",
    "\n",
    "\n",
    "def num_regions_below_threshold(image, threshold=0.5):\n",
    "    # Threshold the image so that pixels below the threshold are set to 1\n",
    "    # and those above the threshold are set to 0.\n",
    "    bin_image = image < threshold\n",
    "\n",
    "    # Use connected components labeling\n",
    "    labeled_array, num_features = label(bin_image)\n",
    "\n",
    "    # Return the number of unique regions\n",
    "    # (subtracting 1 as one of the labels will be the background)\n",
    "    return num_features"
   ]
  },
  {
   "cell_type": "code",
   "execution_count": 11,
   "metadata": {},
   "outputs": [],
   "source": [
    "# compute datasets\n",
    "\n",
    "num_train = len(train_images_tensor)\n",
    "num_val = len(validation_images_tensor)\n",
    "num_test = len(test_images_tensor)\n",
    "\n",
    "aspect_ratio_train = np.zeros(num_train)\n",
    "aspect_ratio_val = np.zeros(num_val)\n",
    "aspect_ratio_test = np.zeros(num_test)\n",
    "\n",
    "num_white_regions_train = np.zeros(num_train)\n",
    "num_white_regions_val = np.zeros(num_val)\n",
    "num_white_regions_test = np.zeros(num_test)\n",
    "\n",
    "haar_1 = compute_haar_features(train_images_resized[0].reshape(new_size, new_size))\n",
    "len_haar_features = len(haar_1)\n",
    "\n",
    "haar_train = np.zeros((num_train, len_haar_features))\n",
    "haar_val = np.zeros((num_val, len_haar_features))\n",
    "haar_test = np.zeros((num_test, len_haar_features))\n",
    "\n",
    "for i in range(num_train):\n",
    "    aspect_ratio_train[i] = aspect_ratio(train_images_tensor[i].reshape(28, 28).numpy())\n",
    "    num_white_regions_train[i] = num_regions_below_threshold(\n",
    "        train_images_tensor[i].reshape(28, 28)\n",
    "    )\n",
    "    haar_train[i, :] = compute_haar_features(\n",
    "        train_images_resized[i, :].reshape(new_size, new_size)\n",
    "    )\n",
    "\n",
    "for i in range(num_val):\n",
    "    aspect_ratio_val[i] = aspect_ratio(\n",
    "        validation_images_tensor[i].reshape(28, 28).numpy()\n",
    "    )\n",
    "    num_white_regions_val[i] = num_regions_below_threshold(\n",
    "        validation_images_tensor[i].reshape(28, 28)\n",
    "    )\n",
    "    haar_val[i, :] = compute_haar_features(\n",
    "        val_images_resized[i, :].reshape(new_size, new_size)\n",
    "    )\n",
    "\n",
    "for i in range(num_test):\n",
    "    aspect_ratio_test[i] = aspect_ratio(test_images_tensor[i].reshape(28, 28).numpy())\n",
    "    num_white_regions_test[i] = num_regions_below_threshold(\n",
    "        test_images_tensor[i].reshape(28, 28)\n",
    "    )\n",
    "    haar_test[i, :] = compute_haar_features(\n",
    "        test_images_resized[i, :].reshape(new_size, new_size)\n",
    "    )"
   ]
  },
  {
   "cell_type": "markdown",
   "metadata": {},
   "source": [
    "## Take a look at the images, and the computed features"
   ]
  },
  {
   "cell_type": "code",
   "execution_count": 12,
   "metadata": {},
   "outputs": [
    {
     "name": "stdout",
     "output_type": "stream",
     "text": [
      "Original image\n"
     ]
    },
    {
     "data": {
      "image/png": "[encoded data removed]",
      "text/plain": [
       "<Figure size 640x480 with 1 Axes>"
      ]
     },
     "metadata": {},
     "output_type": "display_data"
    },
    {
     "name": "stdout",
     "output_type": "stream",
     "text": [
      "Image shape torch.Size([28, 28])\n",
      "Label tensor(0)\n",
      "Resized image\n"
     ]
    },
    {
     "data": {
      "image/png": "[encoded data removed]",
      "text/plain": [
       "<Figure size 640x480 with 1 Axes>"
      ]
     },
     "metadata": {},
     "output_type": "display_data"
    },
    {
     "name": "stdout",
     "output_type": "stream",
     "text": [
      "Image shape (12, 12)\n",
      "Haar features: [-1413. -1567.   789.   -89.    88.   590.   461.   929.   743.  -101.\n",
      "  -311. -1153. -1046.  1922. -1208.  -974.  1161.  1035.]\n",
      "Shape of Haar features: (18,)\n",
      "Aspect ratio: 0.7\n",
      "Number of white regions: 2.0\n"
     ]
    }
   ],
   "source": [
    "image_id = 0\n",
    "\n",
    "image = train_images_tensor[image_id].reshape(28, 28)\n",
    "\n",
    "print(\"Original image\")\n",
    "\n",
    "import matplotlib.pyplot as plt\n",
    "\n",
    "plt.imshow(image, cmap=\"gray\")\n",
    "plt.show()\n",
    "\n",
    "print(\"Image shape\", image.shape)\n",
    "print(\"Label\", train_labels_tensor[image_id])\n",
    "\n",
    "print(\"Resized image\")\n",
    "\n",
    "image_resized = train_images_resized[image_id].reshape(new_size, new_size)\n",
    "\n",
    "plt.imshow(image_resized, cmap=\"gray\")\n",
    "plt.show()\n",
    "\n",
    "print(\"Image shape\", image_resized.shape)\n",
    "\n",
    "print(\"Haar features:\", haar_train[image_id, :])\n",
    "print(\"Shape of Haar features:\", haar_train[image_id, :].shape)\n",
    "\n",
    "print(\"Aspect ratio:\", aspect_ratio_train[image_id])\n",
    "print(\"Number of white regions:\", num_white_regions_train[image_id])"
   ]
  },
  {
   "cell_type": "markdown",
   "metadata": {},
   "source": [
    "## Let's merge all features into one dataset"
   ]
  },
  {
   "cell_type": "code",
   "execution_count": 13,
   "metadata": {},
   "outputs": [],
   "source": [
    "# compute datasets\n",
    "\n",
    "train_features = np.zeros((num_train, len_haar_features + 2))\n",
    "val_features = np.zeros((num_val, len_haar_features + 2))\n",
    "test_features = np.zeros((num_test, len_haar_features + 2))\n",
    "\n",
    "for i in range(num_train):\n",
    "    train_features[i, :] = np.hstack(\n",
    "        (haar_train[i, :], aspect_ratio_train[i], num_white_regions_train[i])\n",
    "    )\n",
    "\n",
    "for i in range(num_val):\n",
    "    val_features[i, :] = np.hstack(\n",
    "        (haar_val[i, :], aspect_ratio_val[i], num_white_regions_val[i])\n",
    "    )\n",
    "\n",
    "for i in range(num_test):\n",
    "    test_features[i, :] = np.hstack(\n",
    "        (haar_test[i, :], aspect_ratio_test[i], num_white_regions_test[i])\n",
    "    )"
   ]
  },
  {
   "cell_type": "code",
   "execution_count": 14,
   "metadata": {},
   "outputs": [
    {
     "name": "stdout",
     "output_type": "stream",
     "text": [
      "Shape of training features: (54000, 20)\n",
      "First training feature vector: [-1.413e+03 -1.567e+03  7.890e+02 -8.900e+01  8.800e+01  5.900e+02\n",
      "  4.610e+02  9.290e+02  7.430e+02 -1.010e+02 -3.110e+02 -1.153e+03\n",
      " -1.046e+03  1.922e+03 -1.208e+03 -9.740e+02  1.161e+03  1.035e+03\n",
      "  7.000e-01  2.000e+00]\n"
     ]
    }
   ],
   "source": [
    "print(\"Shape of training features:\", train_features.shape)\n",
    "print(\"First training feature vector:\", train_features[0, :])"
   ]
  },
  {
   "cell_type": "markdown",
   "metadata": {},
   "source": [
    "## Normalize the dataset"
   ]
  },
  {
   "cell_type": "code",
   "execution_count": 15,
   "metadata": {},
   "outputs": [],
   "source": [
    "from sklearn.preprocessing import StandardScaler\n",
    "\n",
    "scaler = StandardScaler()\n",
    "train_features_normalized = torch.tensor(scaler.fit_transform(train_features)).float()\n",
    "val_features_normalized = torch.tensor(scaler.transform(val_features)).float()\n",
    "test_features_normalized = torch.tensor(scaler.transform(test_features)).float()"
   ]
  },
  {
   "cell_type": "code",
   "execution_count": 16,
   "metadata": {},
   "outputs": [
    {
     "name": "stdout",
     "output_type": "stream",
     "text": [
      "First training feature vector (normalized): tensor([-1.2143, -0.8321,  0.4906,  0.1937, -0.2191,  0.0082,  0.4311,  1.1292,\n",
      "         0.6659,  0.1091, -0.3643, -1.2731, -0.6324,  2.4261, -0.8677, -0.8842,\n",
      "         1.0577,  0.2177, -0.4527,  0.4035])\n"
     ]
    }
   ],
   "source": [
    "print(\"First training feature vector (normalized):\", train_features_normalized[0, :])"
   ]
  },
  {
   "cell_type": "markdown",
   "metadata": {},
   "source": [
    "## Define the neural network and the training and test function"
   ]
  },
  {
   "cell_type": "code",
   "execution_count": 17,
   "metadata": {},
   "outputs": [],
   "source": [
    "import torch\n",
    "import torch.nn as nn\n",
    "import torch.optim as optim\n",
    "from sklearn.metrics import accuracy_score\n",
    "\n",
    "\n",
    "def evaluate_model(model):\n",
    "    model.eval()  # Set the model to evaluation mode\n",
    "    with torch.no_grad():\n",
    "        test_outputs = model(test_features_normalized)\n",
    "        _, predicted = torch.max(test_outputs.data, 1)\n",
    "        accuracy = accuracy_score(test_labels, predicted.numpy())\n",
    "        print(\"Accuracy:\", accuracy)\n",
    "        return accuracy\n",
    "\n",
    "\n",
    "# Define the PyTorch neural network\n",
    "class SimpleNN(nn.Module):\n",
    "    def __init__(self, input_dim, hidden_dim, output_dim):\n",
    "        super(SimpleNN, self).__init__()\n",
    "        self.fc1 = nn.Linear(input_dim, hidden_dim)\n",
    "        self.fc2 = nn.Linear(hidden_dim, output_dim)\n",
    "\n",
    "    def forward(self, x):\n",
    "        x = torch.relu(self.fc1(x))\n",
    "        x = self.fc2(x)\n",
    "        return x\n",
    "\n",
    "\n",
    "def train(model):\n",
    "    model.train()\n",
    "    criterion = nn.CrossEntropyLoss()\n",
    "    optimizer = optim.Adam(model.parameters(), lr=0.001)\n",
    "\n",
    "    # Training loop with L1 regularization\n",
    "    lambda_l1 = 0.0001  # L1 regularization coefficient\n",
    "\n",
    "    validation_losses = []\n",
    "    epoch = 0\n",
    "\n",
    "    model_states = []\n",
    "\n",
    "    while True:\n",
    "        optimizer.zero_grad()\n",
    "        outputs = model(train_features_normalized)\n",
    "\n",
    "        loss = criterion(outputs, train_labels_tensor)\n",
    "\n",
    "        # Add L1 regularization\n",
    "        l1_reg = torch.tensor(0.0, requires_grad=True)\n",
    "        for param in model.parameters():\n",
    "            l1_reg = l1_reg + torch.norm(param, 1)\n",
    "        loss += lambda_l1 * l1_reg\n",
    "\n",
    "        loss.backward()\n",
    "        optimizer.step()\n",
    "\n",
    "        # Print progress\n",
    "        if (epoch + 1) % 100 == 0:\n",
    "            print(\n",
    "                f\"Epoch [{epoch + 1}], Loss: {loss.item():.4f}, validation loss: {validation_losses[-1]:.4f}\"\n",
    "            )\n",
    "\n",
    "        # store model state\n",
    "        model_states.append(model.state_dict())\n",
    "\n",
    "        # Compute validation loss\n",
    "        with torch.no_grad():\n",
    "            outputs = model(val_features_normalized)\n",
    "            loss = criterion(outputs, validation_labels_tensor)\n",
    "            validation_losses.append(loss.item())\n",
    "\n",
    "        # Check for early stopping if no improvement in validation loss in last 10 epochs\n",
    "        if epoch > 10 and validation_losses[-1] > validation_losses[-10]:\n",
    "            print(\"Early stopping\")\n",
    "            break\n",
    "\n",
    "        epoch += 1\n",
    "\n",
    "    best_model_state = model_states[np.argmin(validation_losses)]\n",
    "    model.load_state_dict(best_model_state)\n",
    "    validation_loss_of_best_model = validation_losses[np.argmin(validation_losses)]\n",
    "\n",
    "    return model, epoch, validation_loss_of_best_model"
   ]
  },
  {
   "cell_type": "markdown",
   "metadata": {},
   "source": [
    "## Let's create and train a model"
   ]
  },
  {
   "cell_type": "code",
   "execution_count": 18,
   "metadata": {},
   "outputs": [],
   "source": [
    "# Hyperparameters\n",
    "input_dim = train_features_normalized.shape[1]\n",
    "output_dim = len(set(train_labels))  # Assuming train_labels are class indices\n",
    "hidden_dim = (input_dim + output_dim) // 2\n",
    "\n",
    "# Instantiate the model\n",
    "model = SimpleNN(input_dim=input_dim, hidden_dim=hidden_dim, output_dim=output_dim)"
   ]
  },
  {
   "cell_type": "code",
   "execution_count": 19,
   "metadata": {},
   "outputs": [
    {
     "name": "stdout",
     "output_type": "stream",
     "text": [
      "Epoch [100], Loss: 1.6674, validation loss: 1.6664\n",
      "Epoch [200], Loss: 0.9882, validation loss: 0.9826\n",
      "Epoch [300], Loss: 0.6444, validation loss: 0.6358\n",
      "Epoch [400], Loss: 0.4973, validation loss: 0.4875\n",
      "Epoch [500], Loss: 0.4247, validation loss: 0.4148\n",
      "Epoch [600], Loss: 0.3842, validation loss: 0.3740\n",
      "Epoch [700], Loss: 0.3591, validation loss: 0.3488\n",
      "Epoch [800], Loss: 0.3424, validation loss: 0.3318\n",
      "Epoch [900], Loss: 0.3305, validation loss: 0.3197\n",
      "Epoch [1000], Loss: 0.3217, validation loss: 0.3106\n",
      "Epoch [1100], Loss: 0.3146, validation loss: 0.3035\n",
      "Epoch [1200], Loss: 0.3087, validation loss: 0.2977\n",
      "Epoch [1300], Loss: 0.3038, validation loss: 0.2929\n",
      "Epoch [1400], Loss: 0.2994, validation loss: 0.2887\n",
      "Epoch [1500], Loss: 0.2955, validation loss: 0.2850\n",
      "Epoch [1600], Loss: 0.2918, validation loss: 0.2816\n",
      "Epoch [1700], Loss: 0.2883, validation loss: 0.2783\n",
      "Epoch [1800], Loss: 0.2848, validation loss: 0.2751\n",
      "Epoch [1900], Loss: 0.2814, validation loss: 0.2717\n",
      "Epoch [2000], Loss: 0.2779, validation loss: 0.2682\n",
      "Epoch [2100], Loss: 0.2745, validation loss: 0.2647\n",
      "Epoch [2200], Loss: 0.2712, validation loss: 0.2611\n",
      "Epoch [2300], Loss: 0.2678, validation loss: 0.2574\n",
      "Epoch [2400], Loss: 0.2645, validation loss: 0.2537\n",
      "Epoch [2500], Loss: 0.2613, validation loss: 0.2503\n",
      "Epoch [2600], Loss: 0.2583, validation loss: 0.2470\n",
      "Epoch [2700], Loss: 0.2553, validation loss: 0.2438\n",
      "Epoch [2800], Loss: 0.2523, validation loss: 0.2406\n",
      "Epoch [2900], Loss: 0.2496, validation loss: 0.2376\n",
      "Epoch [3000], Loss: 0.2472, validation loss: 0.2350\n",
      "Epoch [3100], Loss: 0.2450, validation loss: 0.2328\n",
      "Epoch [3200], Loss: 0.2429, validation loss: 0.2307\n",
      "Epoch [3300], Loss: 0.2411, validation loss: 0.2288\n",
      "Epoch [3400], Loss: 0.2395, validation loss: 0.2271\n",
      "Epoch [3500], Loss: 0.2381, validation loss: 0.2257\n",
      "Epoch [3600], Loss: 0.2368, validation loss: 0.2243\n",
      "Epoch [3700], Loss: 0.2355, validation loss: 0.2228\n",
      "Epoch [3800], Loss: 0.2343, validation loss: 0.2215\n",
      "Epoch [3900], Loss: 0.2332, validation loss: 0.2202\n",
      "Epoch [4000], Loss: 0.2321, validation loss: 0.2189\n",
      "Epoch [4100], Loss: 0.2312, validation loss: 0.2178\n",
      "Epoch [4200], Loss: 0.2302, validation loss: 0.2166\n",
      "Epoch [4300], Loss: 0.2293, validation loss: 0.2156\n",
      "Epoch [4400], Loss: 0.2284, validation loss: 0.2145\n",
      "Epoch [4500], Loss: 0.2276, validation loss: 0.2134\n",
      "Epoch [4600], Loss: 0.2268, validation loss: 0.2125\n",
      "Epoch [4700], Loss: 0.2261, validation loss: 0.2117\n",
      "Epoch [4800], Loss: 0.2253, validation loss: 0.2107\n",
      "Epoch [4900], Loss: 0.2247, validation loss: 0.2101\n",
      "Epoch [5000], Loss: 0.2240, validation loss: 0.2094\n",
      "Epoch [5100], Loss: 0.2233, validation loss: 0.2089\n",
      "Epoch [5200], Loss: 0.2227, validation loss: 0.2085\n",
      "Epoch [5300], Loss: 0.2221, validation loss: 0.2080\n",
      "Epoch [5400], Loss: 0.2216, validation loss: 0.2076\n",
      "Early stopping\n"
     ]
    }
   ],
   "source": [
    "# Train the model\n",
    "model, epochs, val_loss = train(model)"
   ]
  },
  {
   "cell_type": "code",
   "execution_count": 20,
   "metadata": {},
   "outputs": [
    {
     "name": "stdout",
     "output_type": "stream",
     "text": [
      "Accuracy: 0.938\n"
     ]
    },
    {
     "data": {
      "text/plain": [
       "0.938"
      ]
     },
     "execution_count": 20,
     "metadata": {},
     "output_type": "execute_result"
    }
   ],
   "source": [
    "evaluate_model(model)"
   ]
  },
  {
   "cell_type": "markdown",
   "metadata": {},
   "source": [
    "## Let's prune the model"
   ]
  },
  {
   "cell_type": "code",
   "execution_count": 21,
   "metadata": {},
   "outputs": [],
   "source": [
    "def prune_pytorch_network(\n",
    "    model, weight_threshold=1e-1, bias_threshold=1e-1\n",
    "):  # noqa: D103\n",
    "    num_weights = 0\n",
    "    num_weights_already_zero = 0\n",
    "    num_changed_weights = 0\n",
    "    num_biases = 0\n",
    "    num_biases_already_zero = 0\n",
    "    num_changed_biases = 0\n",
    "\n",
    "    # Pruning the weights\n",
    "    for name, param in model.named_parameters():\n",
    "        if \"weight\" in name:\n",
    "            flattened_weights = param.data.view(-1)\n",
    "            for j, weight in enumerate(flattened_weights):\n",
    "                if weight == 0:\n",
    "                    num_weights_already_zero += 1\n",
    "                elif abs(weight) < weight_threshold:\n",
    "                    flattened_weights[j] = 0\n",
    "                    num_changed_weights += 1\n",
    "                num_weights += 1\n",
    "            param.data = flattened_weights.view(param.data.shape)\n",
    "        elif \"bias\" in name:\n",
    "            flattened_biases = param.data.view(-1)\n",
    "            for j, bias in enumerate(flattened_biases):\n",
    "                if bias == 0:\n",
    "                    num_biases_already_zero += 1\n",
    "                elif abs(bias) < bias_threshold:\n",
    "                    flattened_biases[j] = 0\n",
    "                    num_changed_biases += 1\n",
    "                num_biases += 1\n",
    "            param.data = flattened_biases.view(param.data.shape)\n",
    "\n",
    "    # Set gradients of pruned weights to zero\n",
    "    def zero_gradients_hook(grad):\n",
    "        return grad * (grad != 0)\n",
    "\n",
    "    hooks = []\n",
    "    for name, param in model.named_parameters():\n",
    "        if \"weight\" in name or \"bias\" in name:\n",
    "            hooks.append(param.register_hook(zero_gradients_hook))\n",
    "\n",
    "    print(f\"Number of weight parameters: {num_weights}\")  # noqa: T201\n",
    "    print(f\"Number of weights already zero: {num_weights_already_zero}\")  # noqa: T201\n",
    "    print(f\"Number of changed weight parameters: {num_changed_weights}\")  # noqa: T201\n",
    "    print(f\"Number of bias parameters: {num_biases}\")  # noqa: T201\n",
    "    print(f\"Number of biases already zero: {num_biases_already_zero}\")  # noqa: T201\n",
    "    print(f\"Number of changed bias parameters: {num_changed_biases}\")  # noqa: T201\n",
    "    print(  # noqa: T201\n",
    "        f\"Percentage of weights pruned: {num_changed_weights / num_weights * 100:.2f}%\"\n",
    "    )\n",
    "    print(  # noqa: T201\n",
    "        f\"Percentage of biases pruned: {num_changed_biases / num_biases * 100:.2f}%\"\n",
    "    )\n",
    "    print(  # noqa: T201\n",
    "        f\"Remaining number of non-zero weights: {num_weights - num_changed_weights}\"\n",
    "    )\n",
    "    print(  # noqa: T201\n",
    "        f\"Remaining number of non-zero biases: {num_biases - num_changed_biases}\"\n",
    "    )\n",
    "\n",
    "    return model, hooks"
   ]
  },
  {
   "cell_type": "code",
   "execution_count": 22,
   "metadata": {},
   "outputs": [
    {
     "name": "stdout",
     "output_type": "stream",
     "text": [
      "Number of weight parameters: 450\n",
      "Number of weights already zero: 0\n",
      "Number of changed weight parameters: 103\n",
      "Number of bias parameters: 25\n",
      "Number of biases already zero: 0\n",
      "Number of changed bias parameters: 4\n",
      "Percentage of weights pruned: 22.89%\n",
      "Percentage of biases pruned: 16.00%\n",
      "Remaining number of non-zero weights: 347\n",
      "Remaining number of non-zero biases: 21\n",
      "Accuracy: 0.9377\n"
     ]
    }
   ],
   "source": [
    "import copy\n",
    "\n",
    "model_pruned = copy.deepcopy(model)\n",
    "model_pruned, hooks = prune_pytorch_network(model_pruned, 1e-1, 1e-1)\n",
    "\n",
    "_ = evaluate_model(model_pruned)"
   ]
  },
  {
   "cell_type": "markdown",
   "metadata": {},
   "source": [
    "## Let's have a loop of fine-tuning, pruning, and evaluating"
   ]
  },
  {
   "cell_type": "code",
   "execution_count": 23,
   "metadata": {},
   "outputs": [
    {
     "name": "stdout",
     "output_type": "stream",
     "text": [
      "Iteration 0\n",
      "Number of weight parameters: 450\n",
      "Number of weights already zero: 0\n",
      "Number of changed weight parameters: 103\n",
      "Number of bias parameters: 25\n",
      "Number of biases already zero: 0\n",
      "Number of changed bias parameters: 4\n",
      "Percentage of weights pruned: 22.89%\n",
      "Percentage of biases pruned: 16.00%\n",
      "Remaining number of non-zero weights: 347\n",
      "Remaining number of non-zero biases: 21\n",
      "Now training\n",
      "Epoch [100], Loss: 0.2208, validation loss: 0.2075\n",
      "Epoch [200], Loss: 0.2198, validation loss: 0.2066\n",
      "Epoch [300], Loss: 0.2190, validation loss: 0.2061\n",
      "Epoch [400], Loss: 0.2181, validation loss: 0.2055\n",
      "Early stopping\n",
      "Iteration 1\n",
      "Number of weight parameters: 450\n",
      "Number of weights already zero: 0\n",
      "Number of changed weight parameters: 112\n",
      "Number of bias parameters: 25\n",
      "Number of biases already zero: 0\n",
      "Number of changed bias parameters: 3\n",
      "Percentage of weights pruned: 24.89%\n",
      "Percentage of biases pruned: 12.00%\n",
      "Remaining number of non-zero weights: 338\n",
      "Remaining number of non-zero biases: 22\n",
      "Now training\n",
      "Early stopping\n",
      "Early stopping\n",
      "Accuracy: 0.9394\n"
     ]
    }
   ],
   "source": [
    "i = 0\n",
    "val_loss_new = val_loss\n",
    "model_to_prune = copy.deepcopy(model)\n",
    "\n",
    "while True:\n",
    "    print(f\"Iteration {i}\")\n",
    "    model_pruned = copy.deepcopy(model_to_prune)\n",
    "    model_pruned, _ = prune_pytorch_network(model_pruned, 1e-1, 1e-1)\n",
    "    val_loss_old = val_loss_new\n",
    "\n",
    "    model_to_prune = copy.deepcopy(model_pruned)\n",
    "    print(\"Now training\")\n",
    "    model_to_prune, _, val_loss_new = train(model_to_prune)\n",
    "\n",
    "    if val_loss_new > val_loss_old:\n",
    "        print(\"Early stopping\")\n",
    "        break\n",
    "\n",
    "    i += 1\n",
    "\n",
    "accuracy = evaluate_model(model_pruned)"
   ]
  },
  {
   "cell_type": "markdown",
   "metadata": {},
   "source": [
    "## Let's convert this model to a scikit-learn MLP model"
   ]
  },
  {
   "cell_type": "code",
   "execution_count": 24,
   "metadata": {},
   "outputs": [
    {
     "name": "stderr",
     "output_type": "stream",
     "text": [
      "/Users/kp/miniconda3/lib/python3.11/site-packages/sklearn/neural_network/_multilayer_perceptron.py:691: ConvergenceWarning: Stochastic Optimizer: Maximum iterations (1) reached and the optimization hasn't converged yet.\n",
      "  warnings.warn(\n"
     ]
    }
   ],
   "source": [
    "from sklearn.neural_network import MLPClassifier\n",
    "\n",
    "\n",
    "def pytorch_to_sklearn(pytorch_model):\n",
    "\n",
    "    # Extract weights and biases from PyTorch model\n",
    "    fc1_weight = pytorch_model.fc1.weight.data\n",
    "    fc1_bias = pytorch_model.fc1.bias.data\n",
    "    fc2_weight = pytorch_model.fc2.weight.data\n",
    "    fc2_bias = pytorch_model.fc2.bias.data\n",
    "\n",
    "    # Get the sizes for initialization\n",
    "    input_size = fc1_weight.shape[1]\n",
    "    hidden_size = fc1_weight.shape[0]\n",
    "    output_size = fc2_weight.shape[0]\n",
    "\n",
    "    # Initialize sklearn MLP\n",
    "    sklearn_mlp = MLPClassifier(\n",
    "        hidden_layer_sizes=(hidden_size,), activation=\"relu\", max_iter=1\n",
    "    )\n",
    "\n",
    "    # To ensure the model doesn't change the weights during the dummy fit, we set warm_start=True\n",
    "    sklearn_mlp.warm_start = True\n",
    "\n",
    "    # Dummy fit to initialize weights (necessary step before setting the weights)\n",
    "    sklearn_mlp.fit(np.zeros((output_size, input_size)), list(range(output_size)))\n",
    "\n",
    "    # Set the weights and biases\n",
    "    sklearn_mlp.coefs_[0] = fc1_weight.t().numpy()\n",
    "    sklearn_mlp.intercepts_[0] = fc1_bias.numpy()\n",
    "    sklearn_mlp.coefs_[1] = fc2_weight.t().numpy()\n",
    "    sklearn_mlp.intercepts_[1] = fc2_bias.numpy()\n",
    "\n",
    "    return sklearn_mlp\n",
    "\n",
    "\n",
    "# Convert the example PyTorch MLP to sklearn MLP\n",
    "converted_model = pytorch_to_sklearn(model_pruned)"
   ]
  },
  {
   "cell_type": "code",
   "execution_count": 25,
   "metadata": {},
   "outputs": [
    {
     "name": "stdout",
     "output_type": "stream",
     "text": [
      "Accuracy: 0.9394\n",
      "Number of neurons per layer: [20, 15, 10]\n"
     ]
    }
   ],
   "source": [
    "# Evaluate the sklearn model\n",
    "accuracy = converted_model.score(test_features_normalized.numpy(), test_labels)\n",
    "print(\"Accuracy:\", accuracy)\n",
    "\n",
    "layers_sizes = [converted_model.coefs_[0].shape[0]] + [\n",
    "    coef.shape[1] for coef in converted_model.coefs_\n",
    "]\n",
    "\n",
    "print(\"Number of neurons per layer:\", layers_sizes)"
   ]
  },
  {
   "cell_type": "markdown",
   "metadata": {},
   "source": [
    "## Let's transpile this model to Leo"
   ]
  },
  {
   "cell_type": "code",
   "execution_count": 26,
   "metadata": {},
   "outputs": [
    {
     "name": "stdout",
     "output_type": "stream",
     "text": [
      "<class 'sklearn.neural_network._multilayer_perceptron.MLPClassifier'>\n",
      "Constraints: 201491\n",
      "Runtime for one instance: 1.7962210178375244 seconds\n",
      "Leo accuracy: 74.0 %\n",
      "Python accuracy: 74.0 %\n"
     ]
    }
   ],
   "source": [
    "from zkml import LeoTranspiler\n",
    "\n",
    "# Transpile the deceision tree into Leo code\n",
    "print(type(converted_model))\n",
    "lt = LeoTranspiler(\n",
    "    model=converted_model, validation_data=train_features_normalized[0:600].numpy()\n",
    ")\n",
    "leo_project_path = os.path.join(os.getcwd(), \"/tmp/mnist\")\n",
    "leo_project_name = \"sklearn_mlp_mnist_1\"\n",
    "lt.to_leo(\n",
    "    path=leo_project_path, project_name=leo_project_name, fixed_point_scaling_factor=16\n",
    ")\n",
    "\n",
    "# Compute the accuracy of the Leo program and the Python program on the test set\n",
    "num_test_samples = len(test_features)\n",
    "\n",
    "# let's limit the number of test stamples to 10 to make the computation faster\n",
    "num_test_samples = min(num_test_samples, 50)\n",
    "\n",
    "python_predictions = converted_model.predict(test_features)\n",
    "\n",
    "leo_predictions = np.zeros(num_test_samples)\n",
    "for i in range(num_test_samples):\n",
    "    lc = lt.run(input=test_features[i])\n",
    "    leo_predictions[i] = np.argmax(lc.output_decimal)\n",
    "\n",
    "print(f\"Constraints: {lc.circuit_constraints}\")\n",
    "print(f\"Runtime for one instance: {lc.runtime} seconds\")\n",
    "\n",
    "leo_accuracy = (\n",
    "    np.sum(leo_predictions[0:num_test_samples] == test_labels[0:num_test_samples])\n",
    "    / num_test_samples\n",
    ")\n",
    "python_accuracy = (\n",
    "    np.sum(python_predictions[0:num_test_samples] == test_labels[0:num_test_samples])\n",
    "    / num_test_samples\n",
    ")\n",
    "\n",
    "print(f\"Leo accuracy: {100*leo_accuracy} %\")\n",
    "print(f\"Python accuracy: {100*python_accuracy} %\")"
   ]
  },
  {
   "cell_type": "markdown",
   "metadata": {},
   "source": [
    "## Let's generate a proof"
   ]
  },
  {
   "cell_type": "code",
   "execution_count": 27,
   "metadata": {},
   "outputs": [
    {
     "name": "stdout",
     "output_type": "stream",
     "text": [
      "Constraints: 201491\n",
      "Runtime for one instance: 15.774071216583252 seconds\n",
      "\n",
      "Leo prediction: [-2015.02587890625, -1571.911376953125, 1426.609130859375, 1412.776123046875, -8980.85546875, -2928.00244140625, -8780.64306640625, 5337.92138671875, 1679.63037109375, 271.654296875]\n",
      "Python prediction: 7\n",
      "True label: 7\n",
      "\n",
      "Proof: proof1qqqsqqqqqqqqqqqpqqqqqqqqqqqy5xmjz74ut3c2uplnf7ych7jvf4zy8nunyq9t6pftrrgxegmrvn6s5s52k4rlq3j4qx03j0ddnpypqy46tmkdmxwggr7ycma9f6jynurpr8w0nv5n4eye3ztqpe5xuqkar236mnxdsqec4ahskelj9akrxqpr8puhzp25mjkh3uap9g25uu7helvz39an8tfaxqcclu64je8km9ht2nmyqgst4vcjl2yakwjdtzqydd078h04r67hh726u877zyujs5e0fnae8t0fqyjxrx98kxhgu7n4xykyar5e3w22npvhe2qg5dvqspru8ysug5zfk2xszaan80lxdj28cngzss8pd923d92r4avgywzkwuqk59vmsc55w6e3k9cp2f6sqdfj28ta3s4m5uf3vl6ehfuyxq4mpgrv5w0ktqs24xppfa8rywaelxsphwuummpl385ta9qexdcmq92f7gmch7w288l9ppht9sppare24w9mjqnmpshanq5txy3k4t4capgsdvcj04nlfu4zkscekwcfvqrymatqm9lyu0c3g8htzq9k5fzqsrzm24k5jnjmc6w03e5jejc9n0xv3l8c998nesshuvuz2z2gwzqs5mj3830xc42vv0hhg7wxcmyts7td65j3wgxqdmrsjq2wvvrtxuvmt5t49e5s4cyfaqrwrgfdr9yqucsdj9xaunphfs0hpxahz3jfjvt59vuv4ym2rsruf93c09vtavqd0z2sepf0c90myaxy72qawwkm0pwt3w0cmu9m0yfvunvgju65gp5zxlttvu5rfrkweccfrxwxrhew7dntdfvkj5tft3zgk89tu9pmqwdgj706zx0cd95n984f2rlu6gu74lavgh45d7aay3tgafg2wx73zyupftfgdyd4204kfgrnpetqpkxqhx5yxg7vmq3arsl3feufmlcwd4l4zmgsmv40wpetdmjqjasnhhvkey5jresq9wk26zu398pk0vysf80k9z4ep7sjtraccx8zl6s9x68zq3yasy8lxshwh7fs4mwfvzn3yku7yc8lxqnwvtkwlf574vm3739z2npvvztvj63n3g67vh4gp035hmxsgajd0alatkdvsvy5n776jky9y8nsq2fjw9x9xknmxkcsdtydhj20jv4x0qjec058dhkcxttv8zvjaaxhhawwaqe0ka4222qdqvqqqqqqqqqqq6lxex0v4m5y24wyfe2c6h6d3pnug8025k7ngt8zlafmhpz3lf407pjzvhry2r3cyp77zrhxr2ddsyqqa6u6qejf63y54epg9nv02m8lzh3ygg3lvhjftl84ntny4ysjm936edplktejvegwz0yls4d8pg5pqy3naeqxug55rh5uuk3yha9q679jhmvygrnxlkvg3rfgrapet6fs99ndwte93ymusxe4yeg39gcjdl9p70h2z4ffw2nun7kt3mseady844n9f3stxmkyqxu8t72jh0ytqqqqptq77d\n"
     ]
    }
   ],
   "source": [
    "zkp = lt.execute(input=test_features[0])\n",
    "\n",
    "print(f\"Constraints: {zkp.circuit_constraints}\")\n",
    "print(f\"Runtime for one instance: {zkp.runtime} seconds\\n\")\n",
    "\n",
    "print(f\"Leo prediction: {zkp.output_decimal}\")\n",
    "print(f\"Python prediction: {python_predictions[0]}\")\n",
    "print(f\"True label: {test_labels[0]}\\n\")\n",
    "\n",
    "print(f\"Proof: {zkp.proof}\")"
   ]
  },
  {
   "cell_type": "code",
   "execution_count": 28,
   "metadata": {},
   "outputs": [
    {
     "name": "stdout",
     "output_type": "stream",
     "text": [
      "Plot the image\n"
     ]
    },
    {
     "data": {
      "image/png": "[encoded data removed]",
      "text/plain": [
       "<Figure size 640x480 with 1 Axes>"
      ]
     },
     "metadata": {},
     "output_type": "display_data"
    }
   ],
   "source": [
    "print(\"Plot the image\")\n",
    "plt.imshow(test_images_tensor[0].reshape(28, 28), cmap=\"gray\")\n",
    "plt.show()"
   ]
  }
 ],
 "metadata": {
  "kernelspec": {
   "display_name": "Python 3",
   "language": "python",
   "name": "python3"
  },
  "language_info": {
   "codemirror_mode": {
    "name": "ipython",
    "version": 3
   },
   "file_extension": ".py",
   "mimetype": "text/x-python",
   "name": "python",
   "nbconvert_exporter": "python",
   "pygments_lexer": "ipython3",
   "version": "3.11.4"
  },
  "orig_nbformat": 4
 },
 "nbformat": 4,
 "nbformat_minor": 2
}
