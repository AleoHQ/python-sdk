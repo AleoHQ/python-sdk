{
 "cells": [
  {
   "cell_type": "code",
   "execution_count": 2,
   "metadata": {},
   "outputs": [
    {
     "name": "stdout",
     "output_type": "stream",
     "text": [
      "train-images-idx3-ubyte.gz already exists.\n",
      "train-labels-idx1-ubyte.gz already exists.\n",
      "t10k-images-idx3-ubyte.gz already exists.\n",
      "t10k-labels-idx1-ubyte.gz already exists.\n",
      "Shape of train_images: (60000, 28, 28)\n",
      "Shape of train_labels: (60000,)\n",
      "Shape of test_images: (10000, 28, 28)\n",
      "Shape of test_labels: (10000,)\n"
     ]
    }
   ],
   "source": [
    "# flake8: noqa: E302\n",
    "\n",
    "import gzip\n",
    "import os\n",
    "import shutil\n",
    "\n",
    "import requests\n",
    "\n",
    "\n",
    "def download_and_extract_dataset(url, save_path, folder_path):\n",
    "    \"\"\"Download and extract dataset if it doesn't exist.\"\"\"\n",
    "    if not os.path.exists(save_path):\n",
    "        print(f\"Downloading {os.path.basename(save_path)}...\")\n",
    "        response = requests.get(url)\n",
    "        with open(save_path, \"wb\") as file:\n",
    "            file.write(response.content)\n",
    "\n",
    "        decompressed_file_name = os.path.splitext(os.path.basename(save_path))[0]\n",
    "        decompressed_file_path = os.path.join(folder_path, decompressed_file_name)\n",
    "\n",
    "        with gzip.open(save_path, \"rb\") as f_in:\n",
    "            with open(decompressed_file_path, \"wb\") as f_out:\n",
    "                shutil.copyfileobj(f_in, f_out)\n",
    "\n",
    "        print(f\"{decompressed_file_name} downloaded and extracted.\")\n",
    "    else:\n",
    "        print(f\"{os.path.basename(save_path)} already exists.\")\n",
    "\n",
    "\n",
    "file_info = [\n",
    "    (\n",
    "        \"http://yann.lecun.com/exdb/mnist/train-images-idx3-ubyte.gz\",\n",
    "        \"train-images-idx3-ubyte.gz\",\n",
    "    ),\n",
    "    (\n",
    "        \"http://yann.lecun.com/exdb/mnist/train-labels-idx1-ubyte.gz\",\n",
    "        \"train-labels-idx1-ubyte.gz\",\n",
    "    ),\n",
    "    (\n",
    "        \"http://yann.lecun.com/exdb/mnist/t10k-images-idx3-ubyte.gz\",\n",
    "        \"t10k-images-idx3-ubyte.gz\",\n",
    "    ),\n",
    "    (\n",
    "        \"http://yann.lecun.com/exdb/mnist/t10k-labels-idx1-ubyte.gz\",\n",
    "        \"t10k-labels-idx1-ubyte.gz\",\n",
    "    ),\n",
    "]\n",
    "\n",
    "folder_name = \"tmp/mnist\"\n",
    "folder_path = os.path.join(os.getcwd(), folder_name)\n",
    "\n",
    "os.makedirs(folder_path, exist_ok=True)  # Create folder if it doesn't exist\n",
    "\n",
    "# Download and extract each file\n",
    "for url, file_name in file_info:\n",
    "    path_to_save = os.path.join(folder_path, file_name)\n",
    "    download_and_extract_dataset(url, path_to_save, folder_path)\n",
    "\n",
    "# %%\n",
    "import numpy as np\n",
    "\n",
    "\n",
    "def read_idx3_ubyte_image_file(filename):\n",
    "    \"\"\"Read IDX3-ubyte formatted image data.\"\"\"\n",
    "    with open(filename, \"rb\") as f:\n",
    "        magic_num = int.from_bytes(f.read(4), byteorder=\"big\")\n",
    "        num_images = int.from_bytes(f.read(4), byteorder=\"big\")\n",
    "        num_rows = int.from_bytes(f.read(4), byteorder=\"big\")\n",
    "        num_cols = int.from_bytes(f.read(4), byteorder=\"big\")\n",
    "\n",
    "        if magic_num != 2051:\n",
    "            raise ValueError(f\"Invalid magic number: {magic_num}\")\n",
    "\n",
    "        images = np.zeros((num_images, num_rows, num_cols), dtype=np.uint8)\n",
    "\n",
    "        for i in range(num_images):\n",
    "            for r in range(num_rows):\n",
    "                for c in range(num_cols):\n",
    "                    pixel = int.from_bytes(f.read(1), byteorder=\"big\")\n",
    "                    images[i, r, c] = pixel\n",
    "\n",
    "    return images\n",
    "\n",
    "\n",
    "def read_idx1_ubyte_label_file(filename):\n",
    "    \"\"\"Read IDX1-ubyte formatted label data.\"\"\"\n",
    "    with open(filename, \"rb\") as f:\n",
    "        magic_num = int.from_bytes(f.read(4), byteorder=\"big\")\n",
    "        num_labels = int.from_bytes(f.read(4), byteorder=\"big\")\n",
    "\n",
    "        if magic_num != 2049:\n",
    "            raise ValueError(f\"Invalid magic number: {magic_num}\")\n",
    "\n",
    "        labels = np.zeros(num_labels, dtype=np.uint8)\n",
    "\n",
    "        for i in range(num_labels):\n",
    "            labels[i] = int.from_bytes(f.read(1), byteorder=\"big\")\n",
    "\n",
    "    return labels\n",
    "\n",
    "\n",
    "# Example usage\n",
    "folder_path = os.path.join(\n",
    "    os.getcwd(), folder_name\n",
    ")  # Adjust this path to where you stored the files\n",
    "\n",
    "train_images = read_idx3_ubyte_image_file(\n",
    "    os.path.join(folder_path, \"train-images-idx3-ubyte\")\n",
    ")\n",
    "train_labels = read_idx1_ubyte_label_file(\n",
    "    os.path.join(folder_path, \"train-labels-idx1-ubyte\")\n",
    ")\n",
    "test_images = read_idx3_ubyte_image_file(\n",
    "    os.path.join(folder_path, \"t10k-images-idx3-ubyte\")\n",
    ")\n",
    "test_labels = read_idx1_ubyte_label_file(\n",
    "    os.path.join(folder_path, \"t10k-labels-idx1-ubyte\")\n",
    ")\n",
    "\n",
    "print(\n",
    "    f\"Shape of train_images: {train_images.shape}\"\n",
    ")  # Should output \"Shape of train_images: (60000, 28, 28)\"\n",
    "print(\n",
    "    f\"Shape of train_labels: {train_labels.shape}\"\n",
    ")  # Should output \"Shape of train_labels: (60000,)\"\n",
    "print(\n",
    "    f\"Shape of test_images: {test_images.shape}\"\n",
    ")  # Should output \"Shape of test_images: (10000, 28, 28)\"\n",
    "print(\n",
    "    f\"Shape of test_labels: {test_labels.shape}\"\n",
    ")  # Should output \"Shape of test_labels: (10000,)\"\n",
    "\n",
    "# %%\n",
    "# Reshape the datasets from 3D to 2D\n",
    "train_images_2d = train_images.reshape(\n",
    "    train_images.shape[0], -1\n",
    ")  # -1 infers the size from the remaining dimensions\n",
    "test_images_2d = test_images.reshape(test_images.shape[0], -1)"
   ]
  },
  {
   "cell_type": "code",
   "execution_count": 3,
   "metadata": {},
   "outputs": [],
   "source": [
    "# conver to pytorch tensors\n",
    "import torch\n",
    "\n",
    "train_images_tensor_initial = torch.from_numpy(train_images_2d).float()\n",
    "train_labels_tensor_initial = torch.from_numpy(train_labels).long()\n",
    "test_images_tensor = torch.from_numpy(test_images_2d).float()\n",
    "test_labels_tensor = torch.from_numpy(test_labels).long()\n",
    "\n",
    "# seed the random number generator\n",
    "torch.manual_seed(0)\n",
    "\n",
    "# shuffle the training dataset\n",
    "indices = torch.randperm(train_images_tensor_initial.shape[0])\n",
    "train_images_tensor_shuffled = train_images_tensor_initial[indices]\n",
    "train_labels_tensor_shuffled = train_labels_tensor_initial[indices]\n",
    "\n",
    "# get a 10% validation set\n",
    "validation_size = int(train_images_tensor_shuffled.shape[0] * 0.1)\n",
    "validation_images_tensor = train_images_tensor_shuffled[:validation_size]\n",
    "validation_labels_tensor = train_labels_tensor_shuffled[:validation_size]\n",
    "train_images_tensor = train_images_tensor_shuffled[validation_size:]\n",
    "train_labels_tensor = train_labels_tensor_shuffled[validation_size:]"
   ]
  },
  {
   "cell_type": "code",
   "execution_count": 4,
   "metadata": {},
   "outputs": [
    {
     "name": "stdout",
     "output_type": "stream",
     "text": [
      "torch.Size([54000])\n",
      "torch.Size([6000])\n",
      "torch.Size([60000])\n",
      "torch.Size([60000])\n",
      "6000\n"
     ]
    }
   ],
   "source": [
    "print(train_labels_tensor.shape)\n",
    "print(validation_labels_tensor.shape)\n",
    "print(train_labels_tensor_initial.shape)\n",
    "print(train_labels_tensor_shuffled.shape)\n",
    "print(validation_size)"
   ]
  },
  {
   "cell_type": "code",
   "execution_count": 5,
   "metadata": {},
   "outputs": [
    {
     "name": "stdout",
     "output_type": "stream",
     "text": [
      "Initial training labels size: 60000\n",
      "Validation set size: 6000\n",
      "Validation labels size after split: 6000\n",
      "Training labels size after split: 54000\n"
     ]
    }
   ],
   "source": [
    "print(\"Initial training labels size:\", train_labels_tensor_initial.shape[0])\n",
    "print(\"Validation set size:\", validation_size)\n",
    "print(\"Validation labels size after split:\", validation_labels_tensor.shape[0])\n",
    "print(\"Training labels size after split:\", train_labels_tensor.shape[0])"
   ]
  },
  {
   "cell_type": "markdown",
   "metadata": {},
   "source": [
    "## Plot an image"
   ]
  },
  {
   "cell_type": "code",
   "execution_count": 6,
   "metadata": {},
   "outputs": [
    {
     "data": {
      "image/png": "[encoded data removed]",
      "text/plain": [
       "<Figure size 640x480 with 1 Axes>"
      ]
     },
     "metadata": {},
     "output_type": "display_data"
    },
    {
     "name": "stdout",
     "output_type": "stream",
     "text": [
      "Image shape torch.Size([28, 28])\n",
      "Label tensor(0)\n"
     ]
    }
   ],
   "source": [
    "image_id = 0\n",
    "\n",
    "image = train_images_tensor[image_id].reshape(28, 28)\n",
    "\n",
    "import matplotlib.pyplot as plt\n",
    "\n",
    "plt.imshow(image, cmap=\"gray\")\n",
    "plt.show()\n",
    "\n",
    "print(\"Image shape\", image.shape)\n",
    "\n",
    "print(\"Label\", train_labels_tensor[image_id])"
   ]
  },
  {
   "cell_type": "markdown",
   "metadata": {},
   "source": [
    "## Get a bounding box of the image"
   ]
  },
  {
   "cell_type": "code",
   "execution_count": 7,
   "metadata": {},
   "outputs": [],
   "source": [
    "import numpy as np\n",
    "\n",
    "\n",
    "def get_bounding_box(img):\n",
    "    \"\"\"\n",
    "    Extract the bounding box from an MNIST image.\n",
    "\n",
    "    Args:\n",
    "        img (np.ndarray): 2D numpy array representing the MNIST image.\n",
    "\n",
    "    Returns:\n",
    "        (np.ndarray): Cropped image with the bounding box.\n",
    "    \"\"\"\n",
    "\n",
    "    # convert torch image to numpy array\n",
    "    img = img.numpy()\n",
    "\n",
    "    # Find the rows and columns where the image has non-zero pixels\n",
    "    rows = np.any(img, axis=1)\n",
    "    cols = np.any(img, axis=0)\n",
    "\n",
    "    # Find the first and last row and column indices where the image has non-zero pixels\n",
    "    rmin, rmax = np.where(rows)[0][[0, -1]]\n",
    "    cmin, cmax = np.where(cols)[0][[0, -1]]\n",
    "\n",
    "    # Return the cropped image\n",
    "    return img[rmin : rmax + 1, cmin : cmax + 1]"
   ]
  },
  {
   "cell_type": "code",
   "execution_count": 8,
   "metadata": {},
   "outputs": [
    {
     "data": {
      "image/png": "[encoded data removed]",
      "text/plain": [
       "<Figure size 640x480 with 1 Axes>"
      ]
     },
     "metadata": {},
     "output_type": "display_data"
    },
    {
     "name": "stdout",
     "output_type": "stream",
     "text": [
      "Image shape (20, 14)\n",
      "Label tensor(0)\n"
     ]
    }
   ],
   "source": [
    "image = train_images_tensor[image_id].reshape(28, 28)\n",
    "cropped_image = get_bounding_box(image)\n",
    "\n",
    "plt.imshow(cropped_image, cmap=\"gray\")\n",
    "plt.show()\n",
    "\n",
    "print(\"Image shape\", cropped_image.shape)\n",
    "\n",
    "print(\"Label\", train_labels_tensor[image_id])"
   ]
  },
  {
   "cell_type": "markdown",
   "metadata": {},
   "source": [
    "## Make the image quadratic (20x20)"
   ]
  },
  {
   "cell_type": "code",
   "execution_count": 9,
   "metadata": {},
   "outputs": [],
   "source": [
    "import cv2\n",
    "\n",
    "cropped_image_uint8 = np.clip(cropped_image, 0, 255).astype(np.uint8)\n",
    "resized_image = cv2.resize(cropped_image_uint8, (20, 20), interpolation=cv2.INTER_AREA)"
   ]
  },
  {
   "cell_type": "code",
   "execution_count": 10,
   "metadata": {},
   "outputs": [
    {
     "data": {
      "image/png": "[encoded data removed]",
      "text/plain": [
       "<Figure size 640x480 with 1 Axes>"
      ]
     },
     "metadata": {},
     "output_type": "display_data"
    },
    {
     "name": "stdout",
     "output_type": "stream",
     "text": [
      "Image shape (20, 20)\n",
      "Label tensor(0)\n"
     ]
    }
   ],
   "source": [
    "plt.imshow(resized_image, cmap=\"gray\")\n",
    "plt.show()\n",
    "\n",
    "print(\"Image shape\", resized_image.shape)\n",
    "\n",
    "print(\"Label\", train_labels_tensor[image_id])"
   ]
  },
  {
   "cell_type": "markdown",
   "metadata": {},
   "source": [
    "## Create a reshaped image dataset"
   ]
  },
  {
   "cell_type": "code",
   "execution_count": 11,
   "metadata": {},
   "outputs": [],
   "source": [
    "num_train = len(train_images_tensor)\n",
    "\n",
    "train_images_tensor_resized = np.zeros((num_train, 400))\n",
    "\n",
    "for i in range(num_train):\n",
    "    cropped_image = get_bounding_box(train_images_tensor[i].reshape(28, 28))\n",
    "    cropped_image_uint8 = np.clip(cropped_image, 0, 255).astype(np.uint8)\n",
    "    resized_image = cv2.resize(\n",
    "        cropped_image_uint8, (20, 20), interpolation=cv2.INTER_AREA\n",
    "    )\n",
    "    train_images_tensor_resized[i, :] = resized_image.flatten()\n",
    "\n",
    "num_test = len(test_images_tensor)\n",
    "\n",
    "num_val = len(validation_images_tensor)\n",
    "\n",
    "validation_images_tensor_resized = np.zeros((num_val, 400))\n",
    "\n",
    "for i in range(num_val):\n",
    "    cropped_image = get_bounding_box(validation_images_tensor[i].reshape(28, 28))\n",
    "    cropped_image_uint8 = np.clip(cropped_image, 0, 255).astype(np.uint8)\n",
    "    resized_image = cv2.resize(\n",
    "        cropped_image_uint8, (20, 20), interpolation=cv2.INTER_AREA\n",
    "    )\n",
    "    validation_images_tensor_resized[i, :] = resized_image.flatten()\n",
    "\n",
    "num_test = len(test_images_tensor)\n",
    "\n",
    "test_images_tensor_resized = np.zeros((num_test, 400))\n",
    "\n",
    "for i in range(num_test):\n",
    "    cropped_image = get_bounding_box(test_images_tensor[i].reshape(28, 28))\n",
    "    cropped_image_uint8 = np.clip(cropped_image, 0, 255).astype(np.uint8)\n",
    "    resized_image = cv2.resize(\n",
    "        cropped_image_uint8, (20, 20), interpolation=cv2.INTER_AREA\n",
    "    )\n",
    "    test_images_tensor_resized[i, :] = resized_image.flatten()"
   ]
  },
  {
   "cell_type": "markdown",
   "metadata": {},
   "source": [
    "## Normalize all datasets"
   ]
  },
  {
   "cell_type": "code",
   "execution_count": 12,
   "metadata": {},
   "outputs": [],
   "source": [
    "from sklearn.preprocessing import StandardScaler\n",
    "\n",
    "scaler = StandardScaler()\n",
    "train_features_normalized = torch.tensor(scaler.fit_transform(train_images_tensor))\n",
    "val_features_normalized = torch.tensor(scaler.transform(validation_images_tensor))\n",
    "test_features_normalized = torch.tensor(scaler.transform(test_images_tensor))\n",
    "\n",
    "train_features_resized_normalized = torch.tensor(\n",
    "    scaler.fit_transform(train_images_tensor_resized)\n",
    ")\n",
    "val_features_resized_normalized = torch.tensor(\n",
    "    scaler.transform(validation_images_tensor_resized)\n",
    ")\n",
    "test_features_resized_normalized = torch.tensor(\n",
    "    scaler.transform(test_images_tensor_resized)\n",
    ")"
   ]
  },
  {
   "cell_type": "code",
   "execution_count": 13,
   "metadata": {},
   "outputs": [],
   "source": [
    "train_features_normalized = train_features_normalized.float()\n",
    "val_features_normalized = val_features_normalized.float()\n",
    "test_features_normalized = test_features_normalized.float()\n",
    "\n",
    "train_features_resized_normalized = train_features_resized_normalized.float()\n",
    "val_features_resized_normalized = val_features_resized_normalized.float()\n",
    "test_features_resized_normalized = test_features_resized_normalized.float()"
   ]
  },
  {
   "cell_type": "markdown",
   "metadata": {},
   "source": [
    "## Try out a medium-sized neural network"
   ]
  },
  {
   "cell_type": "code",
   "execution_count": 14,
   "metadata": {},
   "outputs": [],
   "source": [
    "# define code to measure accuracy\n",
    "\n",
    "import torch\n",
    "import torch.nn as nn\n",
    "import torch.optim as optim\n",
    "from sklearn.metrics import accuracy_score\n",
    "\n",
    "\n",
    "def evaluate_model(model, resized=False):\n",
    "    model.eval()  # Set the model to evaluation mode\n",
    "    with torch.no_grad():\n",
    "        if not resized:\n",
    "            test_outputs = model(test_features_normalized)\n",
    "        else:\n",
    "            test_outputs = model(test_features_resized_normalized)\n",
    "        _, predicted = torch.max(test_outputs.data, 1)\n",
    "        accuracy = accuracy_score(test_labels, predicted.numpy())\n",
    "        print(\"Accuracy:\", accuracy)\n",
    "        return accuracy"
   ]
  },
  {
   "cell_type": "code",
   "execution_count": 15,
   "metadata": {},
   "outputs": [
    {
     "name": "stdout",
     "output_type": "stream",
     "text": [
      "Epoch [100], Loss: 0.3660, validation loss: 0.1789\n",
      "Epoch [200], Loss: 0.2531, validation loss: 0.1344\n",
      "Epoch [300], Loss: 0.2079, validation loss: 0.1109\n",
      "Epoch [400], Loss: 0.1819, validation loss: 0.0982\n",
      "Epoch [500], Loss: 0.1642, validation loss: 0.0911\n",
      "Epoch [600], Loss: 0.1512, validation loss: 0.0869\n",
      "Epoch [700], Loss: 0.1409, validation loss: 0.0841\n",
      "Epoch [800], Loss: 0.1327, validation loss: 0.0821\n",
      "Epoch [900], Loss: 0.1259, validation loss: 0.0808\n",
      "Early stopping\n",
      "Accuracy: 0.979\n"
     ]
    },
    {
     "data": {
      "text/plain": [
       "0.979"
      ]
     },
     "execution_count": 15,
     "metadata": {},
     "output_type": "execute_result"
    }
   ],
   "source": [
    "# Define the PyTorch neural network\n",
    "class SimpleNN(nn.Module):\n",
    "    def __init__(self, input_dim, hidden_dim, output_dim):\n",
    "        super(SimpleNN, self).__init__()\n",
    "        self.fc1 = nn.Linear(input_dim, hidden_dim)\n",
    "        self.fc2 = nn.Linear(hidden_dim, output_dim)\n",
    "\n",
    "    def forward(self, x):\n",
    "        x = torch.relu(self.fc1(x))\n",
    "        x = self.fc2(x)\n",
    "        return x\n",
    "\n",
    "\n",
    "# Hyperparameters\n",
    "input_dim = train_features_normalized.shape[1]\n",
    "hidden_dim = 360\n",
    "output_dim = len(set(train_labels))  # Assuming train_labels are class indices\n",
    "\n",
    "# Instantiate the model\n",
    "model_medium = SimpleNN(\n",
    "    input_dim=input_dim, hidden_dim=hidden_dim, output_dim=output_dim\n",
    ")\n",
    "criterion = nn.CrossEntropyLoss()\n",
    "optimizer = optim.Adam(model_medium.parameters(), lr=0.001)\n",
    "\n",
    "# Training loop with L1 regularization\n",
    "lambda_l1 = 0.0001  # L1 regularization coefficient\n",
    "\n",
    "validation_losses = []\n",
    "epoch = 0\n",
    "\n",
    "model_states = []\n",
    "\n",
    "while True:\n",
    "    optimizer.zero_grad()\n",
    "    outputs = model_medium(train_features_normalized)\n",
    "\n",
    "    loss = criterion(outputs, train_labels_tensor)\n",
    "\n",
    "    # Add L1 regularization\n",
    "    l1_reg = torch.tensor(0.0, requires_grad=True)\n",
    "    for param in model_medium.parameters():\n",
    "        l1_reg = l1_reg + torch.norm(param, 1)\n",
    "    loss += lambda_l1 * l1_reg\n",
    "\n",
    "    loss.backward()\n",
    "    optimizer.step()\n",
    "\n",
    "    # Print progress\n",
    "    if (epoch + 1) % 100 == 0:\n",
    "        print(\n",
    "            f\"Epoch [{epoch + 1}], Loss: {loss.item():.4f}, validation loss: {validation_losses[-1]:.4f}\"\n",
    "        )\n",
    "\n",
    "    # store model state\n",
    "    model_states.append(model_medium.state_dict())\n",
    "\n",
    "    # Compute validation loss\n",
    "    with torch.no_grad():\n",
    "        outputs = model_medium(val_features_normalized)\n",
    "        loss = criterion(outputs, validation_labels_tensor)\n",
    "        validation_losses.append(loss.item())\n",
    "\n",
    "    # Check for early stopping if no improvement in validation loss in last 10 epochs\n",
    "    if epoch > 10 and validation_losses[-1] > validation_losses[-10]:\n",
    "        print(\"Early stopping\")\n",
    "        break\n",
    "\n",
    "    epoch += 1\n",
    "\n",
    "best_model_state = model_states[np.argmin(validation_losses)]\n",
    "model_medium.load_state_dict(best_model_state)\n",
    "\n",
    "evaluate_model(model_medium)"
   ]
  },
  {
   "cell_type": "code",
   "execution_count": 16,
   "metadata": {},
   "outputs": [
    {
     "name": "stdout",
     "output_type": "stream",
     "text": [
      "Epoch [100], Loss: 0.4016, validation loss: 0.1481\n",
      "Epoch [200], Loss: 0.2562, validation loss: 0.0993\n",
      "Epoch [300], Loss: 0.1861, validation loss: 0.0858\n",
      "Epoch [400], Loss: 0.1451, validation loss: 0.0830\n",
      "Early stopping\n",
      "Accuracy: 0.9794\n"
     ]
    },
    {
     "data": {
      "text/plain": [
       "0.9794"
      ]
     },
     "execution_count": 16,
     "metadata": {},
     "output_type": "execute_result"
    }
   ],
   "source": [
    "# Define the deeper PyTorch neural network\n",
    "class SimpleNN_deep(nn.Module):\n",
    "    def __init__(self, input_dim, hidden_dim1, hidden_dim2, output_dim):\n",
    "        super(SimpleNN_deep, self).__init__()\n",
    "        self.fc1 = nn.Linear(input_dim, hidden_dim1)\n",
    "        self.fc2 = nn.Linear(hidden_dim1, hidden_dim2)\n",
    "        self.fc3 = nn.Linear(hidden_dim2, output_dim)\n",
    "\n",
    "    def forward(self, x):\n",
    "        x = torch.relu(self.fc1(x))\n",
    "        x = torch.relu(self.fc2(x))\n",
    "        x = self.fc3(x)\n",
    "        return x\n",
    "\n",
    "\n",
    "# Hyperparameters\n",
    "input_dim = train_features_normalized.shape[1]\n",
    "output_dim = len(set(train_labels))  # Assuming train_labels are class indices\n",
    "\n",
    "# Instantiate the model\n",
    "model_deep = SimpleNN_deep(\n",
    "    input_dim=input_dim, hidden_dim1=360, hidden_dim2=180, output_dim=output_dim\n",
    ")\n",
    "criterion = nn.CrossEntropyLoss()\n",
    "optimizer = optim.Adam(model_deep.parameters(), lr=0.001)\n",
    "\n",
    "# Training loop with L1 regularization\n",
    "lambda_l1 = 0.0001  # L1 regularization coefficient\n",
    "\n",
    "validation_losses = []\n",
    "epoch = 0\n",
    "\n",
    "model_states = []\n",
    "\n",
    "while True:\n",
    "    optimizer.zero_grad()\n",
    "    outputs = model_deep(train_features_normalized)\n",
    "\n",
    "    loss = criterion(outputs, train_labels_tensor)\n",
    "\n",
    "    # Add L1 regularization\n",
    "    l1_reg = torch.tensor(0.0, requires_grad=True)\n",
    "    for param in model_deep.parameters():\n",
    "        l1_reg = l1_reg + torch.norm(param, 1)\n",
    "    loss += lambda_l1 * l1_reg\n",
    "\n",
    "    loss.backward()\n",
    "    optimizer.step()\n",
    "\n",
    "    # Print progress\n",
    "    if (epoch + 1) % 100 == 0:\n",
    "        print(\n",
    "            f\"Epoch [{epoch + 1}], Loss: {loss.item():.4f}, validation loss: {validation_losses[-1]:.4f}\"\n",
    "        )\n",
    "\n",
    "    # store model state\n",
    "    model_states.append(model_deep.state_dict())\n",
    "\n",
    "    # Compute validation loss\n",
    "    with torch.no_grad():\n",
    "        outputs = model_deep(val_features_normalized)\n",
    "        loss = criterion(outputs, validation_labels_tensor)\n",
    "        validation_losses.append(loss.item())\n",
    "\n",
    "    # Check for early stopping if no improvement in validation loss in last 10 epochs\n",
    "    if epoch > 10 and validation_losses[-1] > validation_losses[-10]:\n",
    "        print(\"Early stopping\")\n",
    "        break\n",
    "\n",
    "    epoch += 1\n",
    "\n",
    "best_model_state = model_states[np.argmin(validation_losses)]\n",
    "model_deep.load_state_dict(best_model_state)\n",
    "\n",
    "evaluate_model(model_deep)"
   ]
  },
  {
   "cell_type": "markdown",
   "metadata": {},
   "source": [
    "## Let's prune the networks"
   ]
  },
  {
   "cell_type": "code",
   "execution_count": 17,
   "metadata": {},
   "outputs": [
    {
     "name": "stdout",
     "output_type": "stream",
     "text": [
      "Number of weight parameters: 285840\n",
      "Number of changed weight parameters: 280334\n",
      "Number of bias parameters: 370\n",
      "Number of changed bias parameters: 334\n",
      "Percentage of weights pruned: 98.07%\n",
      "Percentage of biases pruned: 90.27%\n",
      "Remaining number of non-zero weights: 5506\n",
      "Remaining number of non-zero biases: 36\n",
      "Accuracy: 0.9757\n"
     ]
    },
    {
     "data": {
      "text/plain": [
       "0.9757"
      ]
     },
     "execution_count": 17,
     "metadata": {},
     "output_type": "execute_result"
    }
   ],
   "source": [
    "import copy\n",
    "\n",
    "from helper import prune_pytorch_network\n",
    "\n",
    "model_medium_pruned = copy.deepcopy(model_medium)\n",
    "model_medium_pruned = prune_pytorch_network(model_medium_pruned, 5e-2, 5e-2)\n",
    "\n",
    "evaluate_model(model_medium_pruned)"
   ]
  },
  {
   "cell_type": "code",
   "execution_count": 18,
   "metadata": {},
   "outputs": [
    {
     "name": "stdout",
     "output_type": "stream",
     "text": [
      "Number of weight parameters: 348840\n",
      "Number of changed weight parameters: 341472\n",
      "Number of bias parameters: 550\n",
      "Number of changed bias parameters: 507\n",
      "Percentage of weights pruned: 97.89%\n",
      "Percentage of biases pruned: 92.18%\n",
      "Remaining number of non-zero weights: 7368\n",
      "Remaining number of non-zero biases: 43\n",
      "Accuracy: 0.968\n"
     ]
    },
    {
     "data": {
      "text/plain": [
       "0.968"
      ]
     },
     "execution_count": 18,
     "metadata": {},
     "output_type": "execute_result"
    }
   ],
   "source": [
    "model_deep_pruned = copy.deepcopy(model_deep)\n",
    "model_deep_pruned = prune_pytorch_network(model_deep_pruned, 5e-2, 5e-2)\n",
    "\n",
    "evaluate_model(model_deep_pruned)"
   ]
  },
  {
   "cell_type": "markdown",
   "metadata": {},
   "source": [
    "## Let's try the resized images"
   ]
  },
  {
   "cell_type": "code",
   "execution_count": 19,
   "metadata": {},
   "outputs": [
    {
     "name": "stdout",
     "output_type": "stream",
     "text": [
      "Epoch [100], Loss: 0.3491, validation loss: 0.1727\n",
      "Epoch [200], Loss: 0.2511, validation loss: 0.1289\n",
      "Epoch [300], Loss: 0.2029, validation loss: 0.1054\n",
      "Epoch [400], Loss: 0.1755, validation loss: 0.0912\n",
      "Epoch [500], Loss: 0.1580, validation loss: 0.0822\n",
      "Epoch [600], Loss: 0.1459, validation loss: 0.0763\n",
      "Epoch [700], Loss: 0.1367, validation loss: 0.0725\n",
      "Epoch [800], Loss: 0.1293, validation loss: 0.0698\n",
      "Epoch [900], Loss: 0.1233, validation loss: 0.0681\n",
      "Epoch [1000], Loss: 0.1182, validation loss: 0.0666\n",
      "Epoch [1100], Loss: 0.1139, validation loss: 0.0653\n",
      "Epoch [1200], Loss: 0.1103, validation loss: 0.0644\n",
      "Early stopping\n",
      "Accuracy: 0.9815\n"
     ]
    },
    {
     "data": {
      "text/plain": [
       "0.9815"
      ]
     },
     "execution_count": 19,
     "metadata": {},
     "output_type": "execute_result"
    }
   ],
   "source": [
    "# Hyperparameters\n",
    "input_dim = train_features_resized_normalized.shape[1]\n",
    "hidden_dim = 205\n",
    "output_dim = len(set(train_labels))  # Assuming train_labels are class indices\n",
    "\n",
    "# Instantiate the model\n",
    "model_medium_resized_dataset = SimpleNN(\n",
    "    input_dim=input_dim, hidden_dim=hidden_dim, output_dim=output_dim\n",
    ")\n",
    "criterion = nn.CrossEntropyLoss()\n",
    "optimizer = optim.Adam(model_medium_resized_dataset.parameters(), lr=0.001)\n",
    "\n",
    "# Training loop with L1 regularization\n",
    "lambda_l1 = 0.0001  # L1 regularization coefficient\n",
    "\n",
    "validation_losses = []\n",
    "epoch = 0\n",
    "\n",
    "model_states = []\n",
    "\n",
    "while True:\n",
    "    optimizer.zero_grad()\n",
    "    outputs = model_medium_resized_dataset(train_features_resized_normalized)\n",
    "\n",
    "    loss = criterion(outputs, train_labels_tensor)\n",
    "\n",
    "    # Add L1 regularization\n",
    "    l1_reg = torch.tensor(0.0, requires_grad=True)\n",
    "    for param in model_medium_resized_dataset.parameters():\n",
    "        l1_reg = l1_reg + torch.norm(param, 1)\n",
    "    loss += lambda_l1 * l1_reg\n",
    "\n",
    "    loss.backward()\n",
    "    optimizer.step()\n",
    "\n",
    "    # Print progress\n",
    "    if (epoch + 1) % 100 == 0:\n",
    "        print(\n",
    "            f\"Epoch [{epoch + 1}], Loss: {loss.item():.4f}, validation loss: {validation_losses[-1]:.4f}\"\n",
    "        )\n",
    "\n",
    "    # store model state\n",
    "    model_states.append(model_medium_resized_dataset.state_dict())\n",
    "\n",
    "    # Compute validation loss\n",
    "    with torch.no_grad():\n",
    "        outputs = model_medium_resized_dataset(val_features_resized_normalized)\n",
    "        loss = criterion(outputs, validation_labels_tensor)\n",
    "        validation_losses.append(loss.item())\n",
    "\n",
    "    # Check for early stopping if no improvement in validation loss in last 10 epochs\n",
    "    if epoch > 10 and validation_losses[-1] > validation_losses[-10]:\n",
    "        print(\"Early stopping\")\n",
    "        break\n",
    "\n",
    "    epoch += 1\n",
    "\n",
    "best_model_state = model_states[np.argmin(validation_losses)]\n",
    "model_medium_resized_dataset.load_state_dict(best_model_state)\n",
    "\n",
    "evaluate_model(model_medium_resized_dataset, resized=True)"
   ]
  },
  {
   "cell_type": "code",
   "execution_count": 20,
   "metadata": {},
   "outputs": [
    {
     "name": "stdout",
     "output_type": "stream",
     "text": [
      "Number of weight parameters: 84050\n",
      "Number of changed weight parameters: 79204\n",
      "Number of bias parameters: 215\n",
      "Number of changed bias parameters: 186\n",
      "Percentage of weights pruned: 94.23%\n",
      "Percentage of biases pruned: 86.51%\n",
      "Remaining number of non-zero weights: 4846\n",
      "Remaining number of non-zero biases: 29\n",
      "Accuracy: 0.9771\n"
     ]
    },
    {
     "data": {
      "text/plain": [
       "0.9771"
      ]
     },
     "execution_count": 20,
     "metadata": {},
     "output_type": "execute_result"
    }
   ],
   "source": [
    "model_medium_resized_dataset_pruned = copy.deepcopy(model_medium_resized_dataset)\n",
    "model_medium_resized_dataset_pruned = prune_pytorch_network(\n",
    "    model_medium_resized_dataset_pruned, 5e-2, 5e-2\n",
    ")\n",
    "\n",
    "evaluate_model(model_medium_resized_dataset_pruned, resized=True)"
   ]
  },
  {
   "cell_type": "markdown",
   "metadata": {},
   "source": [
    "## Look into haar features"
   ]
  },
  {
   "cell_type": "code",
   "execution_count": 21,
   "metadata": {},
   "outputs": [],
   "source": [
    "def compute_haar_features(image):\n",
    "    if image.shape != (20, 20) and image.shape != (28, 28):\n",
    "        raise ValueError(\"Input image must be of shape 20x20 or 28x28.\")\n",
    "\n",
    "    features = []\n",
    "\n",
    "    # Sliding window\n",
    "    for i in range(0, image.shape[0], 3):  # Slide vertically with a step of 3\n",
    "        for j in range(0, image.shape[0], 3):  # Slide horizontally with a step of 3\n",
    "\n",
    "            if i + 6 > image.shape[0] or j + 6 > image.shape[0]:\n",
    "                continue\n",
    "\n",
    "            # Extract 6x6 window\n",
    "            window = image[i : i + 6, j : j + 6]\n",
    "\n",
    "            # Horizontal feature\n",
    "            horizontal_feature_value = np.sum(window[0:3, :]) - np.sum(window[3:6, :])\n",
    "\n",
    "            # Vertical feature\n",
    "            vertical_feature_value = np.sum(window[:, 0:3]) - np.sum(window[:, 3:6])\n",
    "\n",
    "            features.append(horizontal_feature_value)\n",
    "            features.append(vertical_feature_value)\n",
    "\n",
    "    return np.array(features)"
   ]
  },
  {
   "cell_type": "code",
   "execution_count": 22,
   "metadata": {},
   "outputs": [
    {
     "name": "stdout",
     "output_type": "stream",
     "text": [
      "[    0.     0.     0.     0.     0.     0.  -117.  -117. -1480. -1246.\n",
      " -1363.  1363.     0.     0.     0.     0.     0.     0.     0.     0.\n",
      "   -18.   -18. -1409. -1607. -2169. -1879. -1502.  2780.  -724.   724.\n",
      "     0.     0.     0.     0.     0.     0.  -847.  -883. -1244. -2530.\n",
      "  1435.   963.   501.  -329. -1384.  2726.   -53.    53.     0.     0.\n",
      "   -41.   -41. -1010. -2658.   508.   366.  1663.  1901.   -36. -3900.\n",
      "  -331.  4117.  -109.   215.     0.     0.  -488.  -570.  -253. -2863.\n",
      "   663.  3005.  -386.  -632.  -314. -2994.   643.  3873.   143.   181.\n",
      "     0.     0.   -47. -1105.   224. -1822.  -145.  2511. -1552. -2594.\n",
      "   -30.   562.  1125.  2429.    19.    19.     0.     0.   281.  -871.\n",
      "  -205. -2271. -1857.   939.    35.  -537.  2077.  2069.   671.   671.\n",
      "     0.     0.     0.     0.   295.  -295.  2109. -1519.  3601.    27.\n",
      "  2454.  1120.   667.   667.     0.     0.     0.     0.]\n",
      "length of a haar feature for 28x28 images 128\n"
     ]
    }
   ],
   "source": [
    "haar_1 = compute_haar_features(train_images_tensor[0].reshape(28, 28).numpy())\n",
    "print(haar_1)\n",
    "len_haar_features = len(haar_1)\n",
    "print(\"length of a haar feature for 28x28 images\", len_haar_features)"
   ]
  },
  {
   "cell_type": "code",
   "execution_count": 23,
   "metadata": {},
   "outputs": [
    {
     "name": "stdout",
     "output_type": "stream",
     "text": [
      "[ -339.  -339. -1844. -1810. -1511. -1207.  -131.  -249. -1376.  2298.\n",
      " -1690. -2094. -1410. -1280.  1610.  1616.  2663.  -639.   271.  -949.\n",
      " -1000. -2236.  1667.  1809.  1742.  1622.   -53. -1387.  -292. -2832.\n",
      "    98.   608.   988.  2522.  -288.  -292. -1582. -2562.  -412.  -726.\n",
      "  -110.  2028. -1076.  1026. -2496. -1492. -1082. -1242.  1760.  1966.]\n",
      "length of a haar feature for 20x20 images 50\n"
     ]
    }
   ],
   "source": [
    "haar_1 = compute_haar_features(train_images_tensor_resized[0].reshape(20, 20))\n",
    "print(haar_1)\n",
    "len_haar_features_resized = len(haar_1)\n",
    "print(\"length of a haar feature for 20x20 images\", len_haar_features_resized)"
   ]
  },
  {
   "cell_type": "markdown",
   "metadata": {},
   "source": [
    "## Further simple features"
   ]
  },
  {
   "cell_type": "code",
   "execution_count": 24,
   "metadata": {},
   "outputs": [],
   "source": [
    "def aspect_ratio(image, threshold=0.5):\n",
    "    # Threshold the image to create a binary representation\n",
    "    bin_image = image > threshold\n",
    "    # Find the bounding box\n",
    "    row_indices, col_indices = np.nonzero(bin_image)\n",
    "    max_row, min_row = np.max(row_indices), np.min(row_indices)\n",
    "    max_col, min_col = np.max(col_indices), np.min(col_indices)\n",
    "\n",
    "    # Calculate the aspect ratio of the bounding box\n",
    "    width = max_col - min_col + 1\n",
    "    height = max_row - min_row + 1\n",
    "\n",
    "    if height == 0:  # To avoid division by zero\n",
    "        return 1.0\n",
    "\n",
    "    return width / height\n",
    "\n",
    "\n",
    "from scipy.ndimage import label\n",
    "\n",
    "\n",
    "def num_regions_below_threshold(image, threshold=0.5):\n",
    "    # Threshold the image so that pixels below the threshold are set to 1\n",
    "    # and those above the threshold are set to 0.\n",
    "    bin_image = image < threshold\n",
    "\n",
    "    # Use connected components labeling\n",
    "    labeled_array, num_features = label(bin_image)\n",
    "\n",
    "    # Return the number of unique regions\n",
    "    # (subtracting 1 as one of the labels will be the background)\n",
    "    return num_features"
   ]
  },
  {
   "cell_type": "code",
   "execution_count": 25,
   "metadata": {},
   "outputs": [],
   "source": [
    "# compute datasets\n",
    "\n",
    "aspect_ratio_train = np.zeros(num_train)\n",
    "aspect_ratio_val = np.zeros(num_val)\n",
    "aspect_ratio_test = np.zeros(num_test)\n",
    "\n",
    "num_white_regions_train = np.zeros(num_train)\n",
    "num_white_regions_val = np.zeros(num_val)\n",
    "num_white_regions_test = np.zeros(num_test)\n",
    "\n",
    "for i in range(num_train):\n",
    "    aspect_ratio_train[i] = aspect_ratio(train_images_tensor[i].reshape(28, 28).numpy())\n",
    "    num_white_regions_train[i] = num_regions_below_threshold(\n",
    "        train_images_tensor[i].reshape(28, 28)\n",
    "    )\n",
    "\n",
    "for i in range(num_val):\n",
    "    aspect_ratio_val[i] = aspect_ratio(\n",
    "        validation_images_tensor[i].reshape(28, 28).numpy()\n",
    "    )\n",
    "    num_white_regions_val[i] = num_regions_below_threshold(\n",
    "        validation_images_tensor[i].reshape(28, 28)\n",
    "    )\n",
    "\n",
    "for i in range(num_test):\n",
    "    aspect_ratio_test[i] = aspect_ratio(test_images_tensor[i].reshape(28, 28).numpy())\n",
    "    num_white_regions_test[i] = num_regions_below_threshold(\n",
    "        test_images_tensor[i].reshape(28, 28)\n",
    "    )"
   ]
  },
  {
   "cell_type": "code",
   "execution_count": 26,
   "metadata": {},
   "outputs": [
    {
     "data": {
      "image/png": "[encoded data removed]",
      "text/plain": [
       "<Figure size 640x480 with 1 Axes>"
      ]
     },
     "metadata": {},
     "output_type": "display_data"
    },
    {
     "name": "stdout",
     "output_type": "stream",
     "text": [
      "Image shape torch.Size([28, 28])\n",
      "Label tensor(0)\n",
      "Aspect ratio 0.7\n",
      "Number of black regions 2.0\n"
     ]
    }
   ],
   "source": [
    "image_id = 0\n",
    "\n",
    "image = train_images_tensor[image_id].reshape(28, 28)\n",
    "\n",
    "import matplotlib.pyplot as plt\n",
    "\n",
    "plt.imshow(image, cmap=\"gray\")\n",
    "plt.show()\n",
    "\n",
    "print(\"Image shape\", image.shape)\n",
    "\n",
    "print(\"Label\", train_labels_tensor[image_id])\n",
    "print(\"Aspect ratio\", aspect_ratio_train[image_id])\n",
    "print(\"Number of black regions\", num_white_regions_train[image_id])"
   ]
  },
  {
   "cell_type": "code",
   "execution_count": 27,
   "metadata": {},
   "outputs": [],
   "source": [
    "# compute datasets\n",
    "\n",
    "features_train = np.zeros((num_train, len_haar_features + 2))\n",
    "features_val = np.zeros((num_val, len_haar_features + 2))\n",
    "features_test = np.zeros((num_test, len_haar_features + 2))\n",
    "\n",
    "features_train_resized = np.zeros((num_train, len_haar_features_resized + 2))\n",
    "features_val_resized = np.zeros((num_val, len_haar_features_resized + 2))\n",
    "features_test_resized = np.zeros((num_test, len_haar_features_resized + 2))\n",
    "\n",
    "for i in range(num_train):\n",
    "    haar_features = compute_haar_features(\n",
    "        train_images_tensor[i].reshape(28, 28).numpy()\n",
    "    )\n",
    "    features_train[i, :] = np.hstack(\n",
    "        (haar_features, aspect_ratio_train[i], num_white_regions_train[i])\n",
    "    )\n",
    "\n",
    "for i in range(num_val):\n",
    "    haar_features = compute_haar_features(\n",
    "        validation_images_tensor[i].reshape(28, 28).numpy()\n",
    "    )\n",
    "    features_val[i, :] = np.hstack(\n",
    "        (haar_features, aspect_ratio_val[i], num_white_regions_val[i])\n",
    "    )\n",
    "\n",
    "for i in range(num_test):\n",
    "    haar_features = compute_haar_features(test_images_tensor[i].reshape(28, 28).numpy())\n",
    "    features_test[i, :] = np.hstack(\n",
    "        (haar_features, aspect_ratio_test[i], num_white_regions_test[i])\n",
    "    )\n",
    "\n",
    "for i in range(num_train):\n",
    "    haar_features = compute_haar_features(\n",
    "        train_images_tensor_resized[i].reshape(20, 20)\n",
    "    )\n",
    "    features_train_resized[i, :] = np.hstack(\n",
    "        (haar_features, aspect_ratio_train[i], num_white_regions_train[i])\n",
    "    )\n",
    "\n",
    "for i in range(num_val):\n",
    "    haar_features = compute_haar_features(\n",
    "        validation_images_tensor_resized[i].reshape(20, 20)\n",
    "    )\n",
    "    features_val_resized[i, :] = np.hstack(\n",
    "        (haar_features, aspect_ratio_val[i], num_white_regions_val[i])\n",
    "    )\n",
    "\n",
    "for i in range(num_test):\n",
    "    haar_features = compute_haar_features(test_images_tensor_resized[i].reshape(20, 20))\n",
    "    features_test_resized[i, :] = np.hstack(\n",
    "        (haar_features, aspect_ratio_test[i], num_white_regions_test[i])\n",
    "    )"
   ]
  },
  {
   "cell_type": "code",
   "execution_count": 28,
   "metadata": {},
   "outputs": [],
   "source": [
    "train_features_normalized = torch.tensor(scaler.fit_transform(features_train))\n",
    "val_features_normalized = torch.tensor(scaler.transform(features_val))\n",
    "test_features_normalized = torch.tensor(scaler.transform(features_test))\n",
    "\n",
    "train_features_resized_normalized = torch.tensor(\n",
    "    scaler.fit_transform(features_train_resized)\n",
    ")\n",
    "val_features_resized_normalized = torch.tensor(scaler.transform(features_val_resized))\n",
    "test_features_resized_normalized = torch.tensor(scaler.transform(features_test_resized))"
   ]
  },
  {
   "cell_type": "code",
   "execution_count": 29,
   "metadata": {},
   "outputs": [],
   "source": [
    "train_features_normalized = train_features_normalized.float()\n",
    "val_features_normalized = val_features_normalized.float()\n",
    "test_features_normalized = test_features_normalized.float()\n",
    "\n",
    "train_features_resized_normalized = train_features_resized_normalized.float()\n",
    "val_features_resized_normalized = val_features_resized_normalized.float()\n",
    "test_features_resized_normalized = test_features_resized_normalized.float()"
   ]
  },
  {
   "cell_type": "markdown",
   "metadata": {},
   "source": [
    "## Try out a neural network, on the new 28x28 dataset"
   ]
  },
  {
   "cell_type": "code",
   "execution_count": 30,
   "metadata": {},
   "outputs": [
    {
     "name": "stdout",
     "output_type": "stream",
     "text": [
      "Epoch [100], Loss: 0.4394, validation loss: 0.3833\n",
      "Epoch [200], Loss: 0.2931, validation loss: 0.2341\n",
      "Epoch [300], Loss: 0.2426, validation loss: 0.1850\n",
      "Epoch [400], Loss: 0.2139, validation loss: 0.1595\n",
      "Epoch [500], Loss: 0.1948, validation loss: 0.1425\n",
      "Epoch [600], Loss: 0.1805, validation loss: 0.1301\n",
      "Epoch [700], Loss: 0.1693, validation loss: 0.1207\n",
      "Epoch [800], Loss: 0.1602, validation loss: 0.1133\n",
      "Epoch [900], Loss: 0.1527, validation loss: 0.1074\n",
      "Epoch [1000], Loss: 0.1465, validation loss: 0.1029\n",
      "Epoch [1100], Loss: 0.1413, validation loss: 0.0997\n",
      "Epoch [1200], Loss: 0.1368, validation loss: 0.0970\n",
      "Epoch [1300], Loss: 0.1329, validation loss: 0.0945\n",
      "Epoch [1400], Loss: 0.1295, validation loss: 0.0921\n",
      "Epoch [1500], Loss: 0.1265, validation loss: 0.0902\n",
      "Epoch [1600], Loss: 0.1238, validation loss: 0.0884\n",
      "Epoch [1700], Loss: 0.1214, validation loss: 0.0870\n",
      "Epoch [1800], Loss: 0.1193, validation loss: 0.0859\n",
      "Epoch [1900], Loss: 0.1174, validation loss: 0.0849\n",
      "Epoch [2000], Loss: 0.1157, validation loss: 0.0838\n",
      "Epoch [2100], Loss: 0.1141, validation loss: 0.0831\n",
      "Epoch [2200], Loss: 0.1126, validation loss: 0.0823\n",
      "Epoch [2300], Loss: 0.1113, validation loss: 0.0817\n",
      "Epoch [2400], Loss: 0.1100, validation loss: 0.0809\n",
      "Epoch [2500], Loss: 0.1088, validation loss: 0.0802\n",
      "Epoch [2600], Loss: 0.1078, validation loss: 0.0796\n",
      "Early stopping\n",
      "Accuracy: 0.9785\n"
     ]
    },
    {
     "data": {
      "text/plain": [
       "0.9785"
      ]
     },
     "execution_count": 30,
     "metadata": {},
     "output_type": "execute_result"
    }
   ],
   "source": [
    "# Hyperparameters\n",
    "input_dim = train_features_normalized.shape[1]\n",
    "output_dim = len(set(train_labels))  # Assuming train_labels are class indices\n",
    "hidden_dim = int((input_dim + output_dim) / 2)\n",
    "\n",
    "# Instantiate the model\n",
    "model_medium2 = SimpleNN(\n",
    "    input_dim=input_dim, hidden_dim=hidden_dim, output_dim=output_dim\n",
    ")\n",
    "criterion = nn.CrossEntropyLoss()\n",
    "optimizer = optim.Adam(model_medium2.parameters(), lr=0.001)\n",
    "\n",
    "# Training loop with L1 regularization\n",
    "lambda_l1 = 0.0001  # L1 regularization coefficient\n",
    "\n",
    "validation_losses = []\n",
    "epoch = 0\n",
    "\n",
    "model_states = []\n",
    "\n",
    "while True:\n",
    "    optimizer.zero_grad()\n",
    "    outputs = model_medium2(train_features_normalized)\n",
    "\n",
    "    loss = criterion(outputs, train_labels_tensor)\n",
    "\n",
    "    # Add L1 regularization\n",
    "    l1_reg = torch.tensor(0.0, requires_grad=True)\n",
    "    for param in model_medium2.parameters():\n",
    "        l1_reg = l1_reg + torch.norm(param, 1)\n",
    "    loss += lambda_l1 * l1_reg\n",
    "\n",
    "    loss.backward()\n",
    "    optimizer.step()\n",
    "\n",
    "    # Print progress\n",
    "    if (epoch + 1) % 100 == 0:\n",
    "        print(\n",
    "            f\"Epoch [{epoch + 1}], Loss: {loss.item():.4f}, validation loss: {validation_losses[-1]:.4f}\"\n",
    "        )\n",
    "\n",
    "    # store model state\n",
    "    model_states.append(model_medium2.state_dict())\n",
    "\n",
    "    # Compute validation loss\n",
    "    with torch.no_grad():\n",
    "        outputs = model_medium2(val_features_normalized)\n",
    "        loss = criterion(outputs, validation_labels_tensor)\n",
    "        validation_losses.append(loss.item())\n",
    "\n",
    "    # Check for early stopping if no improvement in validation loss in last 10 epochs\n",
    "    if epoch > 10 and validation_losses[-1] > validation_losses[-10]:\n",
    "        print(\"Early stopping\")\n",
    "        break\n",
    "\n",
    "    epoch += 1\n",
    "\n",
    "best_model_state = model_states[np.argmin(validation_losses)]\n",
    "model_medium2.load_state_dict(best_model_state)\n",
    "\n",
    "evaluate_model(model_medium2)"
   ]
  },
  {
   "cell_type": "code",
   "execution_count": 31,
   "metadata": {},
   "outputs": [
    {
     "name": "stdout",
     "output_type": "stream",
     "text": [
      "Number of weight parameters: 9800\n",
      "Number of changed weight parameters: 7953\n",
      "Number of bias parameters: 80\n",
      "Number of changed bias parameters: 49\n",
      "Percentage of weights pruned: 81.15%\n",
      "Percentage of biases pruned: 61.25%\n",
      "Remaining number of non-zero weights: 1847\n",
      "Remaining number of non-zero biases: 31\n",
      "Accuracy: 0.9745\n"
     ]
    },
    {
     "data": {
      "text/plain": [
       "0.9745"
      ]
     },
     "execution_count": 31,
     "metadata": {},
     "output_type": "execute_result"
    }
   ],
   "source": [
    "model_medium2_pruned = copy.deepcopy(model_medium2)\n",
    "model_medium2_pruned = prune_pytorch_network(model_medium2_pruned, 1e-1, 1e-1)\n",
    "\n",
    "evaluate_model(model_medium2_pruned)"
   ]
  },
  {
   "cell_type": "markdown",
   "metadata": {},
   "source": [
    "## Try out a neural network, on the new 20x20 dataset"
   ]
  },
  {
   "cell_type": "code",
   "execution_count": 32,
   "metadata": {},
   "outputs": [
    {
     "name": "stdout",
     "output_type": "stream",
     "text": [
      "Epoch [100], Loss: 1.0097, validation loss: 0.9938\n",
      "Epoch [200], Loss: 0.4981, validation loss: 0.4804\n",
      "Epoch [300], Loss: 0.3547, validation loss: 0.3365\n",
      "Epoch [400], Loss: 0.2938, validation loss: 0.2756\n",
      "Epoch [500], Loss: 0.2603, validation loss: 0.2410\n",
      "Epoch [600], Loss: 0.2391, validation loss: 0.2182\n",
      "Epoch [700], Loss: 0.2240, validation loss: 0.2020\n",
      "Epoch [800], Loss: 0.2127, validation loss: 0.1894\n",
      "Epoch [900], Loss: 0.2037, validation loss: 0.1793\n",
      "Epoch [1000], Loss: 0.1962, validation loss: 0.1708\n",
      "Epoch [1100], Loss: 0.1898, validation loss: 0.1638\n",
      "Epoch [1200], Loss: 0.1842, validation loss: 0.1578\n",
      "Epoch [1300], Loss: 0.1792, validation loss: 0.1525\n",
      "Epoch [1400], Loss: 0.1748, validation loss: 0.1481\n",
      "Epoch [1500], Loss: 0.1708, validation loss: 0.1442\n",
      "Epoch [1600], Loss: 0.1671, validation loss: 0.1407\n",
      "Epoch [1700], Loss: 0.1637, validation loss: 0.1378\n",
      "Epoch [1800], Loss: 0.1606, validation loss: 0.1350\n",
      "Epoch [1900], Loss: 0.1576, validation loss: 0.1323\n",
      "Epoch [2000], Loss: 0.1548, validation loss: 0.1298\n",
      "Epoch [2100], Loss: 0.1523, validation loss: 0.1275\n",
      "Epoch [2200], Loss: 0.1499, validation loss: 0.1254\n",
      "Epoch [2300], Loss: 0.1477, validation loss: 0.1235\n",
      "Epoch [2400], Loss: 0.1455, validation loss: 0.1216\n",
      "Epoch [2500], Loss: 0.1435, validation loss: 0.1198\n",
      "Epoch [2600], Loss: 0.1416, validation loss: 0.1182\n",
      "Epoch [2700], Loss: 0.1399, validation loss: 0.1168\n",
      "Epoch [2800], Loss: 0.1384, validation loss: 0.1155\n",
      "Epoch [2900], Loss: 0.1370, validation loss: 0.1144\n",
      "Epoch [3000], Loss: 0.1356, validation loss: 0.1134\n",
      "Epoch [3100], Loss: 0.1344, validation loss: 0.1124\n",
      "Epoch [3200], Loss: 0.1332, validation loss: 0.1115\n",
      "Epoch [3300], Loss: 0.1321, validation loss: 0.1108\n",
      "Epoch [3400], Loss: 0.1311, validation loss: 0.1101\n",
      "Epoch [3500], Loss: 0.1301, validation loss: 0.1094\n",
      "Epoch [3600], Loss: 0.1292, validation loss: 0.1088\n",
      "Epoch [3700], Loss: 0.1283, validation loss: 0.1083\n",
      "Epoch [3800], Loss: 0.1274, validation loss: 0.1077\n",
      "Epoch [3900], Loss: 0.1267, validation loss: 0.1071\n",
      "Epoch [4000], Loss: 0.1260, validation loss: 0.1067\n",
      "Early stopping\n",
      "Accuracy: 0.9714\n"
     ]
    },
    {
     "data": {
      "text/plain": [
       "0.9714"
      ]
     },
     "execution_count": 32,
     "metadata": {},
     "output_type": "execute_result"
    }
   ],
   "source": [
    "# Hyperparameters\n",
    "input_dim = train_features_resized_normalized.shape[1]\n",
    "output_dim = len(set(train_labels))  # Assuming train_labels are class indices\n",
    "hidden_dim = int((input_dim + output_dim) / 2)\n",
    "\n",
    "# Instantiate the model\n",
    "model_medium2_resized = SimpleNN(\n",
    "    input_dim=input_dim, hidden_dim=hidden_dim, output_dim=output_dim\n",
    ")\n",
    "criterion = nn.CrossEntropyLoss()\n",
    "optimizer = optim.Adam(model_medium2_resized.parameters(), lr=0.001)\n",
    "\n",
    "# Training loop with L1 regularization\n",
    "lambda_l1 = 0.0001  # L1 regularization coefficient\n",
    "\n",
    "validation_losses = []\n",
    "epoch = 0\n",
    "\n",
    "model_states = []\n",
    "\n",
    "while True:\n",
    "    optimizer.zero_grad()\n",
    "    outputs = model_medium2_resized(train_features_resized_normalized)\n",
    "\n",
    "    loss = criterion(outputs, train_labels_tensor)\n",
    "\n",
    "    # Add L1 regularization\n",
    "    l1_reg = torch.tensor(0.0, requires_grad=True)\n",
    "    for param in model_medium2_resized.parameters():\n",
    "        l1_reg = l1_reg + torch.norm(param, 1)\n",
    "    loss += lambda_l1 * l1_reg\n",
    "\n",
    "    loss.backward()\n",
    "    optimizer.step()\n",
    "\n",
    "    # Print progress\n",
    "    if (epoch + 1) % 100 == 0:\n",
    "        print(\n",
    "            f\"Epoch [{epoch + 1}], Loss: {loss.item():.4f}, validation loss: {validation_losses[-1]:.4f}\"\n",
    "        )\n",
    "\n",
    "    # store model state\n",
    "    model_states.append(model_medium2_resized.state_dict())\n",
    "\n",
    "    # Compute validation loss\n",
    "    with torch.no_grad():\n",
    "        outputs = model_medium2_resized(val_features_resized_normalized)\n",
    "        loss = criterion(outputs, validation_labels_tensor)\n",
    "        validation_losses.append(loss.item())\n",
    "\n",
    "    # Check for early stopping if no improvement in validation loss in last 10 epochs\n",
    "    if epoch > 10 and validation_losses[-1] > validation_losses[-10]:\n",
    "        print(\"Early stopping\")\n",
    "        break\n",
    "\n",
    "    epoch += 1\n",
    "\n",
    "best_model_state = model_states[np.argmin(validation_losses)]\n",
    "model_medium2_resized.load_state_dict(best_model_state)\n",
    "\n",
    "evaluate_model(model_medium2_resized, resized=True)"
   ]
  },
  {
   "cell_type": "code",
   "execution_count": 33,
   "metadata": {},
   "outputs": [
    {
     "name": "stdout",
     "output_type": "stream",
     "text": [
      "Number of weight parameters: 1922\n",
      "Number of changed weight parameters: 894\n",
      "Number of bias parameters: 41\n",
      "Number of changed bias parameters: 10\n",
      "Percentage of weights pruned: 46.51%\n",
      "Percentage of biases pruned: 24.39%\n",
      "Remaining number of non-zero weights: 1028\n",
      "Remaining number of non-zero biases: 31\n",
      "Accuracy: 0.9702\n"
     ]
    },
    {
     "data": {
      "text/plain": [
       "0.9702"
      ]
     },
     "execution_count": 33,
     "metadata": {},
     "output_type": "execute_result"
    }
   ],
   "source": [
    "model_medium2_resized_pruned = copy.deepcopy(model_medium2_resized)\n",
    "model_medium2_resized_pruned = prune_pytorch_network(\n",
    "    model_medium2_resized_pruned, 1e-1, 1e-1\n",
    ")\n",
    "\n",
    "evaluate_model(model_medium2_resized_pruned, resized=True)"
   ]
  },
  {
   "cell_type": "code",
   "execution_count": 34,
   "metadata": {},
   "outputs": [
    {
     "name": "stdout",
     "output_type": "stream",
     "text": [
      "fc1.weight \t torch.Size([31, 52])\n",
      "fc1.bias \t torch.Size([31])\n",
      "fc2.weight \t torch.Size([10, 31])\n",
      "fc2.bias \t torch.Size([10])\n",
      "fc1.weight \t tensor([[-0.1457,  0.0000,  0.0000,  ..., -0.1208,  0.0000,  0.0000],\n",
      "        [ 0.0000,  0.0000,  0.0000,  ..., -0.1804,  0.0000,  0.0000],\n",
      "        [ 0.0000, -0.1672,  0.5704,  ...,  0.0000,  0.0000,  0.1628],\n",
      "        ...,\n",
      "        [ 0.0000,  0.0000,  0.0000,  ...,  0.0000, -0.8005, -0.9213],\n",
      "        [ 0.4910,  0.0000,  0.0000,  ...,  0.0000,  0.1205,  0.0000],\n",
      "        [ 0.0000,  0.7164, -0.6793,  ...,  0.0000,  0.0000, -0.2302]])\n",
      "fc1.bias \t tensor([ 0.3703,  0.1497,  0.9252,  0.7694,  0.2327, -0.1245,  0.3859,  0.1467,\n",
      "         0.5328,  0.5766,  0.0000,  0.1754,  0.1570,  0.3784,  0.0000,  0.0000,\n",
      "         0.4044,  0.2387,  0.1343,  0.0000,  0.5028,  0.6376,  0.5517,  0.1667,\n",
      "         0.6389,  0.4007,  0.2228,  0.3682,  0.5501,  0.1588, -0.1081])\n",
      "fc2.weight \t tensor([[ 0.0000, -0.8436,  0.7421,  0.3145,  0.6317,  0.2764, -0.9505,  0.3824,\n",
      "         -1.0316,  0.0000, -0.6444,  0.2943, -0.6174,  0.4459, -0.6827,  0.3528,\n",
      "          0.6066, -0.7019, -0.1604, -0.5303, -0.8808,  0.2669,  0.4567, -0.4648,\n",
      "          0.0000,  0.0000,  0.0000,  0.0000, -0.7364, -0.2286,  0.6637],\n",
      "        [-0.3628, -1.0329, -0.4100, -0.4774,  0.1389,  0.0000, -0.4175, -0.6277,\n",
      "         -0.1930,  0.8022, -0.5196,  0.4716,  0.0000, -0.8477, -0.1067,  0.0000,\n",
      "         -0.9019,  0.4444, -0.5627,  0.6974, -0.2948,  0.1045,  0.3102,  0.2478,\n",
      "          0.7170,  1.2600, -0.7098, -0.3746,  1.1563, -0.5991,  0.0000],\n",
      "        [-0.8695,  0.5932, -0.1400,  0.0000, -0.3588,  0.1840, -0.3957, -0.9202,\n",
      "         -0.3174, -0.7727,  0.7170,  0.6617,  0.8326,  0.6312, -0.2590, -0.3394,\n",
      "          0.7626,  0.0000,  1.0193,  0.0000, -0.3562,  0.4361,  0.4099,  0.5038,\n",
      "          0.4704,  0.0000, -0.3824, -0.2034, -0.3836, -1.3858, -0.5232],\n",
      "        [ 0.9601,  0.7866,  0.0000, -0.4931, -1.0539, -0.7878,  0.4281,  0.7172,\n",
      "          0.3040,  0.0000, -0.3005, -0.4074,  0.1954,  0.0000,  0.0000, -0.3346,\n",
      "          1.0174, -1.0311,  0.4944,  0.5326, -0.5748,  0.7134, -1.1122,  0.9642,\n",
      "          0.5039,  0.0000,  0.0000, -0.7243, -0.2482,  0.1120, -0.9603],\n",
      "        [-0.4492, -0.9544, -1.4454,  0.0000, -0.5753,  0.6885,  0.2771,  0.0000,\n",
      "          0.2198,  0.6528,  0.6542, -0.6155,  1.6867, -0.1416,  0.8309,  0.7444,\n",
      "         -0.2813,  0.1141, -0.6212,  0.2733,  0.4773, -0.9097, -0.2395, -0.9552,\n",
      "          0.0000, -0.2359, -0.8688,  1.1078, -0.1564, -0.4903, -0.1173],\n",
      "        [ 0.3563,  0.6737, -0.2409, -0.1744,  0.1481, -0.6930,  0.6589,  0.3621,\n",
      "          0.7692,  0.0000, -0.3548, -0.9881,  0.0000,  0.0000,  0.0000, -1.4564,\n",
      "          0.0000,  0.4144,  0.0000, -1.0867,  0.6022, -0.9108,  0.3906,  0.0000,\n",
      "         -1.4314,  0.0000,  1.0618, -0.8915,  0.2281,  0.1188,  0.8971],\n",
      "        [-0.3468,  0.2345, -0.5260,  1.8111,  0.4043, -1.3183, -0.9109,  0.0000,\n",
      "         -0.2523,  0.2332, -0.4330,  0.1729,  0.4093, -0.3544, -0.6351,  0.4571,\n",
      "         -0.1859, -0.5771, -0.9522,  0.0000, -0.4841, -0.7517,  0.0000, -0.6298,\n",
      "          0.0000,  0.0000,  0.7561,  0.0000, -0.1175, -0.7028,  0.7516],\n",
      "        [-0.8780, -0.4229,  0.0000, -0.6577, -0.4697,  0.5960, -1.1681, -0.3868,\n",
      "          0.1491, -0.5527,  0.2820,  0.3591, -0.4836,  0.3287,  0.5358,  0.2272,\n",
      "          0.0000,  0.3369,  0.4400,  1.1490, -0.7031, -0.4211,  0.1313,  1.0099,\n",
      "          0.1340, -0.7723,  0.0000,  0.6544,  0.0000,  0.9599, -0.1786],\n",
      "        [ 0.6028,  0.5414,  0.5386,  0.0000,  0.7212, -0.5090,  1.0851,  0.0000,\n",
      "         -0.4153, -0.6271, -0.8573,  0.9084, -1.2111, -1.2127, -1.3860, -0.3897,\n",
      "         -0.5288,  0.0000,  0.4173, -0.8588,  0.7053,  0.7188,  0.0000, -0.4575,\n",
      "          0.7065, -0.1454,  0.2806,  0.3087, -0.8773,  0.0000,  0.1857],\n",
      "        [ 0.0000, -0.4694,  0.9185,  0.0000, -0.7022,  0.2799,  0.8776, -0.4555,\n",
      "         -0.7645, -0.6707,  0.5379, -0.7583,  0.0000, -0.6986,  1.0440, -0.1264,\n",
      "         -0.2921,  1.1392, -0.8628,  0.0000,  0.4755,  0.6607, -1.1210, -0.6028,\n",
      "         -0.4271, -0.6314,  0.3237,  0.1661,  0.0000,  0.8351, -0.4911]])\n",
      "fc2.bias \t tensor([ 0.0000, -0.2004,  0.0000,  0.0000,  0.0000,  0.3526,  0.0000, -0.6548,\n",
      "         0.3168,  0.0000])\n"
     ]
    }
   ],
   "source": [
    "# print model_medium2_resized_pruned weights\n",
    "for param_tensor in model_medium2_resized_pruned.state_dict():\n",
    "    print(\n",
    "        param_tensor,\n",
    "        \"\\t\",\n",
    "        model_medium2_resized_pruned.state_dict()[param_tensor].size(),\n",
    "    )\n",
    "\n",
    "# print model_medium2_resized_pruned weights\n",
    "for param_tensor in model_medium2_resized_pruned.state_dict():\n",
    "    print(param_tensor, \"\\t\", model_medium2_resized_pruned.state_dict()[param_tensor])"
   ]
  },
  {
   "cell_type": "code",
   "execution_count": 74,
   "metadata": {},
   "outputs": [
    {
     "name": "stderr",
     "output_type": "stream",
     "text": [
      "/Users/kp/miniconda3/lib/python3.11/site-packages/sklearn/neural_network/_multilayer_perceptron.py:691: ConvergenceWarning: Stochastic Optimizer: Maximum iterations (1) reached and the optimization hasn't converged yet.\n",
      "  warnings.warn(\n"
     ]
    }
   ],
   "source": [
    "import numpy as np\n",
    "from sklearn.neural_network import MLPClassifier\n",
    "\n",
    "mlp_network = MLPClassifier(\n",
    "    hidden_layer_sizes=(31,), max_iter=1, alpha=0.0001, solver=\"adam\", random_state=0\n",
    ")\n",
    "mlp_network.fit(train_features_resized_normalized, train_labels_tensor)\n",
    "\n",
    "import pickle\n",
    "\n",
    "with open(\"sklearn_mlp_initialized.pkl\", \"wb\") as f:\n",
    "    pickle.dump(mlp_network, f)\n",
    "\n",
    "# store the pytorch model model_medium2_resized_pruned\n",
    "torch.save(model_medium2_resized_pruned.state_dict(), \"pytorch_mlp_trained.pt\")"
   ]
  },
  {
   "cell_type": "code",
   "execution_count": 82,
   "metadata": {},
   "outputs": [
    {
     "name": "stdout",
     "output_type": "stream",
     "text": [
      "Accuracy: 0.9702\n",
      "Number of neurons per layer: [52, 31, 10]\n"
     ]
    },
    {
     "name": "stderr",
     "output_type": "stream",
     "text": [
      "/Users/kp/miniconda3/lib/python3.11/site-packages/sklearn/neural_network/_multilayer_perceptron.py:691: ConvergenceWarning: Stochastic Optimizer: Maximum iterations (1) reached and the optimization hasn't converged yet.\n",
      "  warnings.warn(\n"
     ]
    }
   ],
   "source": [
    "def pytorch_to_sklearn(pytorch_model):\n",
    "\n",
    "    # Extract weights and biases from PyTorch model\n",
    "    fc1_weight = pytorch_model.fc1.weight.data\n",
    "    fc1_bias = pytorch_model.fc1.bias.data\n",
    "    fc2_weight = pytorch_model.fc2.weight.data\n",
    "    fc2_bias = pytorch_model.fc2.bias.data\n",
    "\n",
    "    # Get the sizes for initialization\n",
    "    input_size = fc1_weight.shape[1]\n",
    "    hidden_size = fc1_weight.shape[0]\n",
    "    output_size = fc2_weight.shape[0]\n",
    "\n",
    "    # Initialize sklearn MLP\n",
    "    sklearn_mlp = MLPClassifier(\n",
    "        hidden_layer_sizes=(hidden_size,), activation=\"relu\", max_iter=1\n",
    "    )\n",
    "\n",
    "    # To ensure the model doesn't change the weights during the dummy fit, we set warm_start=True\n",
    "    sklearn_mlp.warm_start = True\n",
    "\n",
    "    # Dummy fit to initialize weights (necessary step before setting the weights)\n",
    "    sklearn_mlp.fit(np.zeros((output_size, input_size)), list(range(output_size)))\n",
    "\n",
    "    # Set the weights and biases\n",
    "    sklearn_mlp.coefs_[0] = fc1_weight.t().numpy()\n",
    "    sklearn_mlp.intercepts_[0] = fc1_bias.numpy()\n",
    "    sklearn_mlp.coefs_[1] = fc2_weight.t().numpy()\n",
    "    sklearn_mlp.intercepts_[1] = fc2_bias.numpy()\n",
    "\n",
    "    return sklearn_mlp\n",
    "\n",
    "\n",
    "# Convert the example PyTorch MLP to sklearn MLP\n",
    "example_sklearn_mlp = pytorch_to_sklearn(model_medium2_resized_pruned)\n",
    "\n",
    "# Evaluate the classifier\n",
    "accuracy = example_sklearn_mlp.score(\n",
    "    test_features_resized_normalized.numpy(), test_labels\n",
    ")\n",
    "print(\"Accuracy:\", accuracy)\n",
    "\n",
    "layers_sizes = [example_sklearn_mlp.coefs_[0].shape[0]] + [\n",
    "    coef.shape[1] for coef in example_sklearn_mlp.coefs_\n",
    "]\n",
    "\n",
    "print(\"Number of neurons per layer:\", layers_sizes)"
   ]
  },
  {
   "cell_type": "code",
   "execution_count": 64,
   "metadata": {},
   "outputs": [],
   "source": [
    "def convert_pytorch_to_sklearn(pytorch_model):\n",
    "    # Extract weights and biases from the PyTorch model\n",
    "    fc1_weight = pytorch_model.fc1.weight.data.numpy()\n",
    "    fc1_bias = pytorch_model.fc1.bias.data.numpy()\n",
    "\n",
    "    fc2_weight = pytorch_model.fc2.weight.data.numpy()\n",
    "    fc2_bias = pytorch_model.fc2.bias.data.numpy()\n",
    "\n",
    "    # Define the structure of the sklearn MLP model\n",
    "    # Here, we assume that the PyTorch model's output_dim is 1, which corresponds to a binary classification in sklearn\n",
    "    sklearn_mlp = MLPClassifier(\n",
    "        hidden_layer_sizes=(fc1_weight.shape[0],),\n",
    "        activation=\"relu\",\n",
    "        max_iter=1,  # Initialize and set weights manually, so no need to iterate\n",
    "        warm_start=True,\n",
    "    )  # This ensures we can update weights after initialization\n",
    "\n",
    "    # Initialize the sklearn model (necessary before setting weights)\n",
    "    sklearn_mlp.fit(np.zeros((1, fc1_weight.shape[1])), [0])\n",
    "\n",
    "    # Set weights and biases in the sklearn model\n",
    "    sklearn_mlp.coefs_[0] = fc1_weight\n",
    "    sklearn_mlp.intercepts_[0] = fc1_bias\n",
    "    sklearn_mlp.coefs_[1] = fc2_weight\n",
    "    sklearn_mlp.intercepts_[1] = fc2_bias\n",
    "\n",
    "    return sklearn_mlp"
   ]
  },
  {
   "cell_type": "code",
   "execution_count": 65,
   "metadata": {},
   "outputs": [
    {
     "name": "stderr",
     "output_type": "stream",
     "text": [
      "/Users/kp/miniconda3/lib/python3.11/site-packages/sklearn/neural_network/_multilayer_perceptron.py:691: ConvergenceWarning: Stochastic Optimizer: Maximum iterations (1) reached and the optimization hasn't converged yet.\n",
      "  warnings.warn(\n"
     ]
    }
   ],
   "source": [
    "sklearn_model = convert_pytorch_to_sklearn(model_medium2_resized_pruned)"
   ]
  },
  {
   "cell_type": "code",
   "execution_count": 68,
   "metadata": {},
   "outputs": [
    {
     "name": "stdout",
     "output_type": "stream",
     "text": [
      "Input layer: 52 neurons\n",
      "Hidden layer 1: 31 neurons\n",
      "Output layer: 10 neurons\n"
     ]
    }
   ],
   "source": [
    "def print_sklearn_mlp_architecture(mlp):\n",
    "    # Get the input layer size\n",
    "    input_size = mlp.coefs_[0].shape[1]\n",
    "    print(f\"Input layer: {input_size} neurons\")\n",
    "\n",
    "    # Loop through the hidden layers\n",
    "    for idx, coef_matrix in enumerate(mlp.coefs_[:-1]):\n",
    "        print(f\"Hidden layer {idx + 1}: {coef_matrix.shape[0]} neurons\")\n",
    "\n",
    "    # Output layer\n",
    "    print(f\"Output layer: {mlp.coefs_[-1].shape[0]} neurons\")\n",
    "\n",
    "\n",
    "print_sklearn_mlp_architecture(sklearn_model)"
   ]
  },
  {
   "cell_type": "code",
   "execution_count": 69,
   "metadata": {},
   "outputs": [
    {
     "ename": "ValueError",
     "evalue": "matmul: Input operand 1 has a mismatch in its core dimension 0, with gufunc signature (n?,k),(k,m?)->(n?,m?) (size 31 is different from 52)",
     "output_type": "error",
     "traceback": [
      "\u001b[0;31m---------------------------------------------------------------------------\u001b[0m",
      "\u001b[0;31mValueError\u001b[0m                                Traceback (most recent call last)",
      "\u001b[1;32m/Users/kp/dev/python-sdk/zkml-research/MNIST_preprocessing/6_presentation.ipynb Cell 50\u001b[0m line \u001b[0;36m1\n\u001b[0;32m----> <a href='vscode-notebook-cell:/Users/kp/dev/python-sdk/zkml-research/MNIST_preprocessing/6_presentation.ipynb#Y103sZmlsZQ%3D%3D?line=0'>1</a>\u001b[0m accuracy \u001b[39m=\u001b[39m sklearn_model\u001b[39m.\u001b[39;49mscore(test_features_resized_normalized\u001b[39m.\u001b[39;49mnumpy(), test_labels)\n",
      "File \u001b[0;32m~/miniconda3/lib/python3.11/site-packages/sklearn/base.py:705\u001b[0m, in \u001b[0;36mClassifierMixin.score\u001b[0;34m(self, X, y, sample_weight)\u001b[0m\n\u001b[1;32m    680\u001b[0m \u001b[39m\u001b[39m\u001b[39m\"\"\"\u001b[39;00m\n\u001b[1;32m    681\u001b[0m \u001b[39mReturn the mean accuracy on the given test data and labels.\u001b[39;00m\n\u001b[1;32m    682\u001b[0m \n\u001b[0;32m   (...)\u001b[0m\n\u001b[1;32m    701\u001b[0m \u001b[39m    Mean accuracy of ``self.predict(X)`` w.r.t. `y`.\u001b[39;00m\n\u001b[1;32m    702\u001b[0m \u001b[39m\"\"\"\u001b[39;00m\n\u001b[1;32m    703\u001b[0m \u001b[39mfrom\u001b[39;00m \u001b[39m.\u001b[39;00m\u001b[39mmetrics\u001b[39;00m \u001b[39mimport\u001b[39;00m accuracy_score\n\u001b[0;32m--> 705\u001b[0m \u001b[39mreturn\u001b[39;00m accuracy_score(y, \u001b[39mself\u001b[39;49m\u001b[39m.\u001b[39;49mpredict(X), sample_weight\u001b[39m=\u001b[39msample_weight)\n",
      "File \u001b[0;32m~/miniconda3/lib/python3.11/site-packages/sklearn/neural_network/_multilayer_perceptron.py:1160\u001b[0m, in \u001b[0;36mMLPClassifier.predict\u001b[0;34m(self, X)\u001b[0m\n\u001b[1;32m   1147\u001b[0m \u001b[39m\u001b[39m\u001b[39m\"\"\"Predict using the multi-layer perceptron classifier.\u001b[39;00m\n\u001b[1;32m   1148\u001b[0m \n\u001b[1;32m   1149\u001b[0m \u001b[39mParameters\u001b[39;00m\n\u001b[0;32m   (...)\u001b[0m\n\u001b[1;32m   1157\u001b[0m \u001b[39m    The predicted classes.\u001b[39;00m\n\u001b[1;32m   1158\u001b[0m \u001b[39m\"\"\"\u001b[39;00m\n\u001b[1;32m   1159\u001b[0m check_is_fitted(\u001b[39mself\u001b[39m)\n\u001b[0;32m-> 1160\u001b[0m \u001b[39mreturn\u001b[39;00m \u001b[39mself\u001b[39;49m\u001b[39m.\u001b[39;49m_predict(X)\n",
      "File \u001b[0;32m~/miniconda3/lib/python3.11/site-packages/sklearn/neural_network/_multilayer_perceptron.py:1164\u001b[0m, in \u001b[0;36mMLPClassifier._predict\u001b[0;34m(self, X, check_input)\u001b[0m\n\u001b[1;32m   1162\u001b[0m \u001b[39mdef\u001b[39;00m \u001b[39m_predict\u001b[39m(\u001b[39mself\u001b[39m, X, check_input\u001b[39m=\u001b[39m\u001b[39mTrue\u001b[39;00m):\n\u001b[1;32m   1163\u001b[0m \u001b[39m    \u001b[39m\u001b[39m\"\"\"Private predict method with optional input validation\"\"\"\u001b[39;00m\n\u001b[0;32m-> 1164\u001b[0m     y_pred \u001b[39m=\u001b[39m \u001b[39mself\u001b[39;49m\u001b[39m.\u001b[39;49m_forward_pass_fast(X, check_input\u001b[39m=\u001b[39;49mcheck_input)\n\u001b[1;32m   1166\u001b[0m     \u001b[39mif\u001b[39;00m \u001b[39mself\u001b[39m\u001b[39m.\u001b[39mn_outputs_ \u001b[39m==\u001b[39m \u001b[39m1\u001b[39m:\n\u001b[1;32m   1167\u001b[0m         y_pred \u001b[39m=\u001b[39m y_pred\u001b[39m.\u001b[39mravel()\n",
      "File \u001b[0;32m~/miniconda3/lib/python3.11/site-packages/sklearn/neural_network/_multilayer_perceptron.py:215\u001b[0m, in \u001b[0;36mBaseMultilayerPerceptron._forward_pass_fast\u001b[0;34m(self, X, check_input)\u001b[0m\n\u001b[1;32m    213\u001b[0m hidden_activation \u001b[39m=\u001b[39m ACTIVATIONS[\u001b[39mself\u001b[39m\u001b[39m.\u001b[39mactivation]\n\u001b[1;32m    214\u001b[0m \u001b[39mfor\u001b[39;00m i \u001b[39min\u001b[39;00m \u001b[39mrange\u001b[39m(\u001b[39mself\u001b[39m\u001b[39m.\u001b[39mn_layers_ \u001b[39m-\u001b[39m \u001b[39m1\u001b[39m):\n\u001b[0;32m--> 215\u001b[0m     activation \u001b[39m=\u001b[39m safe_sparse_dot(activation, \u001b[39mself\u001b[39;49m\u001b[39m.\u001b[39;49mcoefs_[i])\n\u001b[1;32m    216\u001b[0m     activation \u001b[39m+\u001b[39m\u001b[39m=\u001b[39m \u001b[39mself\u001b[39m\u001b[39m.\u001b[39mintercepts_[i]\n\u001b[1;32m    217\u001b[0m     \u001b[39mif\u001b[39;00m i \u001b[39m!=\u001b[39m \u001b[39mself\u001b[39m\u001b[39m.\u001b[39mn_layers_ \u001b[39m-\u001b[39m \u001b[39m2\u001b[39m:\n",
      "File \u001b[0;32m~/miniconda3/lib/python3.11/site-packages/sklearn/utils/extmath.py:193\u001b[0m, in \u001b[0;36msafe_sparse_dot\u001b[0;34m(a, b, dense_output)\u001b[0m\n\u001b[1;32m    191\u001b[0m         ret \u001b[39m=\u001b[39m np\u001b[39m.\u001b[39mdot(a, b)\n\u001b[1;32m    192\u001b[0m \u001b[39melse\u001b[39;00m:\n\u001b[0;32m--> 193\u001b[0m     ret \u001b[39m=\u001b[39m a \u001b[39m@\u001b[39;49m b\n\u001b[1;32m    195\u001b[0m \u001b[39mif\u001b[39;00m (\n\u001b[1;32m    196\u001b[0m     sparse\u001b[39m.\u001b[39missparse(a)\n\u001b[1;32m    197\u001b[0m     \u001b[39mand\u001b[39;00m sparse\u001b[39m.\u001b[39missparse(b)\n\u001b[1;32m    198\u001b[0m     \u001b[39mand\u001b[39;00m dense_output\n\u001b[1;32m    199\u001b[0m     \u001b[39mand\u001b[39;00m \u001b[39mhasattr\u001b[39m(ret, \u001b[39m\"\u001b[39m\u001b[39mtoarray\u001b[39m\u001b[39m\"\u001b[39m)\n\u001b[1;32m    200\u001b[0m ):\n\u001b[1;32m    201\u001b[0m     \u001b[39mreturn\u001b[39;00m ret\u001b[39m.\u001b[39mtoarray()\n",
      "\u001b[0;31mValueError\u001b[0m: matmul: Input operand 1 has a mismatch in its core dimension 0, with gufunc signature (n?,k),(k,m?)->(n?,m?) (size 31 is different from 52)"
     ]
    }
   ],
   "source": [
    "accuracy = sklearn_model.score(test_features_resized_normalized.numpy(), test_labels)"
   ]
  }
 ],
 "metadata": {
  "kernelspec": {
   "display_name": "base",
   "language": "python",
   "name": "python3"
  },
  "language_info": {
   "codemirror_mode": {
    "name": "ipython",
    "version": 3
   },
   "file_extension": ".py",
   "mimetype": "text/x-python",
   "name": "python",
   "nbconvert_exporter": "python",
   "pygments_lexer": "ipython3",
   "version": "3.11.4"
  },
  "orig_nbformat": 4
 },
 "nbformat": 4,
 "nbformat_minor": 2
}
