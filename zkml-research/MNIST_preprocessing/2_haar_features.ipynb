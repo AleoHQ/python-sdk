{
 "cells": [
  {
   "cell_type": "code",
   "execution_count": 4,
   "metadata": {},
   "outputs": [
    {
     "name": "stdout",
     "output_type": "stream",
     "text": [
      "train-images-idx3-ubyte.gz already exists.\n",
      "train-labels-idx1-ubyte.gz already exists.\n",
      "t10k-images-idx3-ubyte.gz already exists.\n",
      "t10k-labels-idx1-ubyte.gz already exists.\n",
      "Shape of train_images: (60000, 28, 28)\n",
      "Shape of train_labels: (60000,)\n",
      "Shape of test_images: (10000, 28, 28)\n",
      "Shape of test_labels: (10000,)\n"
     ]
    }
   ],
   "source": [
    "import gzip\n",
    "import os\n",
    "import shutil\n",
    "\n",
    "import requests\n",
    "\n",
    "\n",
    "def download_and_extract_dataset(url, save_path, folder_path):\n",
    "    \"\"\"Download and extract dataset if it doesn't exist.\"\"\"\n",
    "    if not os.path.exists(save_path):\n",
    "        print(f\"Downloading {os.path.basename(save_path)}...\")\n",
    "        response = requests.get(url)\n",
    "        with open(save_path, \"wb\") as file:\n",
    "            file.write(response.content)\n",
    "\n",
    "        decompressed_file_name = os.path.splitext(os.path.basename(save_path))[0]\n",
    "        decompressed_file_path = os.path.join(folder_path, decompressed_file_name)\n",
    "\n",
    "        with gzip.open(save_path, \"rb\") as f_in:\n",
    "            with open(decompressed_file_path, \"wb\") as f_out:\n",
    "                shutil.copyfileobj(f_in, f_out)\n",
    "\n",
    "        print(f\"{decompressed_file_name} downloaded and extracted.\")\n",
    "    else:\n",
    "        print(f\"{os.path.basename(save_path)} already exists.\")\n",
    "\n",
    "\n",
    "file_info = [\n",
    "    (\n",
    "        \"http://yann.lecun.com/exdb/mnist/train-images-idx3-ubyte.gz\",\n",
    "        \"train-images-idx3-ubyte.gz\",\n",
    "    ),\n",
    "    (\n",
    "        \"http://yann.lecun.com/exdb/mnist/train-labels-idx1-ubyte.gz\",\n",
    "        \"train-labels-idx1-ubyte.gz\",\n",
    "    ),\n",
    "    (\n",
    "        \"http://yann.lecun.com/exdb/mnist/t10k-images-idx3-ubyte.gz\",\n",
    "        \"t10k-images-idx3-ubyte.gz\",\n",
    "    ),\n",
    "    (\n",
    "        \"http://yann.lecun.com/exdb/mnist/t10k-labels-idx1-ubyte.gz\",\n",
    "        \"t10k-labels-idx1-ubyte.gz\",\n",
    "    ),\n",
    "]\n",
    "\n",
    "folder_name = \"tmp/mnist\"\n",
    "folder_path = os.path.join(os.getcwd(), folder_name)\n",
    "\n",
    "os.makedirs(folder_path, exist_ok=True)  # Create folder if it doesn't exist\n",
    "\n",
    "# Download and extract each file\n",
    "for url, file_name in file_info:\n",
    "    path_to_save = os.path.join(folder_path, file_name)\n",
    "    download_and_extract_dataset(url, path_to_save, folder_path)\n",
    "\n",
    "# %%\n",
    "import numpy as np\n",
    "\n",
    "\n",
    "def read_idx3_ubyte_image_file(filename):\n",
    "    \"\"\"Read IDX3-ubyte formatted image data.\"\"\"\n",
    "    with open(filename, \"rb\") as f:\n",
    "        magic_num = int.from_bytes(f.read(4), byteorder=\"big\")\n",
    "        num_images = int.from_bytes(f.read(4), byteorder=\"big\")\n",
    "        num_rows = int.from_bytes(f.read(4), byteorder=\"big\")\n",
    "        num_cols = int.from_bytes(f.read(4), byteorder=\"big\")\n",
    "\n",
    "        if magic_num != 2051:\n",
    "            raise ValueError(f\"Invalid magic number: {magic_num}\")\n",
    "\n",
    "        images = np.zeros((num_images, num_rows, num_cols), dtype=np.uint8)\n",
    "\n",
    "        for i in range(num_images):\n",
    "            for r in range(num_rows):\n",
    "                for c in range(num_cols):\n",
    "                    pixel = int.from_bytes(f.read(1), byteorder=\"big\")\n",
    "                    images[i, r, c] = pixel\n",
    "\n",
    "    return images\n",
    "\n",
    "\n",
    "def read_idx1_ubyte_label_file(filename):\n",
    "    \"\"\"Read IDX1-ubyte formatted label data.\"\"\"\n",
    "    with open(filename, \"rb\") as f:\n",
    "        magic_num = int.from_bytes(f.read(4), byteorder=\"big\")\n",
    "        num_labels = int.from_bytes(f.read(4), byteorder=\"big\")\n",
    "\n",
    "        if magic_num != 2049:\n",
    "            raise ValueError(f\"Invalid magic number: {magic_num}\")\n",
    "\n",
    "        labels = np.zeros(num_labels, dtype=np.uint8)\n",
    "\n",
    "        for i in range(num_labels):\n",
    "            labels[i] = int.from_bytes(f.read(1), byteorder=\"big\")\n",
    "\n",
    "    return labels\n",
    "\n",
    "\n",
    "# Example usage\n",
    "folder_path = os.path.join(\n",
    "    os.getcwd(), folder_name\n",
    ")  # Adjust this path to where you stored the files\n",
    "\n",
    "train_images = read_idx3_ubyte_image_file(\n",
    "    os.path.join(folder_path, \"train-images-idx3-ubyte\")\n",
    ")\n",
    "train_labels = read_idx1_ubyte_label_file(\n",
    "    os.path.join(folder_path, \"train-labels-idx1-ubyte\")\n",
    ")\n",
    "test_images = read_idx3_ubyte_image_file(\n",
    "    os.path.join(folder_path, \"t10k-images-idx3-ubyte\")\n",
    ")\n",
    "test_labels = read_idx1_ubyte_label_file(\n",
    "    os.path.join(folder_path, \"t10k-labels-idx1-ubyte\")\n",
    ")\n",
    "\n",
    "print(\n",
    "    f\"Shape of train_images: {train_images.shape}\"\n",
    ")  # Should output \"Shape of train_images: (60000, 28, 28)\"\n",
    "print(\n",
    "    f\"Shape of train_labels: {train_labels.shape}\"\n",
    ")  # Should output \"Shape of train_labels: (60000,)\"\n",
    "print(\n",
    "    f\"Shape of test_images: {test_images.shape}\"\n",
    ")  # Should output \"Shape of test_images: (10000, 28, 28)\"\n",
    "print(\n",
    "    f\"Shape of test_labels: {test_labels.shape}\"\n",
    ")  # Should output \"Shape of test_labels: (10000,)\"\n",
    "\n",
    "# %%\n",
    "# Reshape the datasets from 3D to 2D\n",
    "train_images_2d = train_images.reshape(\n",
    "    train_images.shape[0], -1\n",
    ")  # -1 infers the size from the remaining dimensions\n",
    "test_images_2d = test_images.reshape(test_images.shape[0], -1)"
   ]
  },
  {
   "cell_type": "code",
   "execution_count": 5,
   "metadata": {},
   "outputs": [],
   "source": [
    "def integral_image(img):\n",
    "    \"\"\"\n",
    "    Compute the integral image of the input img.\n",
    "    \"\"\"\n",
    "    # Convert the image to int32 type\n",
    "    img = img.astype(np.int32)\n",
    "    int_img = np.zeros_like(img)\n",
    "\n",
    "    for x in range(img.shape[1]):\n",
    "        for y in range(img.shape[0]):\n",
    "            int_img[y, x] = (\n",
    "                img[y, x]\n",
    "                + (int_img[y - 1, x] if y - 1 >= 0 else 0)\n",
    "                + (int_img[y, x - 1] if x - 1 >= 0 else 0)\n",
    "                - (int_img[y - 1, x - 1] if x - 1 >= 0 and y - 1 >= 0 else 0)\n",
    "            )\n",
    "    return int_img\n",
    "\n",
    "\n",
    "def haar_feature(int_img, type, x, y, w, h):\n",
    "    \"\"\"\n",
    "    Compute the Haar feature value for a given type, position and size.\n",
    "    \"\"\"\n",
    "    if type == \"2h\":\n",
    "        white = (\n",
    "            int_img[y, x + w]\n",
    "            - int_img[y, x]\n",
    "            + int_img[y + h, x + w]\n",
    "            - int_img[y + h, x]\n",
    "        )\n",
    "        black = (\n",
    "            int_img[y, x + 2 * w]\n",
    "            - int_img[y, x + w]\n",
    "            + int_img[y + h, x + 2 * w]\n",
    "            - int_img[y + h, x + w]\n",
    "        )\n",
    "        return black - white\n",
    "\n",
    "    elif type == \"2v\":\n",
    "        white = (\n",
    "            int_img[y, x]\n",
    "            - int_img[y, x + w]\n",
    "            + int_img[y + h // 2, x]\n",
    "            - int_img[y + h // 2, x + w]\n",
    "        )\n",
    "        black = (\n",
    "            int_img[y + h // 2, x]\n",
    "            - int_img[y + h // 2, x + w]\n",
    "            + int_img[y + h, x]\n",
    "            - int_img[y + h, x + w]\n",
    "        )\n",
    "        return black - white\n",
    "\n",
    "    elif type == \"3h\":\n",
    "        white1 = (\n",
    "            int_img[y, x + w]\n",
    "            - int_img[y, x]\n",
    "            + int_img[y + h, x + w]\n",
    "            - int_img[y + h, x]\n",
    "        )\n",
    "        black = (\n",
    "            int_img[y, x + 2 * w]\n",
    "            - int_img[y, x + w]\n",
    "            + int_img[y + h, x + 2 * w]\n",
    "            - int_img[y + h, x + w]\n",
    "        )\n",
    "        white2 = (\n",
    "            int_img[y, x + 3 * w]\n",
    "            - int_img[y, x + 2 * w]\n",
    "            + int_img[y + h, x + 3 * w]\n",
    "            - int_img[y + h, x + 2 * w]\n",
    "        )\n",
    "        return black - (white1 + white2)\n",
    "\n",
    "    elif type == \"3v\":\n",
    "        white1 = (\n",
    "            int_img[y, x]\n",
    "            - int_img[y, x + w]\n",
    "            + int_img[y + h // 3, x]\n",
    "            - int_img[y + h // 3, x + w]\n",
    "        )\n",
    "        black = (\n",
    "            int_img[y + h // 3, x]\n",
    "            - int_img[y + h // 3, x + w]\n",
    "            + int_img[y + 2 * h // 3, x]\n",
    "            - int_img[y + 2 * h // 3, x + w]\n",
    "        )\n",
    "        white2 = (\n",
    "            int_img[y + 2 * h // 3, x]\n",
    "            - int_img[y + 2 * h // 3, x + w]\n",
    "            + int_img[y + h, x]\n",
    "            - int_img[y + h, x + w]\n",
    "        )\n",
    "        return black - (white1 + white2)\n",
    "\n",
    "    else:\n",
    "        return 0\n",
    "\n",
    "\n",
    "def extract_haar_features(img):\n",
    "    \"\"\"\n",
    "    Extracts Haar features from an MNIST image.\n",
    "    \"\"\"\n",
    "    int_img = integral_image(img)\n",
    "    features = []\n",
    "    for type in [\"2h\", \"2v\", \"3h\", \"3v\"]:\n",
    "        for x in range(0, 28):\n",
    "            for y in range(0, 28):\n",
    "                for w in range(1, 14):  # limiting width to avoid out-of-bounds\n",
    "                    if type == \"2h\" and x + 2 * w <= 27 and y + 1 <= 27:\n",
    "                        features.append(haar_feature(int_img, type, x, y, w, 1))\n",
    "                    elif type == \"2v\" and y + 2 * w <= 27 and x + w <= 27:\n",
    "                        features.append(haar_feature(int_img, type, x, y, w, 1))\n",
    "                    elif type == \"3h\" and x + 3 * w <= 27 and y + 1 <= 27:\n",
    "                        features.append(haar_feature(int_img, type, x, y, w, 1))\n",
    "                    elif type == \"3v\" and y + 3 * w <= 27 and x + w <= 27:\n",
    "                        features.append(haar_feature(int_img, type, x, y, w, 1))\n",
    "    return features\n",
    "\n",
    "\n",
    "def compact_haar_features(img):\n",
    "    \"\"\"Extract Haar features using a 7x7 window for horizontal and vertical edges.\"\"\"\n",
    "    int_img = integral_image(img)\n",
    "\n",
    "    w, h = 7, 7  # Window size\n",
    "    features = []\n",
    "\n",
    "    for y in range(0, img.shape[0] - h):\n",
    "        for x in range(0, img.shape[1] - w):\n",
    "            # Horizontal edge feature\n",
    "            white = (\n",
    "                int_img[y + h // 2, x]\n",
    "                - int_img[y + h // 2, x + w]\n",
    "                + int_img[y, x + w]\n",
    "                - int_img[y, x]\n",
    "            )\n",
    "            black = (\n",
    "                int_img[y + h, x + w]\n",
    "                - int_img[y + h, x]\n",
    "                - int_img[y + h // 2, x + w]\n",
    "                + int_img[y + h // 2, x]\n",
    "            )\n",
    "            features.append(black - white)\n",
    "\n",
    "            # Vertical edge feature\n",
    "            white = (\n",
    "                int_img[y, x + w // 2]\n",
    "                - int_img[y, x]\n",
    "                + int_img[y + h, x + w // 2]\n",
    "                - int_img[y + h, x]\n",
    "            )\n",
    "            black = (\n",
    "                int_img[y + h, x + w]\n",
    "                - int_img[y + h, x + w // 2]\n",
    "                - int_img[y, x + w]\n",
    "                + int_img[y, x + w // 2]\n",
    "            )\n",
    "            features.append(black - white)\n",
    "\n",
    "    return features\n",
    "\n",
    "\n",
    "def compact_haar_features2(img):\n",
    "    int_img = integral_image(img)\n",
    "    h, w = 7, 7  # Size of the grid cell\n",
    "    features = []\n",
    "\n",
    "    for y in range(0, img.shape[0] - h, h):\n",
    "        for x in range(0, img.shape[1] - w, w):\n",
    "            # Horizontal edge feature\n",
    "            white = (\n",
    "                int_img[y, x]\n",
    "                + int_img[y + h // 2, x + w - 1]\n",
    "                - int_img[y + h // 2, x]\n",
    "                - int_img[y, x + w - 1]\n",
    "            )\n",
    "            black = (\n",
    "                int_img[y + h // 2, x]\n",
    "                + int_img[y + h, x + w - 1]\n",
    "                - int_img[y + h, x]\n",
    "                - int_img[y + h // 2, x + w - 1]\n",
    "            )\n",
    "            features.append(black - white)\n",
    "\n",
    "            # Vertical edge feature\n",
    "            white = (\n",
    "                int_img[y, x]\n",
    "                + int_img[y + h, x + w // 2 - 1]\n",
    "                - int_img[y, x + w // 2 - 1]\n",
    "                - int_img[y + h, x]\n",
    "            )\n",
    "            if x + w == img.shape[1]:  # Check if we're at the boundary\n",
    "                black = (\n",
    "                    int_img[y, x + w // 2]\n",
    "                    + int_img[y + h, x + w - 1]\n",
    "                    - int_img[y + h, x + w - 1]\n",
    "                    - int_img[y + h, x + w // 2 - 1]\n",
    "                )\n",
    "            else:\n",
    "                black = (\n",
    "                    int_img[y, x + w // 2]\n",
    "                    + int_img[y + h, x + w - 1]\n",
    "                    - int_img[y, x + w]\n",
    "                    - int_img[y + h, x + w // 2 - 1]\n",
    "                )\n",
    "            features.append(black - white)\n",
    "\n",
    "    return features\n",
    "\n",
    "\n",
    "def compact_haar_features3(img, h=7, w=7):\n",
    "    int_img = integral_image(img)\n",
    "    # h, w = 7, 7  # Size of the grid cell\n",
    "    features = []\n",
    "\n",
    "    for y in range(0, img.shape[0], h):\n",
    "        for x in range(0, img.shape[1], w):\n",
    "            # Horizontal edge feature\n",
    "            white = (\n",
    "                int_img[y + h // 2 - 1, x + w - 1]\n",
    "                + int_img[y, x]\n",
    "                - int_img[y, x + w - 1]\n",
    "                - int_img[y + h // 2 - 1, x]\n",
    "            )\n",
    "            black = (\n",
    "                int_img[y + h - 1, x + w - 1]\n",
    "                + int_img[y + h // 2, x]\n",
    "                - int_img[y + h // 2, x + w - 1]\n",
    "                - int_img[y + h - 1, x]\n",
    "            )\n",
    "            features.append(black - white)\n",
    "\n",
    "            # Vertical edge feature\n",
    "            white = (\n",
    "                int_img[y + h - 1, x + w // 2 - 1]\n",
    "                + int_img[y, x]\n",
    "                - int_img[y, x + w // 2 - 1]\n",
    "                - int_img[y + h - 1, x]\n",
    "            )\n",
    "            black = (\n",
    "                int_img[y + h - 1, x + w - 1]\n",
    "                + int_img[y, x + w // 2]\n",
    "                - int_img[y, x + w - 1]\n",
    "                - int_img[y + h - 1, x + w // 2]\n",
    "            )\n",
    "            features.append(black - white)\n",
    "\n",
    "    return features\n",
    "\n",
    "\n",
    "def compact_haar_features4(img, h=5, w=5):\n",
    "    int_img = integral_image(img)\n",
    "    features = []\n",
    "\n",
    "    for y in range(0, img.shape[0] - h + 1, h):\n",
    "        for x in range(0, img.shape[1] - w + 1, w):\n",
    "            # Horizontal edge feature\n",
    "            white = (\n",
    "                int_img[y + h // 2 - 1, x + w - 1]\n",
    "                + int_img[y, x]\n",
    "                - int_img[y, x + w - 1]\n",
    "                - int_img[y + h // 2 - 1, x]\n",
    "            )\n",
    "            black = (\n",
    "                int_img[y + h - 1, x + w - 1]\n",
    "                + int_img[y + h // 2, x]\n",
    "                - int_img[y + h // 2, x + w - 1]\n",
    "                - int_img[y + h - 1, x]\n",
    "            )\n",
    "            features.append(black - white)\n",
    "\n",
    "            # Vertical edge feature\n",
    "            white = (\n",
    "                int_img[y + h - 1, x + w // 2 - 1]\n",
    "                + int_img[y, x]\n",
    "                - int_img[y, x + w // 2 - 1]\n",
    "                - int_img[y + h - 1, x]\n",
    "            )\n",
    "            black = (\n",
    "                int_img[y + h - 1, x + w - 1]\n",
    "                + int_img[y, x + w // 2]\n",
    "                - int_img[y, x + w - 1]\n",
    "                - int_img[y + h - 1, x + w // 2]\n",
    "            )\n",
    "            features.append(black - white)\n",
    "\n",
    "    return features"
   ]
  },
  {
   "cell_type": "code",
   "execution_count": 62,
   "metadata": {},
   "outputs": [
    {
     "name": "stdout",
     "output_type": "stream",
     "text": [
      "[0, 0, 0, 0, 0, 0, 0, 0, 0, 0, 0, 0, 660, 1265, 849, 766, -218, -224, -501, -234, 0, 0, 0, 0, 238, 1152, 506, -336, 0, 0, 0, 0, 0, 0, 462, 423, 1049, 1305, 0, 0, 191, 191, 1749, 917, -608, 26, -83, -81, 0, 0]\n",
      "length of a haar feature 50\n"
     ]
    }
   ],
   "source": [
    "haar_1 = compact_haar_features4(train_images_2d[0].reshape(28, 28))\n",
    "print(haar_1)\n",
    "len_haar_features = len(haar_1)\n",
    "print(\"length of a haar feature\", len_haar_features)"
   ]
  },
  {
   "cell_type": "code",
   "execution_count": 64,
   "metadata": {},
   "outputs": [],
   "source": [
    "# compute datasets\n",
    "\n",
    "num_train = len(train_images)\n",
    "num_test = len(test_images)\n",
    "\n",
    "haar_train = np.zeros((num_train, len_haar_features))\n",
    "haar_test = np.zeros((num_test, len_haar_features))\n",
    "\n",
    "for i in range(num_train):\n",
    "    haar_train[i] = compact_haar_features4(train_images_2d[i].reshape(28, 28))\n",
    "\n",
    "for i in range(num_test):\n",
    "    haar_test[i] = compact_haar_features4(test_images_2d[i].reshape(28, 28))"
   ]
  },
  {
   "cell_type": "code",
   "execution_count": 65,
   "metadata": {},
   "outputs": [],
   "source": [
    "train_features = haar_train\n",
    "test_features = haar_test"
   ]
  },
  {
   "cell_type": "code",
   "execution_count": 66,
   "metadata": {},
   "outputs": [
    {
     "data": {
      "text/html": [
       "<style>#sk-container-id-3 {color: black;}#sk-container-id-3 pre{padding: 0;}#sk-container-id-3 div.sk-toggleable {background-color: white;}#sk-container-id-3 label.sk-toggleable__label {cursor: pointer;display: block;width: 100%;margin-bottom: 0;padding: 0.3em;box-sizing: border-box;text-align: center;}#sk-container-id-3 label.sk-toggleable__label-arrow:before {content: \"▸\";float: left;margin-right: 0.25em;color: #696969;}#sk-container-id-3 label.sk-toggleable__label-arrow:hover:before {color: black;}#sk-container-id-3 div.sk-estimator:hover label.sk-toggleable__label-arrow:before {color: black;}#sk-container-id-3 div.sk-toggleable__content {max-height: 0;max-width: 0;overflow: hidden;text-align: left;background-color: #f0f8ff;}#sk-container-id-3 div.sk-toggleable__content pre {margin: 0.2em;color: black;border-radius: 0.25em;background-color: #f0f8ff;}#sk-container-id-3 input.sk-toggleable__control:checked~div.sk-toggleable__content {max-height: 200px;max-width: 100%;overflow: auto;}#sk-container-id-3 input.sk-toggleable__control:checked~label.sk-toggleable__label-arrow:before {content: \"▾\";}#sk-container-id-3 div.sk-estimator input.sk-toggleable__control:checked~label.sk-toggleable__label {background-color: #d4ebff;}#sk-container-id-3 div.sk-label input.sk-toggleable__control:checked~label.sk-toggleable__label {background-color: #d4ebff;}#sk-container-id-3 input.sk-hidden--visually {border: 0;clip: rect(1px 1px 1px 1px);clip: rect(1px, 1px, 1px, 1px);height: 1px;margin: -1px;overflow: hidden;padding: 0;position: absolute;width: 1px;}#sk-container-id-3 div.sk-estimator {font-family: monospace;background-color: #f0f8ff;border: 1px dotted black;border-radius: 0.25em;box-sizing: border-box;margin-bottom: 0.5em;}#sk-container-id-3 div.sk-estimator:hover {background-color: #d4ebff;}#sk-container-id-3 div.sk-parallel-item::after {content: \"\";width: 100%;border-bottom: 1px solid gray;flex-grow: 1;}#sk-container-id-3 div.sk-label:hover label.sk-toggleable__label {background-color: #d4ebff;}#sk-container-id-3 div.sk-serial::before {content: \"\";position: absolute;border-left: 1px solid gray;box-sizing: border-box;top: 0;bottom: 0;left: 50%;z-index: 0;}#sk-container-id-3 div.sk-serial {display: flex;flex-direction: column;align-items: center;background-color: white;padding-right: 0.2em;padding-left: 0.2em;position: relative;}#sk-container-id-3 div.sk-item {position: relative;z-index: 1;}#sk-container-id-3 div.sk-parallel {display: flex;align-items: stretch;justify-content: center;background-color: white;position: relative;}#sk-container-id-3 div.sk-item::before, #sk-container-id-3 div.sk-parallel-item::before {content: \"\";position: absolute;border-left: 1px solid gray;box-sizing: border-box;top: 0;bottom: 0;left: 50%;z-index: -1;}#sk-container-id-3 div.sk-parallel-item {display: flex;flex-direction: column;z-index: 1;position: relative;background-color: white;}#sk-container-id-3 div.sk-parallel-item:first-child::after {align-self: flex-end;width: 50%;}#sk-container-id-3 div.sk-parallel-item:last-child::after {align-self: flex-start;width: 50%;}#sk-container-id-3 div.sk-parallel-item:only-child::after {width: 0;}#sk-container-id-3 div.sk-dashed-wrapped {border: 1px dashed gray;margin: 0 0.4em 0.5em 0.4em;box-sizing: border-box;padding-bottom: 0.4em;background-color: white;}#sk-container-id-3 div.sk-label label {font-family: monospace;font-weight: bold;display: inline-block;line-height: 1.2em;}#sk-container-id-3 div.sk-label-container {text-align: center;}#sk-container-id-3 div.sk-container {/* jupyter's `normalize.less` sets `[hidden] { display: none; }` but bootstrap.min.css set `[hidden] { display: none !important; }` so we also need the `!important` here to be able to override the default hidden behavior on the sphinx rendered scikit-learn.org. See: https://github.com/scikit-learn/scikit-learn/issues/21755 */display: inline-block !important;position: relative;}#sk-container-id-3 div.sk-text-repr-fallback {display: none;}</style><div id=\"sk-container-id-3\" class=\"sk-top-container\"><div class=\"sk-text-repr-fallback\"><pre>DecisionTreeClassifier(max_depth=10, random_state=0)</pre><b>In a Jupyter environment, please rerun this cell to show the HTML representation or trust the notebook. <br />On GitHub, the HTML representation is unable to render, please try loading this page with nbviewer.org.</b></div><div class=\"sk-container\" hidden><div class=\"sk-item\"><div class=\"sk-estimator sk-toggleable\"><input class=\"sk-toggleable__control sk-hidden--visually\" id=\"sk-estimator-id-3\" type=\"checkbox\" checked><label for=\"sk-estimator-id-3\" class=\"sk-toggleable__label sk-toggleable__label-arrow\">DecisionTreeClassifier</label><div class=\"sk-toggleable__content\"><pre>DecisionTreeClassifier(max_depth=10, random_state=0)</pre></div></div></div></div></div>"
      ],
      "text/plain": [
       "DecisionTreeClassifier(max_depth=10, random_state=0)"
      ]
     },
     "execution_count": 66,
     "metadata": {},
     "output_type": "execute_result"
    }
   ],
   "source": [
    "from sklearn.tree import DecisionTreeClassifier\n",
    "\n",
    "# Create and train a decision tree classifier\n",
    "clf = DecisionTreeClassifier(max_depth=10, random_state=0)\n",
    "clf.fit(train_features, train_labels)"
   ]
  },
  {
   "cell_type": "code",
   "execution_count": 67,
   "metadata": {},
   "outputs": [
    {
     "name": "stdout",
     "output_type": "stream",
     "text": [
      "Python accuracy: 82.26 %\n"
     ]
    }
   ],
   "source": [
    "import numpy as np\n",
    "\n",
    "num_test_samples = len(test_features)\n",
    "python_predictions = clf.predict(test_features)\n",
    "python_accuracy = np.sum(python_predictions == test_labels) / num_test_samples\n",
    "print(f\"Python accuracy: {100*python_accuracy} %\")"
   ]
  },
  {
   "cell_type": "code",
   "execution_count": 68,
   "metadata": {},
   "outputs": [
    {
     "name": "stdout",
     "output_type": "stream",
     "text": [
      "classifier depth 10\n"
     ]
    }
   ],
   "source": [
    "print(\"classifier depth\", clf.get_depth())"
   ]
  },
  {
   "cell_type": "markdown",
   "metadata": {},
   "source": [
    "## Try out an SVM"
   ]
  },
  {
   "cell_type": "code",
   "execution_count": 72,
   "metadata": {},
   "outputs": [],
   "source": [
    "from sklearn.preprocessing import StandardScaler\n",
    "\n",
    "scaler = StandardScaler()\n",
    "train_features_normalized = scaler.fit_transform(train_features)\n",
    "test_features_normalized = scaler.transform(test_features)"
   ]
  },
  {
   "cell_type": "code",
   "execution_count": 33,
   "metadata": {},
   "outputs": [],
   "source": [
    "from sklearn.svm import SVC"
   ]
  },
  {
   "cell_type": "code",
   "execution_count": 81,
   "metadata": {},
   "outputs": [
    {
     "data": {
      "text/html": [
       "<style>#sk-container-id-4 {color: black;}#sk-container-id-4 pre{padding: 0;}#sk-container-id-4 div.sk-toggleable {background-color: white;}#sk-container-id-4 label.sk-toggleable__label {cursor: pointer;display: block;width: 100%;margin-bottom: 0;padding: 0.3em;box-sizing: border-box;text-align: center;}#sk-container-id-4 label.sk-toggleable__label-arrow:before {content: \"▸\";float: left;margin-right: 0.25em;color: #696969;}#sk-container-id-4 label.sk-toggleable__label-arrow:hover:before {color: black;}#sk-container-id-4 div.sk-estimator:hover label.sk-toggleable__label-arrow:before {color: black;}#sk-container-id-4 div.sk-toggleable__content {max-height: 0;max-width: 0;overflow: hidden;text-align: left;background-color: #f0f8ff;}#sk-container-id-4 div.sk-toggleable__content pre {margin: 0.2em;color: black;border-radius: 0.25em;background-color: #f0f8ff;}#sk-container-id-4 input.sk-toggleable__control:checked~div.sk-toggleable__content {max-height: 200px;max-width: 100%;overflow: auto;}#sk-container-id-4 input.sk-toggleable__control:checked~label.sk-toggleable__label-arrow:before {content: \"▾\";}#sk-container-id-4 div.sk-estimator input.sk-toggleable__control:checked~label.sk-toggleable__label {background-color: #d4ebff;}#sk-container-id-4 div.sk-label input.sk-toggleable__control:checked~label.sk-toggleable__label {background-color: #d4ebff;}#sk-container-id-4 input.sk-hidden--visually {border: 0;clip: rect(1px 1px 1px 1px);clip: rect(1px, 1px, 1px, 1px);height: 1px;margin: -1px;overflow: hidden;padding: 0;position: absolute;width: 1px;}#sk-container-id-4 div.sk-estimator {font-family: monospace;background-color: #f0f8ff;border: 1px dotted black;border-radius: 0.25em;box-sizing: border-box;margin-bottom: 0.5em;}#sk-container-id-4 div.sk-estimator:hover {background-color: #d4ebff;}#sk-container-id-4 div.sk-parallel-item::after {content: \"\";width: 100%;border-bottom: 1px solid gray;flex-grow: 1;}#sk-container-id-4 div.sk-label:hover label.sk-toggleable__label {background-color: #d4ebff;}#sk-container-id-4 div.sk-serial::before {content: \"\";position: absolute;border-left: 1px solid gray;box-sizing: border-box;top: 0;bottom: 0;left: 50%;z-index: 0;}#sk-container-id-4 div.sk-serial {display: flex;flex-direction: column;align-items: center;background-color: white;padding-right: 0.2em;padding-left: 0.2em;position: relative;}#sk-container-id-4 div.sk-item {position: relative;z-index: 1;}#sk-container-id-4 div.sk-parallel {display: flex;align-items: stretch;justify-content: center;background-color: white;position: relative;}#sk-container-id-4 div.sk-item::before, #sk-container-id-4 div.sk-parallel-item::before {content: \"\";position: absolute;border-left: 1px solid gray;box-sizing: border-box;top: 0;bottom: 0;left: 50%;z-index: -1;}#sk-container-id-4 div.sk-parallel-item {display: flex;flex-direction: column;z-index: 1;position: relative;background-color: white;}#sk-container-id-4 div.sk-parallel-item:first-child::after {align-self: flex-end;width: 50%;}#sk-container-id-4 div.sk-parallel-item:last-child::after {align-self: flex-start;width: 50%;}#sk-container-id-4 div.sk-parallel-item:only-child::after {width: 0;}#sk-container-id-4 div.sk-dashed-wrapped {border: 1px dashed gray;margin: 0 0.4em 0.5em 0.4em;box-sizing: border-box;padding-bottom: 0.4em;background-color: white;}#sk-container-id-4 div.sk-label label {font-family: monospace;font-weight: bold;display: inline-block;line-height: 1.2em;}#sk-container-id-4 div.sk-label-container {text-align: center;}#sk-container-id-4 div.sk-container {/* jupyter's `normalize.less` sets `[hidden] { display: none; }` but bootstrap.min.css set `[hidden] { display: none !important; }` so we also need the `!important` here to be able to override the default hidden behavior on the sphinx rendered scikit-learn.org. See: https://github.com/scikit-learn/scikit-learn/issues/21755 */display: inline-block !important;position: relative;}#sk-container-id-4 div.sk-text-repr-fallback {display: none;}</style><div id=\"sk-container-id-4\" class=\"sk-top-container\"><div class=\"sk-text-repr-fallback\"><pre>SVC(C=1000, random_state=0)</pre><b>In a Jupyter environment, please rerun this cell to show the HTML representation or trust the notebook. <br />On GitHub, the HTML representation is unable to render, please try loading this page with nbviewer.org.</b></div><div class=\"sk-container\" hidden><div class=\"sk-item\"><div class=\"sk-estimator sk-toggleable\"><input class=\"sk-toggleable__control sk-hidden--visually\" id=\"sk-estimator-id-4\" type=\"checkbox\" checked><label for=\"sk-estimator-id-4\" class=\"sk-toggleable__label sk-toggleable__label-arrow\">SVC</label><div class=\"sk-toggleable__content\"><pre>SVC(C=1000, random_state=0)</pre></div></div></div></div></div>"
      ],
      "text/plain": [
       "SVC(C=1000, random_state=0)"
      ]
     },
     "execution_count": 81,
     "metadata": {},
     "output_type": "execute_result"
    }
   ],
   "source": [
    "clf = SVC(kernel=\"rbf\", random_state=0, C=1000)\n",
    "clf.fit(train_features_normalized, train_labels)"
   ]
  },
  {
   "cell_type": "code",
   "execution_count": 82,
   "metadata": {},
   "outputs": [
    {
     "name": "stdout",
     "output_type": "stream",
     "text": [
      "Python accuracy: 94.34 %\n",
      "Number of support vectors [1039  542 1985 1904 1445 1742 1167 1311 1962 1562]\n",
      "Total number of support vectors 14659\n"
     ]
    }
   ],
   "source": [
    "num_test_samples = len(test_features)\n",
    "python_predictions = clf.predict(test_features_normalized)\n",
    "python_accuracy = np.sum(python_predictions == test_labels) / num_test_samples\n",
    "print(f\"Python accuracy: {100*python_accuracy} %\")\n",
    "\n",
    "print(\"Number of support vectors\", clf.n_support_)\n",
    "print(\"Total number of support vectors\", sum(clf.n_support_))"
   ]
  },
  {
   "cell_type": "markdown",
   "metadata": {},
   "source": [
    "## Try out an MLP neural network"
   ]
  },
  {
   "cell_type": "code",
   "execution_count": 79,
   "metadata": {},
   "outputs": [
    {
     "name": "stdout",
     "output_type": "stream",
     "text": [
      "Accuracy: 0.9104\n"
     ]
    },
    {
     "name": "stderr",
     "output_type": "stream",
     "text": [
      "/Users/kp/miniconda3/lib/python3.11/site-packages/sklearn/neural_network/_multilayer_perceptron.py:691: ConvergenceWarning: Stochastic Optimizer: Maximum iterations (20) reached and the optimization hasn't converged yet.\n",
      "  warnings.warn(\n"
     ]
    }
   ],
   "source": [
    "from sklearn.neural_network import MLPClassifier\n",
    "\n",
    "# Define and initialize the MLP classifier\n",
    "clf = MLPClassifier(\n",
    "    hidden_layer_sizes=(30,), max_iter=20, alpha=0.0001, solver=\"adam\", random_state=0\n",
    ")\n",
    "clf.fit(train_features_normalized, train_labels)\n",
    "\n",
    "\n",
    "# Evaluate the classifier\n",
    "accuracy = clf.score(test_features_normalized, test_labels)\n",
    "print(\"Accuracy:\", accuracy)"
   ]
  },
  {
   "cell_type": "code",
   "execution_count": 80,
   "metadata": {},
   "outputs": [
    {
     "name": "stdout",
     "output_type": "stream",
     "text": [
      "Number of neurons per layer: [50, 30, 10]\n"
     ]
    }
   ],
   "source": [
    "layers_sizes = [clf.coefs_[0].shape[0]] + [coef.shape[1] for coef in clf.coefs_]\n",
    "\n",
    "print(\"Number of neurons per layer:\", layers_sizes)"
   ]
  },
  {
   "cell_type": "markdown",
   "metadata": {},
   "source": [
    "## Experiments with finer haar features, at fixed positions"
   ]
  },
  {
   "cell_type": "code",
   "execution_count": 15,
   "metadata": {},
   "outputs": [],
   "source": [
    "def compute_haar_features(image):\n",
    "    if image.shape != (28, 28):\n",
    "        raise ValueError(\"Input image must be of shape 28x28.\")\n",
    "\n",
    "    features = []\n",
    "\n",
    "    # Sliding window\n",
    "    for i in range(0, 28):  # Slide vertically\n",
    "        for j in range(0, 28):  # Slide horizontally\n",
    "\n",
    "            if i % 2 != 0 or j % 2 != 0:\n",
    "                continue\n",
    "\n",
    "            if i + 4 > 28 or j + 4 > 28:\n",
    "                continue\n",
    "\n",
    "            # Extract 4x4 window\n",
    "            window = image[i : i + 4, j : j + 4]\n",
    "\n",
    "            # Horizontal feature\n",
    "            horizontal_feature_value = np.sum(window[0:2, :]) - np.sum(window[2:4, :])\n",
    "\n",
    "            # Vertical feature\n",
    "            vertical_feature_value = np.sum(window[:, 0:2]) - np.sum(window[:, 2:4])\n",
    "\n",
    "            features.append(horizontal_feature_value)\n",
    "            features.append(vertical_feature_value)\n",
    "\n",
    "    return features"
   ]
  },
  {
   "cell_type": "code",
   "execution_count": 17,
   "metadata": {},
   "outputs": [
    {
     "name": "stdout",
     "output_type": "stream",
     "text": [
      "[0, 0, 0, 0, 0, 0, 0, 0, 0, 0, 0, 0, 0, 0, 0, 0, 0, 0, 0, 0, 0, 0, 0, 0, 0, 0, 0, 0, 0, 0, 0, 0, 0, 0, 0, 0, 18446744073709551595, 18446744073709551595, 18446744073709551559, 18446744073709551601, 18446744073709551318, 18446744073709551390, 18446744073709551153, 61, 18446744073709550994, 18446744073709551396, 18446744073709550821, 47, 18446744073709551242, 374, 0, 0, 0, 0, 0, 0, 18446744073709551567, 18446744073709551567, 18446744073709551010, 18446744073709551108, 18446744073709550305, 18446744073709551419, 18446744073709549954, 18446744073709551420, 18446744073709549732, 18446744073709551518, 18446744073709549892, 18446744073709551392, 18446744073709550497, 499, 18446744073709551033, 18446744073709551335, 18446744073709551480, 382, 76, 672, 0, 0, 0, 0, 0, 0, 31, 18446744073709551549, 18446744073709551496, 18446744073709550418, 18446744073709551353, 18446744073709551261, 18446744073709551469, 18446744073709551343, 586, 490, 946, 18446744073709551324, 897, 1123, 1205, 18446744073709551555, 931, 335, 298, 298, 0, 0, 0, 0, 0, 0, 18, 18446744073709551598, 712, 18446744073709550912, 1266, 18446744073709551178, 750, 18446744073709551026, 567, 1357, 1074, 18446744073709551324, 685, 685, 0, 0, 0, 0, 0, 0, 0, 0, 0, 0, 0, 0, 0, 0, 14, 18446744073709551602, 297, 18446744073709551325, 350, 18446744073709550416, 18446744073709551230, 1048, 18446744073709551054, 348, 18446744073709551507, 109, 0, 0, 0, 0, 0, 0, 0, 0, 0, 0, 0, 0, 0, 0, 0, 0, 11, 18446744073709551605, 649, 18446744073709550827, 369, 18446744073709551237, 18446744073709550578, 192, 18446744073709550645, 785, 18446744073709551414, 202, 0, 0, 0, 0, 0, 0, 0, 0, 0, 0, 0, 0, 0, 0, 0, 0, 81, 18446744073709551535, 789, 18446744073709550957, 992, 18446744073709550884, 18446744073709551160, 328, 18446744073709550812, 1080, 18446744073709551552, 64, 0, 0, 0, 0, 0, 0, 0, 0, 0, 0, 0, 0, 0, 0, 18446744073709551429, 18446744073709551429, 18446744073709550787, 18446744073709551129, 18446744073709550626, 18446744073709550754, 18446744073709551318, 18446744073709551318, 112, 1768, 62, 66, 0, 0, 0, 0, 0, 0, 0, 0, 0, 0, 18446744073709551527, 18446744073709551527, 18446744073709550923, 18446744073709551101, 18446744073709550219, 18446744073709551053, 18446744073709550524, 18446744073709551168, 106, 136, 1219, 509, 816, 968, 2, 2, 0, 0, 0, 0, 0, 0, 18446744073709551389, 18446744073709551389, 18446744073709550721, 18446744073709551175, 18446744073709550059, 18446744073709551217, 18446744073709550328, 18446744073709551076, 18446744073709551605, 35, 1256, 526, 1405, 509, 615, 459, 78, 78, 0, 0, 0, 0, 0, 0, 0, 0, 18446744073709551454, 18446744073709551000, 0, 18446744073709551058, 793, 18446744073709551465, 1486, 174, 1447, 559, 681, 503, 89, 89, 0, 0, 0, 0, 0, 0, 0, 0, 0, 0, 0, 0, 389, 18446744073709551227, 895, 18446744073709551499, 853, 159, 495, 199, 148, 148, 0, 0, 0, 0, 0, 0, 0, 0, 0, 0, 0, 0, 0, 0]\n",
      "length of a haar feature 338\n"
     ]
    },
    {
     "name": "stderr",
     "output_type": "stream",
     "text": [
      "/var/folders/vv/tpx839bx0fv237mr6s68w1nh0000gn/T/ipykernel_98658/1287578199.py:21: RuntimeWarning: overflow encountered in scalar subtract\n",
      "  horizontal_feature_value = np.sum(window[0:2, :]) - np.sum(window[2:4, :])\n",
      "/var/folders/vv/tpx839bx0fv237mr6s68w1nh0000gn/T/ipykernel_98658/1287578199.py:24: RuntimeWarning: overflow encountered in scalar subtract\n",
      "  vertical_feature_value = np.sum(window[:, 0:2]) - np.sum(window[:, 2:4])\n"
     ]
    }
   ],
   "source": [
    "haar_1 = compute_haar_features(train_images_2d[0].reshape(28, 28))\n",
    "print(haar_1)\n",
    "len_haar_features = len(haar_1)\n",
    "print(\"length of a haar feature\", len_haar_features)"
   ]
  },
  {
   "cell_type": "code",
   "execution_count": 18,
   "metadata": {},
   "outputs": [
    {
     "name": "stderr",
     "output_type": "stream",
     "text": [
      "/var/folders/vv/tpx839bx0fv237mr6s68w1nh0000gn/T/ipykernel_98658/1287578199.py:21: RuntimeWarning: overflow encountered in scalar subtract\n",
      "  horizontal_feature_value = np.sum(window[0:2, :]) - np.sum(window[2:4, :])\n",
      "/var/folders/vv/tpx839bx0fv237mr6s68w1nh0000gn/T/ipykernel_98658/1287578199.py:24: RuntimeWarning: overflow encountered in scalar subtract\n",
      "  vertical_feature_value = np.sum(window[:, 0:2]) - np.sum(window[:, 2:4])\n"
     ]
    }
   ],
   "source": [
    "# compute datasets\n",
    "\n",
    "num_train = len(train_images)\n",
    "num_test = len(test_images)\n",
    "\n",
    "haar_train = np.zeros((num_train, len_haar_features))\n",
    "haar_test = np.zeros((num_test, len_haar_features))\n",
    "\n",
    "for i in range(num_train):\n",
    "    haar_train[i] = compute_haar_features(train_images_2d[i].reshape(28, 28))\n",
    "\n",
    "for i in range(num_test):\n",
    "    haar_test[i] = compute_haar_features(test_images_2d[i].reshape(28, 28))"
   ]
  },
  {
   "cell_type": "code",
   "execution_count": 19,
   "metadata": {},
   "outputs": [],
   "source": [
    "from sklearn.preprocessing import StandardScaler\n",
    "\n",
    "scaler = StandardScaler()\n",
    "train_features_normalized = scaler.fit_transform(haar_train)\n",
    "test_features_normalized = scaler.transform(haar_test)"
   ]
  },
  {
   "cell_type": "code",
   "execution_count": 21,
   "metadata": {},
   "outputs": [
    {
     "name": "stdout",
     "output_type": "stream",
     "text": [
      "Accuracy: 0.9642\n"
     ]
    },
    {
     "name": "stderr",
     "output_type": "stream",
     "text": [
      "/Users/kp/miniconda3/lib/python3.11/site-packages/sklearn/neural_network/_multilayer_perceptron.py:691: ConvergenceWarning: Stochastic Optimizer: Maximum iterations (20) reached and the optimization hasn't converged yet.\n",
      "  warnings.warn(\n"
     ]
    }
   ],
   "source": [
    "from sklearn.neural_network import MLPClassifier\n",
    "\n",
    "# Define and initialize the MLP classifier\n",
    "clf = MLPClassifier(\n",
    "    hidden_layer_sizes=(174,), max_iter=20, alpha=0.0001, solver=\"adam\", random_state=0\n",
    ")\n",
    "clf.fit(train_features_normalized, train_labels)\n",
    "\n",
    "# Evaluate the classifier\n",
    "accuracy = clf.score(test_features_normalized, test_labels)\n",
    "print(\"Accuracy:\", accuracy)"
   ]
  },
  {
   "cell_type": "code",
   "execution_count": 22,
   "metadata": {},
   "outputs": [
    {
     "name": "stdout",
     "output_type": "stream",
     "text": [
      "Number of weight parameters: 60552\n",
      "Number of changed weight parameters: 38650\n",
      "Number of bias parameters: 184\n",
      "Number of changed bias parameters: 119\n",
      "Percentage of weights pruned: 63.83%\n",
      "Percentage of biases pruned: 64.67%\n",
      "Remaining number of non-zero weights: 21902\n",
      "Remaining number of non-zero biases: 65\n"
     ]
    }
   ],
   "source": [
    "import copy\n",
    "\n",
    "from helper import prune_neural_network\n",
    "\n",
    "pruned_network = copy.deepcopy(clf)\n",
    "pruned_network = prune_neural_network(pruned_network, 1e-1, 1e-1)"
   ]
  },
  {
   "cell_type": "code",
   "execution_count": 23,
   "metadata": {},
   "outputs": [
    {
     "name": "stdout",
     "output_type": "stream",
     "text": [
      "Accuracy: 0.9609\n"
     ]
    }
   ],
   "source": [
    "# Evaluate the classifier\n",
    "accuracy = pruned_network.score(test_features_normalized, test_labels)\n",
    "print(\"Accuracy:\", accuracy)"
   ]
  },
  {
   "cell_type": "markdown",
   "metadata": {},
   "source": [
    "## Step size 3, window size 6x6"
   ]
  },
  {
   "cell_type": "code",
   "execution_count": 24,
   "metadata": {},
   "outputs": [],
   "source": [
    "def compute_haar_features(image):\n",
    "    if image.shape != (28, 28):\n",
    "        raise ValueError(\"Input image must be of shape 28x28.\")\n",
    "\n",
    "    features = []\n",
    "\n",
    "    # Sliding window\n",
    "    for i in range(0, 28, 3):  # Slide vertically with a step of 3\n",
    "        for j in range(0, 28, 3):  # Slide horizontally with a step of 3\n",
    "\n",
    "            if i + 6 > 28 or j + 6 > 28:\n",
    "                continue\n",
    "\n",
    "            # Extract 6x6 window\n",
    "            window = image[i : i + 6, j : j + 6]\n",
    "\n",
    "            # Horizontal feature\n",
    "            horizontal_feature_value = np.sum(window[0:3, :]) - np.sum(window[3:6, :])\n",
    "\n",
    "            # Vertical feature\n",
    "            vertical_feature_value = np.sum(window[:, 0:3]) - np.sum(window[:, 3:6])\n",
    "\n",
    "            features.append(horizontal_feature_value)\n",
    "            features.append(vertical_feature_value)\n",
    "\n",
    "    return features"
   ]
  },
  {
   "cell_type": "code",
   "execution_count": 25,
   "metadata": {},
   "outputs": [
    {
     "name": "stdout",
     "output_type": "stream",
     "text": [
      "[0, 0, 0, 0, 0, 0, 18446744073709551577, 18446744073709551577, 18446744073709551297, 18446744073709551375, 18446744073709550969, 18446744073709551529, 18446744073709550620, 18446744073709551354, 18446744073709550987, 629, 0, 0, 18446744073709551062, 18446744073709551062, 18446744073709549260, 18446744073709550368, 18446744073709547714, 18446744073709551240, 18446744073709547610, 18446744073709551328, 18446744073709549170, 1192, 18446744073709551109, 49, 33, 1225, 0, 0, 474, 18446744073709550982, 1452, 18446744073709549624, 1860, 18446744073709550846, 2871, 1013, 2896, 1476, 1503, 311, 596, 596, 0, 0, 80, 18446744073709551536, 893, 18446744073709550861, 735, 18446744073709549859, 18446744073709550841, 1501, 18446744073709550894, 1066, 18446744073709551591, 25, 0, 0, 0, 0, 0, 0, 11, 18446744073709551605, 1301, 18446744073709550247, 882, 18446744073709550800, 18446744073709550050, 988, 18446744073709550458, 1208, 0, 0, 0, 0, 0, 0, 18446744073709551478, 18446744073709551478, 18446744073709550334, 18446744073709550520, 18446744073709549742, 18446744073709549516, 18446744073709551097, 1179, 211, 2155, 0, 0, 18446744073709551389, 18446744073709551389, 18446744073709550226, 18446744073709550680, 18446744073709548550, 18446744073709550600, 18446744073709549471, 18446744073709551175, 1500, 298, 2714, 1350, 972, 972, 0, 0, 18446744073709551454, 18446744073709551000, 283, 18446744073709550351, 2203, 18446744073709551173, 3189, 893, 1721, 1141, 290, 290, 0, 0, 0, 0]\n",
      "length of a haar feature 128\n"
     ]
    },
    {
     "name": "stderr",
     "output_type": "stream",
     "text": [
      "/var/folders/vv/tpx839bx0fv237mr6s68w1nh0000gn/T/ipykernel_98658/2832323719.py:18: RuntimeWarning: overflow encountered in scalar subtract\n",
      "  horizontal_feature_value = np.sum(window[0:3, :]) - np.sum(window[3:6, :])\n",
      "/var/folders/vv/tpx839bx0fv237mr6s68w1nh0000gn/T/ipykernel_98658/2832323719.py:21: RuntimeWarning: overflow encountered in scalar subtract\n",
      "  vertical_feature_value = np.sum(window[:, 0:3]) - np.sum(window[:, 3:6])\n"
     ]
    }
   ],
   "source": [
    "haar_1 = compute_haar_features(train_images_2d[0].reshape(28, 28))\n",
    "print(haar_1)\n",
    "len_haar_features = len(haar_1)\n",
    "print(\"length of a haar feature\", len_haar_features)"
   ]
  },
  {
   "cell_type": "code",
   "execution_count": 26,
   "metadata": {},
   "outputs": [
    {
     "name": "stderr",
     "output_type": "stream",
     "text": [
      "/var/folders/vv/tpx839bx0fv237mr6s68w1nh0000gn/T/ipykernel_98658/2832323719.py:18: RuntimeWarning: overflow encountered in scalar subtract\n",
      "  horizontal_feature_value = np.sum(window[0:3, :]) - np.sum(window[3:6, :])\n",
      "/var/folders/vv/tpx839bx0fv237mr6s68w1nh0000gn/T/ipykernel_98658/2832323719.py:21: RuntimeWarning: overflow encountered in scalar subtract\n",
      "  vertical_feature_value = np.sum(window[:, 0:3]) - np.sum(window[:, 3:6])\n"
     ]
    }
   ],
   "source": [
    "# compute datasets\n",
    "\n",
    "num_train = len(train_images)\n",
    "num_test = len(test_images)\n",
    "\n",
    "haar_train = np.zeros((num_train, len_haar_features))\n",
    "haar_test = np.zeros((num_test, len_haar_features))\n",
    "\n",
    "for i in range(num_train):\n",
    "    haar_train[i] = compute_haar_features(train_images_2d[i].reshape(28, 28))\n",
    "\n",
    "for i in range(num_test):\n",
    "    haar_test[i] = compute_haar_features(test_images_2d[i].reshape(28, 28))"
   ]
  },
  {
   "cell_type": "code",
   "execution_count": 27,
   "metadata": {},
   "outputs": [],
   "source": [
    "scaler = StandardScaler()\n",
    "train_features_normalized = scaler.fit_transform(haar_train)\n",
    "test_features_normalized = scaler.transform(haar_test)"
   ]
  },
  {
   "cell_type": "code",
   "execution_count": 29,
   "metadata": {},
   "outputs": [
    {
     "name": "stdout",
     "output_type": "stream",
     "text": [
      "Accuracy: 0.9529\n"
     ]
    },
    {
     "name": "stderr",
     "output_type": "stream",
     "text": [
      "/Users/kp/miniconda3/lib/python3.11/site-packages/sklearn/neural_network/_multilayer_perceptron.py:691: ConvergenceWarning: Stochastic Optimizer: Maximum iterations (20) reached and the optimization hasn't converged yet.\n",
      "  warnings.warn(\n"
     ]
    }
   ],
   "source": [
    "from sklearn.neural_network import MLPClassifier\n",
    "\n",
    "# Define and initialize the MLP classifier\n",
    "clf = MLPClassifier(\n",
    "    hidden_layer_sizes=(69,), max_iter=20, alpha=0.0001, solver=\"adam\", random_state=0\n",
    ")\n",
    "clf.fit(train_features_normalized, train_labels)\n",
    "\n",
    "# Evaluate the classifier\n",
    "accuracy = clf.score(test_features_normalized, test_labels)\n",
    "print(\"Accuracy:\", accuracy)"
   ]
  },
  {
   "cell_type": "code",
   "execution_count": 30,
   "metadata": {},
   "outputs": [
    {
     "name": "stdout",
     "output_type": "stream",
     "text": [
      "Number of weight parameters: 9522\n",
      "Number of changed weight parameters: 4241\n",
      "Number of bias parameters: 79\n",
      "Number of changed bias parameters: 30\n",
      "Percentage of weights pruned: 44.54%\n",
      "Percentage of biases pruned: 37.97%\n",
      "Remaining number of non-zero weights: 5281\n",
      "Remaining number of non-zero biases: 49\n"
     ]
    }
   ],
   "source": [
    "pruned_network = copy.deepcopy(clf)\n",
    "pruned_network = prune_neural_network(pruned_network, 1e-1, 1e-1)"
   ]
  },
  {
   "cell_type": "code",
   "execution_count": 31,
   "metadata": {},
   "outputs": [
    {
     "name": "stdout",
     "output_type": "stream",
     "text": [
      "Accuracy: 0.9494\n"
     ]
    }
   ],
   "source": [
    "# Evaluate the classifier\n",
    "accuracy = pruned_network.score(test_features_normalized, test_labels)\n",
    "print(\"Accuracy:\", accuracy)"
   ]
  },
  {
   "cell_type": "markdown",
   "metadata": {},
   "source": [
    "## Try out an SVM"
   ]
  },
  {
   "cell_type": "code",
   "execution_count": 34,
   "metadata": {},
   "outputs": [
    {
     "data": {
      "text/html": [
       "<style>#sk-container-id-1 {color: black;}#sk-container-id-1 pre{padding: 0;}#sk-container-id-1 div.sk-toggleable {background-color: white;}#sk-container-id-1 label.sk-toggleable__label {cursor: pointer;display: block;width: 100%;margin-bottom: 0;padding: 0.3em;box-sizing: border-box;text-align: center;}#sk-container-id-1 label.sk-toggleable__label-arrow:before {content: \"▸\";float: left;margin-right: 0.25em;color: #696969;}#sk-container-id-1 label.sk-toggleable__label-arrow:hover:before {color: black;}#sk-container-id-1 div.sk-estimator:hover label.sk-toggleable__label-arrow:before {color: black;}#sk-container-id-1 div.sk-toggleable__content {max-height: 0;max-width: 0;overflow: hidden;text-align: left;background-color: #f0f8ff;}#sk-container-id-1 div.sk-toggleable__content pre {margin: 0.2em;color: black;border-radius: 0.25em;background-color: #f0f8ff;}#sk-container-id-1 input.sk-toggleable__control:checked~div.sk-toggleable__content {max-height: 200px;max-width: 100%;overflow: auto;}#sk-container-id-1 input.sk-toggleable__control:checked~label.sk-toggleable__label-arrow:before {content: \"▾\";}#sk-container-id-1 div.sk-estimator input.sk-toggleable__control:checked~label.sk-toggleable__label {background-color: #d4ebff;}#sk-container-id-1 div.sk-label input.sk-toggleable__control:checked~label.sk-toggleable__label {background-color: #d4ebff;}#sk-container-id-1 input.sk-hidden--visually {border: 0;clip: rect(1px 1px 1px 1px);clip: rect(1px, 1px, 1px, 1px);height: 1px;margin: -1px;overflow: hidden;padding: 0;position: absolute;width: 1px;}#sk-container-id-1 div.sk-estimator {font-family: monospace;background-color: #f0f8ff;border: 1px dotted black;border-radius: 0.25em;box-sizing: border-box;margin-bottom: 0.5em;}#sk-container-id-1 div.sk-estimator:hover {background-color: #d4ebff;}#sk-container-id-1 div.sk-parallel-item::after {content: \"\";width: 100%;border-bottom: 1px solid gray;flex-grow: 1;}#sk-container-id-1 div.sk-label:hover label.sk-toggleable__label {background-color: #d4ebff;}#sk-container-id-1 div.sk-serial::before {content: \"\";position: absolute;border-left: 1px solid gray;box-sizing: border-box;top: 0;bottom: 0;left: 50%;z-index: 0;}#sk-container-id-1 div.sk-serial {display: flex;flex-direction: column;align-items: center;background-color: white;padding-right: 0.2em;padding-left: 0.2em;position: relative;}#sk-container-id-1 div.sk-item {position: relative;z-index: 1;}#sk-container-id-1 div.sk-parallel {display: flex;align-items: stretch;justify-content: center;background-color: white;position: relative;}#sk-container-id-1 div.sk-item::before, #sk-container-id-1 div.sk-parallel-item::before {content: \"\";position: absolute;border-left: 1px solid gray;box-sizing: border-box;top: 0;bottom: 0;left: 50%;z-index: -1;}#sk-container-id-1 div.sk-parallel-item {display: flex;flex-direction: column;z-index: 1;position: relative;background-color: white;}#sk-container-id-1 div.sk-parallel-item:first-child::after {align-self: flex-end;width: 50%;}#sk-container-id-1 div.sk-parallel-item:last-child::after {align-self: flex-start;width: 50%;}#sk-container-id-1 div.sk-parallel-item:only-child::after {width: 0;}#sk-container-id-1 div.sk-dashed-wrapped {border: 1px dashed gray;margin: 0 0.4em 0.5em 0.4em;box-sizing: border-box;padding-bottom: 0.4em;background-color: white;}#sk-container-id-1 div.sk-label label {font-family: monospace;font-weight: bold;display: inline-block;line-height: 1.2em;}#sk-container-id-1 div.sk-label-container {text-align: center;}#sk-container-id-1 div.sk-container {/* jupyter's `normalize.less` sets `[hidden] { display: none; }` but bootstrap.min.css set `[hidden] { display: none !important; }` so we also need the `!important` here to be able to override the default hidden behavior on the sphinx rendered scikit-learn.org. See: https://github.com/scikit-learn/scikit-learn/issues/21755 */display: inline-block !important;position: relative;}#sk-container-id-1 div.sk-text-repr-fallback {display: none;}</style><div id=\"sk-container-id-1\" class=\"sk-top-container\"><div class=\"sk-text-repr-fallback\"><pre>SVC(C=1000, random_state=0)</pre><b>In a Jupyter environment, please rerun this cell to show the HTML representation or trust the notebook. <br />On GitHub, the HTML representation is unable to render, please try loading this page with nbviewer.org.</b></div><div class=\"sk-container\" hidden><div class=\"sk-item\"><div class=\"sk-estimator sk-toggleable\"><input class=\"sk-toggleable__control sk-hidden--visually\" id=\"sk-estimator-id-1\" type=\"checkbox\" checked><label for=\"sk-estimator-id-1\" class=\"sk-toggleable__label sk-toggleable__label-arrow\">SVC</label><div class=\"sk-toggleable__content\"><pre>SVC(C=1000, random_state=0)</pre></div></div></div></div></div>"
      ],
      "text/plain": [
       "SVC(C=1000, random_state=0)"
      ]
     },
     "execution_count": 34,
     "metadata": {},
     "output_type": "execute_result"
    }
   ],
   "source": [
    "clf = SVC(kernel=\"rbf\", random_state=0, C=1000)\n",
    "clf.fit(train_features_normalized, train_labels)"
   ]
  },
  {
   "cell_type": "code",
   "execution_count": 36,
   "metadata": {},
   "outputs": [
    {
     "name": "stdout",
     "output_type": "stream",
     "text": [
      "Python accuracy: 96.15 %\n",
      "Number of support vectors [1025  698 2016 1830 1573 1990 1107 1616 2259 1972]\n",
      "Total number of support vectors 16086\n"
     ]
    }
   ],
   "source": [
    "num_test_samples = len(test_features_normalized)\n",
    "python_predictions = clf.predict(test_features_normalized)\n",
    "python_accuracy = np.sum(python_predictions == test_labels) / num_test_samples\n",
    "print(f\"Python accuracy: {100*python_accuracy} %\")\n",
    "\n",
    "print(\"Number of support vectors\", clf.n_support_)\n",
    "print(\"Total number of support vectors\", sum(clf.n_support_))"
   ]
  }
 ],
 "metadata": {
  "kernelspec": {
   "display_name": "base",
   "language": "python",
   "name": "python3"
  },
  "language_info": {
   "codemirror_mode": {
    "name": "ipython",
    "version": 3
   },
   "file_extension": ".py",
   "mimetype": "text/x-python",
   "name": "python",
   "nbconvert_exporter": "python",
   "pygments_lexer": "ipython3",
   "version": "3.11.4"
  },
  "orig_nbformat": 4
 },
 "nbformat": 4,
 "nbformat_minor": 2
}
