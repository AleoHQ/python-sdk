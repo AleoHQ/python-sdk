{
 "cells": [
  {
   "cell_type": "code",
   "execution_count": 1,
   "metadata": {},
   "outputs": [
    {
     "name": "stdout",
     "output_type": "stream",
     "text": [
      "train-images-idx3-ubyte.gz already exists.\n",
      "train-labels-idx1-ubyte.gz already exists.\n",
      "t10k-images-idx3-ubyte.gz already exists.\n",
      "t10k-labels-idx1-ubyte.gz already exists.\n",
      "Shape of train_images: (60000, 28, 28)\n",
      "Shape of train_labels: (60000,)\n",
      "Shape of test_images: (10000, 28, 28)\n",
      "Shape of test_labels: (10000,)\n"
     ]
    }
   ],
   "source": [
    "# flake8: noqa: E302\n",
    "\n",
    "import gzip\n",
    "import os\n",
    "import shutil\n",
    "\n",
    "import requests\n",
    "\n",
    "\n",
    "def download_and_extract_dataset(url, save_path, folder_path):\n",
    "    \"\"\"Download and extract dataset if it doesn't exist.\"\"\"\n",
    "    if not os.path.exists(save_path):\n",
    "        print(f\"Downloading {os.path.basename(save_path)}...\")\n",
    "        response = requests.get(url)\n",
    "        with open(save_path, \"wb\") as file:\n",
    "            file.write(response.content)\n",
    "\n",
    "        decompressed_file_name = os.path.splitext(os.path.basename(save_path))[0]\n",
    "        decompressed_file_path = os.path.join(folder_path, decompressed_file_name)\n",
    "\n",
    "        with gzip.open(save_path, \"rb\") as f_in:\n",
    "            with open(decompressed_file_path, \"wb\") as f_out:\n",
    "                shutil.copyfileobj(f_in, f_out)\n",
    "\n",
    "        print(f\"{decompressed_file_name} downloaded and extracted.\")\n",
    "    else:\n",
    "        print(f\"{os.path.basename(save_path)} already exists.\")\n",
    "\n",
    "\n",
    "file_info = [\n",
    "    (\n",
    "        \"http://yann.lecun.com/exdb/mnist/train-images-idx3-ubyte.gz\",\n",
    "        \"train-images-idx3-ubyte.gz\",\n",
    "    ),\n",
    "    (\n",
    "        \"http://yann.lecun.com/exdb/mnist/train-labels-idx1-ubyte.gz\",\n",
    "        \"train-labels-idx1-ubyte.gz\",\n",
    "    ),\n",
    "    (\n",
    "        \"http://yann.lecun.com/exdb/mnist/t10k-images-idx3-ubyte.gz\",\n",
    "        \"t10k-images-idx3-ubyte.gz\",\n",
    "    ),\n",
    "    (\n",
    "        \"http://yann.lecun.com/exdb/mnist/t10k-labels-idx1-ubyte.gz\",\n",
    "        \"t10k-labels-idx1-ubyte.gz\",\n",
    "    ),\n",
    "]\n",
    "\n",
    "folder_name = \"tmp/mnist\"\n",
    "folder_path = os.path.join(os.getcwd(), folder_name)\n",
    "\n",
    "os.makedirs(folder_path, exist_ok=True)  # Create folder if it doesn't exist\n",
    "\n",
    "# Download and extract each file\n",
    "for url, file_name in file_info:\n",
    "    path_to_save = os.path.join(folder_path, file_name)\n",
    "    download_and_extract_dataset(url, path_to_save, folder_path)\n",
    "\n",
    "# %%\n",
    "import numpy as np\n",
    "\n",
    "\n",
    "def read_idx3_ubyte_image_file(filename):\n",
    "    \"\"\"Read IDX3-ubyte formatted image data.\"\"\"\n",
    "    with open(filename, \"rb\") as f:\n",
    "        magic_num = int.from_bytes(f.read(4), byteorder=\"big\")\n",
    "        num_images = int.from_bytes(f.read(4), byteorder=\"big\")\n",
    "        num_rows = int.from_bytes(f.read(4), byteorder=\"big\")\n",
    "        num_cols = int.from_bytes(f.read(4), byteorder=\"big\")\n",
    "\n",
    "        if magic_num != 2051:\n",
    "            raise ValueError(f\"Invalid magic number: {magic_num}\")\n",
    "\n",
    "        images = np.zeros((num_images, num_rows, num_cols), dtype=np.uint8)\n",
    "\n",
    "        for i in range(num_images):\n",
    "            for r in range(num_rows):\n",
    "                for c in range(num_cols):\n",
    "                    pixel = int.from_bytes(f.read(1), byteorder=\"big\")\n",
    "                    images[i, r, c] = pixel\n",
    "\n",
    "    return images\n",
    "\n",
    "\n",
    "def read_idx1_ubyte_label_file(filename):\n",
    "    \"\"\"Read IDX1-ubyte formatted label data.\"\"\"\n",
    "    with open(filename, \"rb\") as f:\n",
    "        magic_num = int.from_bytes(f.read(4), byteorder=\"big\")\n",
    "        num_labels = int.from_bytes(f.read(4), byteorder=\"big\")\n",
    "\n",
    "        if magic_num != 2049:\n",
    "            raise ValueError(f\"Invalid magic number: {magic_num}\")\n",
    "\n",
    "        labels = np.zeros(num_labels, dtype=np.uint8)\n",
    "\n",
    "        for i in range(num_labels):\n",
    "            labels[i] = int.from_bytes(f.read(1), byteorder=\"big\")\n",
    "\n",
    "    return labels\n",
    "\n",
    "\n",
    "# Example usage\n",
    "folder_path = os.path.join(\n",
    "    os.getcwd(), folder_name\n",
    ")  # Adjust this path to where you stored the files\n",
    "\n",
    "train_images = read_idx3_ubyte_image_file(\n",
    "    os.path.join(folder_path, \"train-images-idx3-ubyte\")\n",
    ")\n",
    "train_labels = read_idx1_ubyte_label_file(\n",
    "    os.path.join(folder_path, \"train-labels-idx1-ubyte\")\n",
    ")\n",
    "test_images = read_idx3_ubyte_image_file(\n",
    "    os.path.join(folder_path, \"t10k-images-idx3-ubyte\")\n",
    ")\n",
    "test_labels = read_idx1_ubyte_label_file(\n",
    "    os.path.join(folder_path, \"t10k-labels-idx1-ubyte\")\n",
    ")\n",
    "\n",
    "print(\n",
    "    f\"Shape of train_images: {train_images.shape}\"\n",
    ")  # Should output \"Shape of train_images: (60000, 28, 28)\"\n",
    "print(\n",
    "    f\"Shape of train_labels: {train_labels.shape}\"\n",
    ")  # Should output \"Shape of train_labels: (60000,)\"\n",
    "print(\n",
    "    f\"Shape of test_images: {test_images.shape}\"\n",
    ")  # Should output \"Shape of test_images: (10000, 28, 28)\"\n",
    "print(\n",
    "    f\"Shape of test_labels: {test_labels.shape}\"\n",
    ")  # Should output \"Shape of test_labels: (10000,)\"\n",
    "\n",
    "# %%\n",
    "# Reshape the datasets from 3D to 2D\n",
    "train_images_2d = train_images.reshape(\n",
    "    train_images.shape[0], -1\n",
    ")  # -1 infers the size from the remaining dimensions\n",
    "test_images_2d = test_images.reshape(test_images.shape[0], -1)"
   ]
  },
  {
   "cell_type": "code",
   "execution_count": 2,
   "metadata": {},
   "outputs": [],
   "source": [
    "# convertto pytorch tensors\n",
    "import torch\n",
    "\n",
    "train_images_tensor_initial = torch.from_numpy(train_images_2d).float()\n",
    "train_labels_tensor_initial = torch.from_numpy(train_labels).long()\n",
    "test_images_tensor = torch.from_numpy(test_images_2d).float()\n",
    "test_labels_tensor = torch.from_numpy(test_labels).long()\n",
    "\n",
    "# seed the random number generator\n",
    "torch.manual_seed(0)\n",
    "\n",
    "# shuffle the training dataset\n",
    "indices = torch.randperm(train_images_tensor_initial.shape[0])\n",
    "train_images_tensor_shuffled = train_images_tensor_initial[indices]\n",
    "train_labels_tensor_shuffled = train_labels_tensor_initial[indices]\n",
    "\n",
    "# get a 10% validation set\n",
    "validation_size = int(train_images_tensor_shuffled.shape[0] * 0.1)\n",
    "validation_images_tensor = train_images_tensor_shuffled[:validation_size]\n",
    "validation_labels_tensor = train_labels_tensor_shuffled[:validation_size]\n",
    "train_images_tensor = train_images_tensor_shuffled[validation_size:]\n",
    "train_labels_tensor = train_labels_tensor_shuffled[validation_size:]"
   ]
  },
  {
   "cell_type": "code",
   "execution_count": 3,
   "metadata": {},
   "outputs": [
    {
     "name": "stdout",
     "output_type": "stream",
     "text": [
      "torch.Size([54000])\n",
      "torch.Size([6000])\n",
      "torch.Size([60000])\n",
      "torch.Size([60000])\n",
      "6000\n"
     ]
    }
   ],
   "source": [
    "print(train_labels_tensor.shape)\n",
    "print(validation_labels_tensor.shape)\n",
    "print(train_labels_tensor_initial.shape)\n",
    "print(train_labels_tensor_shuffled.shape)\n",
    "print(validation_size)"
   ]
  },
  {
   "cell_type": "code",
   "execution_count": 4,
   "metadata": {},
   "outputs": [
    {
     "name": "stdout",
     "output_type": "stream",
     "text": [
      "Initial training labels size: 60000\n",
      "Validation set size: 6000\n",
      "Validation labels size after split: 6000\n",
      "Training labels size after split: 54000\n"
     ]
    }
   ],
   "source": [
    "print(\"Initial training labels size:\", train_labels_tensor_initial.shape[0])\n",
    "print(\"Validation set size:\", validation_size)\n",
    "print(\"Validation labels size after split:\", validation_labels_tensor.shape[0])\n",
    "print(\"Training labels size after split:\", train_labels_tensor.shape[0])"
   ]
  },
  {
   "cell_type": "markdown",
   "metadata": {},
   "source": [
    "## Plot an image"
   ]
  },
  {
   "cell_type": "code",
   "execution_count": 5,
   "metadata": {},
   "outputs": [
    {
     "data": {
      "image/png": "[encoded data removed]",
      "text/plain": [
       "<Figure size 640x480 with 1 Axes>"
      ]
     },
     "metadata": {},
     "output_type": "display_data"
    },
    {
     "name": "stdout",
     "output_type": "stream",
     "text": [
      "Image shape torch.Size([28, 28])\n",
      "Label tensor(0)\n"
     ]
    }
   ],
   "source": [
    "image_id = 0\n",
    "\n",
    "image = train_images_tensor[image_id].reshape(28, 28)\n",
    "\n",
    "import matplotlib.pyplot as plt\n",
    "\n",
    "plt.imshow(image, cmap=\"gray\")\n",
    "plt.show()\n",
    "\n",
    "print(\"Image shape\", image.shape)\n",
    "\n",
    "print(\"Label\", train_labels_tensor[image_id])"
   ]
  },
  {
   "cell_type": "markdown",
   "metadata": {},
   "source": [
    "## Get a bounding box of the image"
   ]
  },
  {
   "cell_type": "code",
   "execution_count": 6,
   "metadata": {},
   "outputs": [],
   "source": [
    "import numpy as np\n",
    "\n",
    "\n",
    "def get_bounding_box(img):\n",
    "    \"\"\"\n",
    "    Extract the bounding box from an MNIST image.\n",
    "\n",
    "    Args:\n",
    "        img (np.ndarray): 2D numpy array representing the MNIST image.\n",
    "\n",
    "    Returns:\n",
    "        (np.ndarray): Cropped image with the bounding box.\n",
    "    \"\"\"\n",
    "\n",
    "    # convert torch image to numpy array\n",
    "    img = img.numpy()\n",
    "\n",
    "    # Find the rows and columns where the image has non-zero pixels\n",
    "    rows = np.any(img, axis=1)\n",
    "    cols = np.any(img, axis=0)\n",
    "\n",
    "    # Find the first and last row and column indices where the image has non-zero pixels\n",
    "    rmin, rmax = np.where(rows)[0][[0, -1]]\n",
    "    cmin, cmax = np.where(cols)[0][[0, -1]]\n",
    "\n",
    "    # Return the cropped image\n",
    "    return img[rmin : rmax + 1, cmin : cmax + 1]"
   ]
  },
  {
   "cell_type": "code",
   "execution_count": 7,
   "metadata": {},
   "outputs": [
    {
     "data": {
      "image/png": "[encoded data removed]",
      "text/plain": [
       "<Figure size 640x480 with 1 Axes>"
      ]
     },
     "metadata": {},
     "output_type": "display_data"
    },
    {
     "name": "stdout",
     "output_type": "stream",
     "text": [
      "Image shape (20, 14)\n",
      "Label tensor(0)\n"
     ]
    }
   ],
   "source": [
    "image = train_images_tensor[image_id].reshape(28, 28)\n",
    "cropped_image = get_bounding_box(image)\n",
    "\n",
    "plt.imshow(cropped_image, cmap=\"gray\")\n",
    "plt.show()\n",
    "\n",
    "print(\"Image shape\", cropped_image.shape)\n",
    "\n",
    "print(\"Label\", train_labels_tensor[image_id])"
   ]
  },
  {
   "cell_type": "markdown",
   "metadata": {},
   "source": [
    "## Make the image quadratic (20x20)"
   ]
  },
  {
   "cell_type": "code",
   "execution_count": 8,
   "metadata": {},
   "outputs": [],
   "source": [
    "import cv2\n",
    "\n",
    "cropped_image_uint8 = np.clip(cropped_image, 0, 255).astype(np.uint8)\n",
    "resized_image = cv2.resize(cropped_image_uint8, (20, 20), interpolation=cv2.INTER_AREA)"
   ]
  },
  {
   "cell_type": "code",
   "execution_count": 9,
   "metadata": {},
   "outputs": [
    {
     "data": {
      "image/png": "[encoded data removed]",
      "text/plain": [
       "<Figure size 640x480 with 1 Axes>"
      ]
     },
     "metadata": {},
     "output_type": "display_data"
    },
    {
     "name": "stdout",
     "output_type": "stream",
     "text": [
      "Image shape (20, 20)\n",
      "Label tensor(0)\n"
     ]
    }
   ],
   "source": [
    "plt.imshow(resized_image, cmap=\"gray\")\n",
    "plt.show()\n",
    "\n",
    "print(\"Image shape\", resized_image.shape)\n",
    "\n",
    "print(\"Label\", train_labels_tensor[image_id])"
   ]
  },
  {
   "cell_type": "markdown",
   "metadata": {},
   "source": [
    "## Create a reshaped image dataset"
   ]
  },
  {
   "cell_type": "code",
   "execution_count": 10,
   "metadata": {},
   "outputs": [],
   "source": [
    "num_train = len(train_images_tensor)\n",
    "\n",
    "train_images_tensor_resized = np.zeros((num_train, 400))\n",
    "\n",
    "for i in range(num_train):\n",
    "    cropped_image = get_bounding_box(train_images_tensor[i].reshape(28, 28))\n",
    "    cropped_image_uint8 = np.clip(cropped_image, 0, 255).astype(np.uint8)\n",
    "    resized_image = cv2.resize(\n",
    "        cropped_image_uint8, (20, 20), interpolation=cv2.INTER_AREA\n",
    "    )\n",
    "    train_images_tensor_resized[i, :] = resized_image.flatten()\n",
    "\n",
    "num_test = len(test_images_tensor)\n",
    "\n",
    "num_val = len(validation_images_tensor)\n",
    "\n",
    "validation_images_tensor_resized = np.zeros((num_val, 400))\n",
    "\n",
    "for i in range(num_val):\n",
    "    cropped_image = get_bounding_box(validation_images_tensor[i].reshape(28, 28))\n",
    "    cropped_image_uint8 = np.clip(cropped_image, 0, 255).astype(np.uint8)\n",
    "    resized_image = cv2.resize(\n",
    "        cropped_image_uint8, (20, 20), interpolation=cv2.INTER_AREA\n",
    "    )\n",
    "    validation_images_tensor_resized[i, :] = resized_image.flatten()\n",
    "\n",
    "num_test = len(test_images_tensor)\n",
    "\n",
    "test_images_tensor_resized = np.zeros((num_test, 400))\n",
    "\n",
    "for i in range(num_test):\n",
    "    cropped_image = get_bounding_box(test_images_tensor[i].reshape(28, 28))\n",
    "    cropped_image_uint8 = np.clip(cropped_image, 0, 255).astype(np.uint8)\n",
    "    resized_image = cv2.resize(\n",
    "        cropped_image_uint8, (20, 20), interpolation=cv2.INTER_AREA\n",
    "    )\n",
    "    test_images_tensor_resized[i, :] = resized_image.flatten()"
   ]
  },
  {
   "cell_type": "markdown",
   "metadata": {},
   "source": [
    "## Normalize all datasets"
   ]
  },
  {
   "cell_type": "code",
   "execution_count": 11,
   "metadata": {},
   "outputs": [],
   "source": [
    "from sklearn.preprocessing import StandardScaler\n",
    "\n",
    "scaler = StandardScaler()\n",
    "train_features_normalized = torch.tensor(scaler.fit_transform(train_images_tensor))\n",
    "val_features_normalized = torch.tensor(scaler.transform(validation_images_tensor))\n",
    "test_features_normalized = torch.tensor(scaler.transform(test_images_tensor))\n",
    "\n",
    "train_features_resized_normalized = torch.tensor(\n",
    "    scaler.fit_transform(train_images_tensor_resized)\n",
    ")\n",
    "val_features_resized_normalized = torch.tensor(\n",
    "    scaler.transform(validation_images_tensor_resized)\n",
    ")\n",
    "test_features_resized_normalized = torch.tensor(\n",
    "    scaler.transform(test_images_tensor_resized)\n",
    ")"
   ]
  },
  {
   "cell_type": "code",
   "execution_count": 12,
   "metadata": {},
   "outputs": [],
   "source": [
    "train_features_normalized = train_features_normalized.float()\n",
    "val_features_normalized = val_features_normalized.float()\n",
    "test_features_normalized = test_features_normalized.float()\n",
    "\n",
    "train_features_resized_normalized = train_features_resized_normalized.float()\n",
    "val_features_resized_normalized = val_features_resized_normalized.float()\n",
    "test_features_resized_normalized = test_features_resized_normalized.float()"
   ]
  },
  {
   "cell_type": "markdown",
   "metadata": {},
   "source": [
    "## Try out a medium-sized neural network"
   ]
  },
  {
   "cell_type": "code",
   "execution_count": 13,
   "metadata": {},
   "outputs": [],
   "source": [
    "# define code to measure accuracy\n",
    "\n",
    "import torch\n",
    "import torch.nn as nn\n",
    "import torch.optim as optim\n",
    "from sklearn.metrics import accuracy_score"
   ]
  },
  {
   "cell_type": "markdown",
   "metadata": {},
   "source": [
    "## Let's try the resized images"
   ]
  },
  {
   "cell_type": "markdown",
   "metadata": {},
   "source": [
    "## Look into haar features"
   ]
  },
  {
   "cell_type": "code",
   "execution_count": 14,
   "metadata": {},
   "outputs": [],
   "source": [
    "def compute_haar_features(image):\n",
    "    if image.shape != (20, 20) and image.shape != (28, 28):\n",
    "        raise ValueError(\"Input image must be of shape 20x20 or 28x28.\")\n",
    "\n",
    "    features = []\n",
    "\n",
    "    # Sliding window\n",
    "    for i in range(0, image.shape[0], 3):  # Slide vertically with a step of 3\n",
    "        for j in range(0, image.shape[0], 3):  # Slide horizontally with a step of 3\n",
    "\n",
    "            if i + 6 > image.shape[0] or j + 6 > image.shape[0]:\n",
    "                continue\n",
    "\n",
    "            # Extract 6x6 window\n",
    "            window = image[i : i + 6, j : j + 6]\n",
    "\n",
    "            # Horizontal feature\n",
    "            horizontal_feature_value = np.sum(window[0:3, :]) - np.sum(window[3:6, :])\n",
    "\n",
    "            # Vertical feature\n",
    "            vertical_feature_value = np.sum(window[:, 0:3]) - np.sum(window[:, 3:6])\n",
    "\n",
    "            features.append(horizontal_feature_value)\n",
    "            features.append(vertical_feature_value)\n",
    "\n",
    "    return np.array(features)"
   ]
  },
  {
   "cell_type": "code",
   "execution_count": 15,
   "metadata": {},
   "outputs": [
    {
     "name": "stdout",
     "output_type": "stream",
     "text": [
      "[    0.     0.     0.     0.     0.     0.  -117.  -117. -1480. -1246.\n",
      " -1363.  1363.     0.     0.     0.     0.     0.     0.     0.     0.\n",
      "   -18.   -18. -1409. -1607. -2169. -1879. -1502.  2780.  -724.   724.\n",
      "     0.     0.     0.     0.     0.     0.  -847.  -883. -1244. -2530.\n",
      "  1435.   963.   501.  -329. -1384.  2726.   -53.    53.     0.     0.\n",
      "   -41.   -41. -1010. -2658.   508.   366.  1663.  1901.   -36. -3900.\n",
      "  -331.  4117.  -109.   215.     0.     0.  -488.  -570.  -253. -2863.\n",
      "   663.  3005.  -386.  -632.  -314. -2994.   643.  3873.   143.   181.\n",
      "     0.     0.   -47. -1105.   224. -1822.  -145.  2511. -1552. -2594.\n",
      "   -30.   562.  1125.  2429.    19.    19.     0.     0.   281.  -871.\n",
      "  -205. -2271. -1857.   939.    35.  -537.  2077.  2069.   671.   671.\n",
      "     0.     0.     0.     0.   295.  -295.  2109. -1519.  3601.    27.\n",
      "  2454.  1120.   667.   667.     0.     0.     0.     0.]\n",
      "length of a haar feature for 28x28 images 128\n"
     ]
    }
   ],
   "source": [
    "haar_1 = compute_haar_features(train_images_tensor[0].reshape(28, 28).numpy())\n",
    "print(haar_1)\n",
    "len_haar_features = len(haar_1)\n",
    "print(\"length of a haar feature for 28x28 images\", len_haar_features)"
   ]
  },
  {
   "cell_type": "code",
   "execution_count": 16,
   "metadata": {},
   "outputs": [
    {
     "name": "stdout",
     "output_type": "stream",
     "text": [
      "[ -339.  -339. -1844. -1810. -1511. -1207.  -131.  -249. -1376.  2298.\n",
      " -1690. -2094. -1410. -1280.  1610.  1616.  2663.  -639.   271.  -949.\n",
      " -1000. -2236.  1667.  1809.  1742.  1622.   -53. -1387.  -292. -2832.\n",
      "    98.   608.   988.  2522.  -288.  -292. -1582. -2562.  -412.  -726.\n",
      "  -110.  2028. -1076.  1026. -2496. -1492. -1082. -1242.  1760.  1966.]\n",
      "length of a haar feature for 20x20 images 50\n"
     ]
    }
   ],
   "source": [
    "haar_1 = compute_haar_features(train_images_tensor_resized[0].reshape(20, 20))\n",
    "print(haar_1)\n",
    "len_haar_features_resized = len(haar_1)\n",
    "print(\"length of a haar feature for 20x20 images\", len_haar_features_resized)"
   ]
  },
  {
   "cell_type": "markdown",
   "metadata": {},
   "source": [
    "## Further simple features"
   ]
  },
  {
   "cell_type": "code",
   "execution_count": 17,
   "metadata": {},
   "outputs": [],
   "source": [
    "def aspect_ratio(image, threshold=0.5):\n",
    "    # Threshold the image to create a binary representation\n",
    "    bin_image = image > threshold\n",
    "    # Find the bounding box\n",
    "    row_indices, col_indices = np.nonzero(bin_image)\n",
    "    max_row, min_row = np.max(row_indices), np.min(row_indices)\n",
    "    max_col, min_col = np.max(col_indices), np.min(col_indices)\n",
    "\n",
    "    # Calculate the aspect ratio of the bounding box\n",
    "    width = max_col - min_col + 1\n",
    "    height = max_row - min_row + 1\n",
    "\n",
    "    if height == 0:  # To avoid division by zero\n",
    "        return 1.0\n",
    "\n",
    "    return width / height\n",
    "\n",
    "\n",
    "from scipy.ndimage import label as nd_label\n",
    "\n",
    "\n",
    "def num_regions_below_threshold(image, threshold=0.5):\n",
    "    # Threshold the image so that pixels below the threshold are set to 1\n",
    "    # and those above the threshold are set to 0.\n",
    "    bin_image = image < threshold\n",
    "\n",
    "    # Use connected components labeling\n",
    "    labeled_array, num_features = nd_label(bin_image)\n",
    "\n",
    "    # Return the number of unique regions\n",
    "    # (subtracting 1 as one of the labels will be the background)\n",
    "    return num_features\n",
    "\n",
    "from skimage.measure import label, regionprops\n",
    "import numpy as np\n",
    "\n",
    "def eccentricity(image, threshold=0.5):\n",
    "    bin_image = image > threshold\n",
    "    labeled_img = label(bin_image)\n",
    "    properties = regionprops(labeled_img)\n",
    "    if properties:\n",
    "        return properties[0].eccentricity\n",
    "    return 0\n",
    "\n",
    "def extent(image, threshold=0.5):\n",
    "    bin_image = image > threshold\n",
    "    object_area = np.sum(bin_image)\n",
    "    _, _, width, height = cv2.boundingRect(bin_image.astype(np.uint8))\n",
    "    bounding_box_area = width * height\n",
    "    return object_area / bounding_box_area if bounding_box_area != 0 else 0\n",
    "\n",
    "import cv2\n",
    "\n",
    "def edge_density(image):\n",
    "    edges = cv2.Canny(image.astype(np.uint8), 100, 200)\n",
    "    return np.sum(edges) / (image.shape[0] * image.shape[1])\n",
    "\n",
    "def circularity(image, threshold=0.5):\n",
    "    bin_image = image > threshold\n",
    "    contours, _ = cv2.findContours(bin_image.astype(np.uint8), cv2.RETR_EXTERNAL, cv2.CHAIN_APPROX_NONE)\n",
    "    perimeter = cv2.arcLength(contours[0], True)\n",
    "    area = np.sum(bin_image)\n",
    "    if area == 0:\n",
    "        return 0\n",
    "    return (perimeter**2) / area\n"
   ]
  },
  {
   "cell_type": "code",
   "execution_count": 32,
   "metadata": {},
   "outputs": [],
   "source": [
    "import numpy as np\n",
    "import cv2\n",
    "from skimage.morphology import skeletonize\n",
    "from scipy.stats import skew\n",
    "\n",
    "def bounding_box_ratio(image):\n",
    "    # Find the bounding box\n",
    "    y, x = np.where(image == 0)  # Assuming the digit is black (0) on a white (255) background\n",
    "    x_min, x_max = np.min(x), np.max(x)\n",
    "    y_min, y_max = np.min(y), np.max(y)\n",
    "    \n",
    "    bb_width = x_max - x_min\n",
    "    bb_height = y_max - y_min\n",
    "    \n",
    "    image_height, image_width = image.shape\n",
    "    \n",
    "    return (bb_width / image_width, bb_height / image_height)\n",
    "\n",
    "def distance_from_center(image):\n",
    "    y, x = np.where(image == 0)\n",
    "    center_y, center_x = image.shape[0] // 2, image.shape[1] // 2\n",
    "    distances = np.sqrt((x - center_x) ** 2 + (y - center_y) ** 2)\n",
    "    return np.mean(distances)\n",
    "\n",
    "def radial_moments(image):\n",
    "    y, x = np.where(image == 0)\n",
    "    center_y, center_x = image.shape[0] // 2, image.shape[1] // 2\n",
    "    distances = np.sqrt((x - center_x) ** 2 + (y - center_y) ** 2)\n",
    "    return np.mean(distances), np.var(distances), skew(distances)\n",
    "\n",
    "def convexity(image):\n",
    "    # Convert the image to 8-bit unsigned integer format (if it's not already)\n",
    "    image_8bit = (image * 255).astype(np.uint8)\n",
    "    \n",
    "    # Find contours\n",
    "    contours, _ = cv2.findContours(image_8bit, cv2.RETR_TREE, cv2.CHAIN_APPROX_SIMPLE)\n",
    "    contour = max(contours, key=cv2.contourArea)\n",
    "    hull = cv2.convexHull(contour)\n",
    "    contour_area = cv2.contourArea(contour)\n",
    "    hull_area = cv2.contourArea(hull)\n",
    "    return contour_area / hull_area\n",
    "\n",
    "\n",
    "def skeleton_features(image):\n",
    "    skeleton = skeletonize(image == 0)  # Assumes the digit is black on white background\n",
    "    cross_kernel = np.array([[0, 1, 0], [1, 1, 1], [0, 1, 0]])\n",
    "    endpoints_kernel = np.array([[0, 0, 0], [0, 1, 0], [2, 1, 2]])\n",
    "    \n",
    "    crossings = cv2.filter2D(skeleton.astype(np.uint8), -1, cross_kernel)\n",
    "    endpoints = cv2.filter2D(skeleton.astype(np.uint8), -1, endpoints_kernel)\n",
    "    \n",
    "    num_crossings = (crossings == 3).sum()\n",
    "    num_endpoints = (endpoints == 1).sum()\n",
    "    \n",
    "    return num_endpoints, num_crossings\n",
    "\n",
    "def crossing_counts(image):\n",
    "    rows_crossings = np.sum(np.abs(np.diff(image, axis=1)) == 255, axis=1)\n",
    "    cols_crossings = np.sum(np.abs(np.diff(image, axis=0)) == 255, axis=0)\n",
    "    return rows_crossings, cols_crossings\n",
    "\n",
    "def pixel_count(image):\n",
    "    return (image == 0).sum()\n"
   ]
  },
  {
   "cell_type": "code",
   "execution_count": 18,
   "metadata": {},
   "outputs": [],
   "source": [
    "# compute datasets\n",
    "\n",
    "aspect_ratio_train = np.zeros(num_train)\n",
    "aspect_ratio_val = np.zeros(num_val)\n",
    "aspect_ratio_test = np.zeros(num_test)\n",
    "\n",
    "num_white_regions_train = np.zeros(num_train)\n",
    "num_white_regions_val = np.zeros(num_val)\n",
    "num_white_regions_test = np.zeros(num_test)\n",
    "\n",
    "eccentricity_train = np.zeros(num_train)\n",
    "eccentricity_val = np.zeros(num_val)\n",
    "eccentricity_test = np.zeros(num_test)\n",
    "\n",
    "extent_train = np.zeros(num_train)\n",
    "extent_val = np.zeros(num_val)\n",
    "extent_test = np.zeros(num_test)\n",
    "\n",
    "edge_density_train = np.zeros(num_train)\n",
    "edge_density_val = np.zeros(num_val)\n",
    "edge_density_test = np.zeros(num_test)\n",
    "\n",
    "circularity_train = np.zeros(num_train)\n",
    "circularity_val = np.zeros(num_val)\n",
    "circularity_test = np.zeros(num_test)\n",
    "\n",
    "for i in range(num_train):\n",
    "    aspect_ratio_train[i] = aspect_ratio(train_images_tensor[i].reshape(28, 28).numpy())\n",
    "    num_white_regions_train[i] = num_regions_below_threshold(\n",
    "        train_images_tensor[i].reshape(28, 28)\n",
    "    )\n",
    "    eccentricity_train[i] = eccentricity(train_images_tensor[i].reshape(28, 28).numpy())\n",
    "    extent_train[i] = extent(train_images_tensor[i].reshape(28, 28).numpy())\n",
    "    edge_density_train[i] = edge_density(train_images_tensor[i].reshape(28, 28).numpy())\n",
    "    circularity_train[i] = circularity(train_images_tensor[i].reshape(28, 28).numpy())\n",
    "\n",
    "for i in range(num_val):\n",
    "    aspect_ratio_val[i] = aspect_ratio(\n",
    "        validation_images_tensor[i].reshape(28, 28).numpy()\n",
    "    )\n",
    "    num_white_regions_val[i] = num_regions_below_threshold(\n",
    "        validation_images_tensor[i].reshape(28, 28)\n",
    "    )\n",
    "    eccentricity_val[i] = eccentricity(\n",
    "        validation_images_tensor[i].reshape(28, 28).numpy()\n",
    "    )\n",
    "    extent_val[i] = extent(validation_images_tensor[i].reshape(28, 28).numpy())\n",
    "    edge_density_val[i] = edge_density(\n",
    "        validation_images_tensor[i].reshape(28, 28).numpy()\n",
    "    )\n",
    "\n",
    "for i in range(num_test):\n",
    "    aspect_ratio_test[i] = aspect_ratio(test_images_tensor[i].reshape(28, 28).numpy())\n",
    "    num_white_regions_test[i] = num_regions_below_threshold(\n",
    "        test_images_tensor[i].reshape(28, 28)\n",
    "    )\n",
    "    eccentricity_test[i] = eccentricity(test_images_tensor[i].reshape(28, 28).numpy())\n",
    "    extent_test[i] = extent(test_images_tensor[i].reshape(28, 28).numpy())\n",
    "    edge_density_test[i] = edge_density(test_images_tensor[i].reshape(28, 28).numpy())\n",
    "    circularity_test[i] = circularity(test_images_tensor[i].reshape(28, 28).numpy())"
   ]
  },
  {
   "cell_type": "code",
   "execution_count": 30,
   "metadata": {},
   "outputs": [],
   "source": [
    "# Bounding Box Ratio\n",
    "bounding_box_ratio_train = np.zeros(num_train)\n",
    "bounding_box_ratio_val = np.zeros(num_val)\n",
    "bounding_box_ratio_test = np.zeros(num_test)\n",
    "\n",
    "# Distance from Center\n",
    "distance_from_center_train = np.zeros(num_train)\n",
    "distance_from_center_val = np.zeros(num_val)\n",
    "distance_from_center_test = np.zeros(num_test)\n",
    "\n",
    "# Radial Moments\n",
    "radial_moments_train = np.zeros((num_train, 3))  # mean, variance, skewness\n",
    "radial_moments_val = np.zeros((num_val, 3))\n",
    "radial_moments_test = np.zeros((num_test, 3))\n",
    "\n",
    "# Convexity\n",
    "convexity_train = np.zeros(num_train)\n",
    "convexity_val = np.zeros(num_val)\n",
    "convexity_test = np.zeros(num_test)\n",
    "\n",
    "# Skeleton features\n",
    "skeleton_endpoints_train = np.zeros(num_train)\n",
    "skeleton_endpoints_val = np.zeros(num_val)\n",
    "skeleton_endpoints_test = np.zeros(num_test)\n",
    "\n",
    "skeleton_crossings_train = np.zeros(num_train)\n",
    "skeleton_crossings_val = np.zeros(num_val)\n",
    "skeleton_crossings_test = np.zeros(num_test)\n",
    "\n",
    "# Crossing Counts\n",
    "# Assuming the image is square, else adjust accordingly\n",
    "crossing_counts_rows_train = np.zeros((num_train, 28))\n",
    "crossing_counts_rows_val = np.zeros((num_val, 28))\n",
    "crossing_counts_rows_test = np.zeros((num_test, 28))\n",
    "\n",
    "crossing_counts_cols_train = np.zeros((num_train, 28))\n",
    "crossing_counts_cols_val = np.zeros((num_val, 28))\n",
    "crossing_counts_cols_test = np.zeros((num_test, 28))\n",
    "\n",
    "# Pixel Count\n",
    "pixel_count_train = np.zeros(num_train)\n",
    "pixel_count_val = np.zeros(num_val)\n",
    "pixel_count_test = np.zeros(num_test)\n"
   ]
  },
  {
   "cell_type": "code",
   "execution_count": 33,
   "metadata": {},
   "outputs": [],
   "source": [
    "for i in range(num_train):\n",
    "    image = train_images_tensor[i].reshape(28, 28).numpy()\n",
    "    bounding_box_ratio_train[i] = np.mean(bounding_box_ratio(image))  # Taking average of width and height ratios\n",
    "    distance_from_center_train[i] = distance_from_center(image)\n",
    "    radial_moments_train[i] = radial_moments(image)\n",
    "    convexity_train[i] = convexity(image)\n",
    "    skeleton_endpoints_train[i], skeleton_crossings_train[i] = skeleton_features(image)\n",
    "    crossing_counts_rows_train[i], crossing_counts_cols_train[i] = crossing_counts(image)\n",
    "    pixel_count_train[i] = pixel_count(image)\n",
    "\n",
    "for i in range(num_val):\n",
    "    image = validation_images_tensor[i].reshape(28, 28).numpy()\n",
    "    bounding_box_ratio_val[i] = np.mean(bounding_box_ratio(image))\n",
    "    distance_from_center_val[i] = distance_from_center(image)\n",
    "    radial_moments_val[i] = radial_moments(image)\n",
    "    convexity_val[i] = convexity(image)\n",
    "    skeleton_endpoints_val[i], skeleton_crossings_val[i] = skeleton_features(image)\n",
    "    crossing_counts_rows_val[i], crossing_counts_cols_val[i] = crossing_counts(image)\n",
    "    pixel_count_val[i] = pixel_count(image)\n",
    "\n",
    "for i in range(num_test):\n",
    "    image = test_images_tensor[i].reshape(28, 28).numpy()\n",
    "    bounding_box_ratio_test[i] = np.mean(bounding_box_ratio(image))\n",
    "    distance_from_center_test[i] = distance_from_center(image)\n",
    "    radial_moments_test[i] = radial_moments(image)\n",
    "    convexity_test[i] = convexity(image)\n",
    "    skeleton_endpoints_test[i], skeleton_crossings_test[i] = skeleton_features(image)\n",
    "    crossing_counts_rows_test[i], crossing_counts_cols_test[i] = crossing_counts(image)\n",
    "    pixel_count_test[i] = pixel_count(image)\n"
   ]
  },
  {
   "cell_type": "code",
   "execution_count": 35,
   "metadata": {},
   "outputs": [
    {
     "data": {
      "image/png": "[encoded data removed]",
      "text/plain": [
       "<Figure size 640x480 with 1 Axes>"
      ]
     },
     "metadata": {},
     "output_type": "display_data"
    },
    {
     "name": "stdout",
     "output_type": "stream",
     "text": [
      "Image shape torch.Size([28, 28])\n",
      "Label tensor(0)\n",
      "Aspect ratio 0.7\n",
      "Number of black regions 2.0\n",
      "Eccentricity 0.759499675167631\n",
      "Extent 0.6035714285714285\n",
      "Edge density 31.224489795918366\n",
      "Circularity 16.908445114172334\n",
      "Bounding Box Ratio: 0.9642857142857143\n",
      "Distance from Center: 11.968069434419805\n",
      "Radial Moments (Mean, Variance, Skewness): [11.96806943 12.19620832 -0.75905868]\n",
      "Convexity: 0.9706666666666667\n",
      "Skeleton Endpoints: 40.0\n",
      "Skeleton Crossings: 53.0\n",
      "Pixel Count: 615.0\n"
     ]
    }
   ],
   "source": [
    "image_id = 0\n",
    "\n",
    "image = train_images_tensor[image_id].reshape(28, 28)\n",
    "\n",
    "import matplotlib.pyplot as plt\n",
    "\n",
    "plt.imshow(image, cmap=\"gray\")\n",
    "plt.show()\n",
    "\n",
    "print(\"Image shape\", image.shape)\n",
    "\n",
    "print(\"Label\", train_labels_tensor[image_id])\n",
    "print(\"Aspect ratio\", aspect_ratio_train[image_id])\n",
    "print(\"Number of black regions\", num_white_regions_train[image_id])\n",
    "print(\"Eccentricity\", eccentricity_train[image_id])\n",
    "print(\"Extent\", extent_train[image_id])\n",
    "print(\"Edge density\", edge_density_train[image_id])\n",
    "print(\"Circularity\", circularity_train[image_id])\n",
    "\n",
    "print(\"Bounding Box Ratio:\", bounding_box_ratio_train[image_id])\n",
    "print(\"Distance from Center:\", distance_from_center_train[image_id])\n",
    "print(\"Radial Moments (Mean, Variance, Skewness):\", radial_moments_train[image_id])\n",
    "print(\"Convexity:\", convexity_train[image_id])\n",
    "print(\"Skeleton Endpoints:\", skeleton_endpoints_train[image_id])\n",
    "print(\"Skeleton Crossings:\", skeleton_crossings_train[image_id])\n",
    "print(\"Pixel Count:\", pixel_count_train[image_id])\n"
   ]
  },
  {
   "cell_type": "code",
   "execution_count": 48,
   "metadata": {},
   "outputs": [],
   "source": [
    "# Determine the number of new features\n",
    "num_new_features = 9\n",
    "\n",
    "features_train = np.zeros((num_train, 2 + num_new_features))\n",
    "features_val = np.zeros((num_val, 2 + num_new_features))\n",
    "features_test = np.zeros((num_test, 2 + num_new_features))\n",
    "\n",
    "# Processing the training dataset\n",
    "for i in range(num_train):\n",
    "    radial_features = radial_moments_train[i]  # this is assumed to be a tuple or list\n",
    "    new_features = [\n",
    "        bounding_box_ratio_train[i],\n",
    "        distance_from_center_train[i],\n",
    "        *radial_features,  # unpack the tuple or list\n",
    "        convexity_train[i],\n",
    "        skeleton_endpoints_train[i],\n",
    "        skeleton_crossings_train[i],\n",
    "        pixel_count_train[i]\n",
    "    ]\n",
    "    features_train[i, :] = np.hstack(\n",
    "        (aspect_ratio_train[i], num_white_regions_train[i], new_features)\n",
    "    )\n",
    "\n",
    "# Processing the validation dataset\n",
    "for i in range(num_val):\n",
    "    radial_features = radial_moments_val[i]  # assuming similar structure as train\n",
    "    new_features = [\n",
    "        bounding_box_ratio_val[i],\n",
    "        distance_from_center_val[i],\n",
    "        *radial_features,\n",
    "        convexity_val[i],\n",
    "        skeleton_endpoints_val[i],\n",
    "        skeleton_crossings_val[i],\n",
    "        pixel_count_val[i]\n",
    "    ]\n",
    "    features_val[i, :] = np.hstack(\n",
    "        (aspect_ratio_val[i], num_white_regions_val[i], new_features)\n",
    "    )\n",
    "\n",
    "# Processing the test dataset\n",
    "for i in range(num_test):\n",
    "    radial_features = radial_moments_test[i]  # assuming similar structure as train\n",
    "    new_features = [\n",
    "        bounding_box_ratio_test[i],\n",
    "        distance_from_center_test[i],\n",
    "        *radial_features,\n",
    "        convexity_test[i],\n",
    "        skeleton_endpoints_test[i],\n",
    "        skeleton_crossings_test[i],\n",
    "        pixel_count_test[i]\n",
    "    ]\n",
    "    features_test[i, :] = np.hstack(\n",
    "        (aspect_ratio_test[i], num_white_regions_test[i], new_features)\n",
    "    )\n"
   ]
  },
  {
   "cell_type": "code",
   "execution_count": 50,
   "metadata": {},
   "outputs": [
    {
     "name": "stdout",
     "output_type": "stream",
     "text": [
      "[  0.7          2.           0.96428571  11.96806943  11.96806943\n",
      "  12.19620832  -0.75905868   0.97066667  40.          53.\n",
      " 615.        ]\n"
     ]
    }
   ],
   "source": [
    "print(features_train[0])"
   ]
  },
  {
   "cell_type": "code",
   "execution_count": 51,
   "metadata": {},
   "outputs": [],
   "source": [
    "train_features_normalized = torch.tensor(scaler.fit_transform(features_train))\n",
    "val_features_normalized = torch.tensor(scaler.transform(features_val))\n",
    "test_features_normalized = torch.tensor(scaler.transform(features_test))"
   ]
  },
  {
   "cell_type": "code",
   "execution_count": 52,
   "metadata": {},
   "outputs": [],
   "source": [
    "train_features_normalized = train_features_normalized.float()\n",
    "val_features_normalized = val_features_normalized.float()\n",
    "test_features_normalized = test_features_normalized.float()"
   ]
  },
  {
   "cell_type": "markdown",
   "metadata": {},
   "source": [
    "## Try out a neural network, on the new 20x20 dataset"
   ]
  },
  {
   "cell_type": "code",
   "execution_count": 57,
   "metadata": {},
   "outputs": [
    {
     "data": {
      "text/html": [
       "<style>#sk-container-id-5 {color: black;}#sk-container-id-5 pre{padding: 0;}#sk-container-id-5 div.sk-toggleable {background-color: white;}#sk-container-id-5 label.sk-toggleable__label {cursor: pointer;display: block;width: 100%;margin-bottom: 0;padding: 0.3em;box-sizing: border-box;text-align: center;}#sk-container-id-5 label.sk-toggleable__label-arrow:before {content: \"▸\";float: left;margin-right: 0.25em;color: #696969;}#sk-container-id-5 label.sk-toggleable__label-arrow:hover:before {color: black;}#sk-container-id-5 div.sk-estimator:hover label.sk-toggleable__label-arrow:before {color: black;}#sk-container-id-5 div.sk-toggleable__content {max-height: 0;max-width: 0;overflow: hidden;text-align: left;background-color: #f0f8ff;}#sk-container-id-5 div.sk-toggleable__content pre {margin: 0.2em;color: black;border-radius: 0.25em;background-color: #f0f8ff;}#sk-container-id-5 input.sk-toggleable__control:checked~div.sk-toggleable__content {max-height: 200px;max-width: 100%;overflow: auto;}#sk-container-id-5 input.sk-toggleable__control:checked~label.sk-toggleable__label-arrow:before {content: \"▾\";}#sk-container-id-5 div.sk-estimator input.sk-toggleable__control:checked~label.sk-toggleable__label {background-color: #d4ebff;}#sk-container-id-5 div.sk-label input.sk-toggleable__control:checked~label.sk-toggleable__label {background-color: #d4ebff;}#sk-container-id-5 input.sk-hidden--visually {border: 0;clip: rect(1px 1px 1px 1px);clip: rect(1px, 1px, 1px, 1px);height: 1px;margin: -1px;overflow: hidden;padding: 0;position: absolute;width: 1px;}#sk-container-id-5 div.sk-estimator {font-family: monospace;background-color: #f0f8ff;border: 1px dotted black;border-radius: 0.25em;box-sizing: border-box;margin-bottom: 0.5em;}#sk-container-id-5 div.sk-estimator:hover {background-color: #d4ebff;}#sk-container-id-5 div.sk-parallel-item::after {content: \"\";width: 100%;border-bottom: 1px solid gray;flex-grow: 1;}#sk-container-id-5 div.sk-label:hover label.sk-toggleable__label {background-color: #d4ebff;}#sk-container-id-5 div.sk-serial::before {content: \"\";position: absolute;border-left: 1px solid gray;box-sizing: border-box;top: 0;bottom: 0;left: 50%;z-index: 0;}#sk-container-id-5 div.sk-serial {display: flex;flex-direction: column;align-items: center;background-color: white;padding-right: 0.2em;padding-left: 0.2em;position: relative;}#sk-container-id-5 div.sk-item {position: relative;z-index: 1;}#sk-container-id-5 div.sk-parallel {display: flex;align-items: stretch;justify-content: center;background-color: white;position: relative;}#sk-container-id-5 div.sk-item::before, #sk-container-id-5 div.sk-parallel-item::before {content: \"\";position: absolute;border-left: 1px solid gray;box-sizing: border-box;top: 0;bottom: 0;left: 50%;z-index: -1;}#sk-container-id-5 div.sk-parallel-item {display: flex;flex-direction: column;z-index: 1;position: relative;background-color: white;}#sk-container-id-5 div.sk-parallel-item:first-child::after {align-self: flex-end;width: 50%;}#sk-container-id-5 div.sk-parallel-item:last-child::after {align-self: flex-start;width: 50%;}#sk-container-id-5 div.sk-parallel-item:only-child::after {width: 0;}#sk-container-id-5 div.sk-dashed-wrapped {border: 1px dashed gray;margin: 0 0.4em 0.5em 0.4em;box-sizing: border-box;padding-bottom: 0.4em;background-color: white;}#sk-container-id-5 div.sk-label label {font-family: monospace;font-weight: bold;display: inline-block;line-height: 1.2em;}#sk-container-id-5 div.sk-label-container {text-align: center;}#sk-container-id-5 div.sk-container {/* jupyter's `normalize.less` sets `[hidden] { display: none; }` but bootstrap.min.css set `[hidden] { display: none !important; }` so we also need the `!important` here to be able to override the default hidden behavior on the sphinx rendered scikit-learn.org. See: https://github.com/scikit-learn/scikit-learn/issues/21755 */display: inline-block !important;position: relative;}#sk-container-id-5 div.sk-text-repr-fallback {display: none;}</style><div id=\"sk-container-id-5\" class=\"sk-top-container\"><div class=\"sk-text-repr-fallback\"><pre>DecisionTreeClassifier(max_depth=5, random_state=0)</pre><b>In a Jupyter environment, please rerun this cell to show the HTML representation or trust the notebook. <br />On GitHub, the HTML representation is unable to render, please try loading this page with nbviewer.org.</b></div><div class=\"sk-container\" hidden><div class=\"sk-item\"><div class=\"sk-estimator sk-toggleable\"><input class=\"sk-toggleable__control sk-hidden--visually\" id=\"sk-estimator-id-5\" type=\"checkbox\" checked><label for=\"sk-estimator-id-5\" class=\"sk-toggleable__label sk-toggleable__label-arrow\">DecisionTreeClassifier</label><div class=\"sk-toggleable__content\"><pre>DecisionTreeClassifier(max_depth=5, random_state=0)</pre></div></div></div></div></div>"
      ],
      "text/plain": [
       "DecisionTreeClassifier(max_depth=5, random_state=0)"
      ]
     },
     "execution_count": 57,
     "metadata": {},
     "output_type": "execute_result"
    }
   ],
   "source": [
    "from sklearn.tree import DecisionTreeClassifier\n",
    "\n",
    "clf = DecisionTreeClassifier(max_depth=5, random_state=0)\n",
    "clf.fit(train_features_normalized, train_labels_tensor)"
   ]
  },
  {
   "cell_type": "code",
   "execution_count": 58,
   "metadata": {},
   "outputs": [
    {
     "name": "stdout",
     "output_type": "stream",
     "text": [
      "Python accuracy: 56.11000000000001 %\n"
     ]
    }
   ],
   "source": [
    "import numpy as np\n",
    "\n",
    "num_test_samples = len(test_features_normalized)\n",
    "python_predictions = clf.predict(test_features_normalized)\n",
    "python_accuracy = np.sum(python_predictions == test_labels) / num_test_samples\n",
    "print(f\"Python accuracy: {100*python_accuracy} %\")"
   ]
  },
  {
   "cell_type": "code",
   "execution_count": 59,
   "metadata": {},
   "outputs": [
    {
     "name": "stdout",
     "output_type": "stream",
     "text": [
      "[3.08131283e-04 1.29506564e-01 0.00000000e+00 0.00000000e+00\n",
      " 4.09134592e-04 5.02246077e-02 2.92511197e-02 3.99538331e-01\n",
      " 3.74573908e-01 1.61882047e-02 0.00000000e+00]\n"
     ]
    }
   ],
   "source": [
    "importances = clf.feature_importances_\n",
    "print(importances)"
   ]
  },
  {
   "cell_type": "code",
   "execution_count": 63,
   "metadata": {},
   "outputs": [
    {
     "data": {
      "text/html": [
       "<style>#sk-container-id-7 {color: black;}#sk-container-id-7 pre{padding: 0;}#sk-container-id-7 div.sk-toggleable {background-color: white;}#sk-container-id-7 label.sk-toggleable__label {cursor: pointer;display: block;width: 100%;margin-bottom: 0;padding: 0.3em;box-sizing: border-box;text-align: center;}#sk-container-id-7 label.sk-toggleable__label-arrow:before {content: \"▸\";float: left;margin-right: 0.25em;color: #696969;}#sk-container-id-7 label.sk-toggleable__label-arrow:hover:before {color: black;}#sk-container-id-7 div.sk-estimator:hover label.sk-toggleable__label-arrow:before {color: black;}#sk-container-id-7 div.sk-toggleable__content {max-height: 0;max-width: 0;overflow: hidden;text-align: left;background-color: #f0f8ff;}#sk-container-id-7 div.sk-toggleable__content pre {margin: 0.2em;color: black;border-radius: 0.25em;background-color: #f0f8ff;}#sk-container-id-7 input.sk-toggleable__control:checked~div.sk-toggleable__content {max-height: 200px;max-width: 100%;overflow: auto;}#sk-container-id-7 input.sk-toggleable__control:checked~label.sk-toggleable__label-arrow:before {content: \"▾\";}#sk-container-id-7 div.sk-estimator input.sk-toggleable__control:checked~label.sk-toggleable__label {background-color: #d4ebff;}#sk-container-id-7 div.sk-label input.sk-toggleable__control:checked~label.sk-toggleable__label {background-color: #d4ebff;}#sk-container-id-7 input.sk-hidden--visually {border: 0;clip: rect(1px 1px 1px 1px);clip: rect(1px, 1px, 1px, 1px);height: 1px;margin: -1px;overflow: hidden;padding: 0;position: absolute;width: 1px;}#sk-container-id-7 div.sk-estimator {font-family: monospace;background-color: #f0f8ff;border: 1px dotted black;border-radius: 0.25em;box-sizing: border-box;margin-bottom: 0.5em;}#sk-container-id-7 div.sk-estimator:hover {background-color: #d4ebff;}#sk-container-id-7 div.sk-parallel-item::after {content: \"\";width: 100%;border-bottom: 1px solid gray;flex-grow: 1;}#sk-container-id-7 div.sk-label:hover label.sk-toggleable__label {background-color: #d4ebff;}#sk-container-id-7 div.sk-serial::before {content: \"\";position: absolute;border-left: 1px solid gray;box-sizing: border-box;top: 0;bottom: 0;left: 50%;z-index: 0;}#sk-container-id-7 div.sk-serial {display: flex;flex-direction: column;align-items: center;background-color: white;padding-right: 0.2em;padding-left: 0.2em;position: relative;}#sk-container-id-7 div.sk-item {position: relative;z-index: 1;}#sk-container-id-7 div.sk-parallel {display: flex;align-items: stretch;justify-content: center;background-color: white;position: relative;}#sk-container-id-7 div.sk-item::before, #sk-container-id-7 div.sk-parallel-item::before {content: \"\";position: absolute;border-left: 1px solid gray;box-sizing: border-box;top: 0;bottom: 0;left: 50%;z-index: -1;}#sk-container-id-7 div.sk-parallel-item {display: flex;flex-direction: column;z-index: 1;position: relative;background-color: white;}#sk-container-id-7 div.sk-parallel-item:first-child::after {align-self: flex-end;width: 50%;}#sk-container-id-7 div.sk-parallel-item:last-child::after {align-self: flex-start;width: 50%;}#sk-container-id-7 div.sk-parallel-item:only-child::after {width: 0;}#sk-container-id-7 div.sk-dashed-wrapped {border: 1px dashed gray;margin: 0 0.4em 0.5em 0.4em;box-sizing: border-box;padding-bottom: 0.4em;background-color: white;}#sk-container-id-7 div.sk-label label {font-family: monospace;font-weight: bold;display: inline-block;line-height: 1.2em;}#sk-container-id-7 div.sk-label-container {text-align: center;}#sk-container-id-7 div.sk-container {/* jupyter's `normalize.less` sets `[hidden] { display: none; }` but bootstrap.min.css set `[hidden] { display: none !important; }` so we also need the `!important` here to be able to override the default hidden behavior on the sphinx rendered scikit-learn.org. See: https://github.com/scikit-learn/scikit-learn/issues/21755 */display: inline-block !important;position: relative;}#sk-container-id-7 div.sk-text-repr-fallback {display: none;}</style><div id=\"sk-container-id-7\" class=\"sk-top-container\"><div class=\"sk-text-repr-fallback\"><pre>RandomForestClassifier(max_depth=11, n_estimators=20, random_state=0)</pre><b>In a Jupyter environment, please rerun this cell to show the HTML representation or trust the notebook. <br />On GitHub, the HTML representation is unable to render, please try loading this page with nbviewer.org.</b></div><div class=\"sk-container\" hidden><div class=\"sk-item\"><div class=\"sk-estimator sk-toggleable\"><input class=\"sk-toggleable__control sk-hidden--visually\" id=\"sk-estimator-id-7\" type=\"checkbox\" checked><label for=\"sk-estimator-id-7\" class=\"sk-toggleable__label sk-toggleable__label-arrow\">RandomForestClassifier</label><div class=\"sk-toggleable__content\"><pre>RandomForestClassifier(max_depth=11, n_estimators=20, random_state=0)</pre></div></div></div></div></div>"
      ],
      "text/plain": [
       "RandomForestClassifier(max_depth=11, n_estimators=20, random_state=0)"
      ]
     },
     "execution_count": 63,
     "metadata": {},
     "output_type": "execute_result"
    }
   ],
   "source": [
    "from sklearn.ensemble import RandomForestClassifier\n",
    "\n",
    "# Initialize a Random Forest classifier\n",
    "rf_clf = RandomForestClassifier(n_estimators=20, max_depth=11, random_state=0)\n",
    "\n",
    "# Fit the classifier to the training data\n",
    "rf_clf.fit(train_features_normalized, train_labels_tensor)\n"
   ]
  },
  {
   "cell_type": "code",
   "execution_count": 64,
   "metadata": {},
   "outputs": [
    {
     "name": "stdout",
     "output_type": "stream",
     "text": [
      "Python accuracy: 70.16 %\n"
     ]
    }
   ],
   "source": [
    "python_predictions = rf_clf.predict(test_features_normalized)\n",
    "python_accuracy = np.sum(python_predictions == test_labels) / num_test_samples\n",
    "print(f\"Python accuracy: {100*python_accuracy} %\")"
   ]
  },
  {
   "cell_type": "code",
   "execution_count": 67,
   "metadata": {},
   "outputs": [],
   "source": [
    "# define code to measure accuracy\n",
    "\n",
    "import torch\n",
    "import torch.nn as nn\n",
    "import torch.optim as optim\n",
    "from sklearn.metrics import accuracy_score\n",
    "\n",
    "\n",
    "def evaluate_model(model, resized=False):\n",
    "    model.eval()  # Set the model to evaluation mode\n",
    "    with torch.no_grad():\n",
    "        if not resized:\n",
    "            test_outputs = model(test_features_normalized)\n",
    "        else:\n",
    "            test_outputs = model(test_features_resized_normalized)\n",
    "        _, predicted = torch.max(test_outputs.data, 1)\n",
    "        accuracy = accuracy_score(test_labels, predicted.numpy())\n",
    "        print(\"Accuracy:\", accuracy)\n",
    "        return accuracy"
   ]
  },
  {
   "cell_type": "code",
   "execution_count": 68,
   "metadata": {},
   "outputs": [
    {
     "name": "stdout",
     "output_type": "stream",
     "text": [
      "Epoch [100], Loss: 1.9887, validation loss: 1.9886\n",
      "Epoch [200], Loss: 1.6003, validation loss: 1.6058\n",
      "Epoch [300], Loss: 1.3646, validation loss: 1.3744\n",
      "Epoch [400], Loss: 1.2223, validation loss: 1.2316\n",
      "Epoch [500], Loss: 1.1380, validation loss: 1.1462\n",
      "Epoch [600], Loss: 1.0850, validation loss: 1.0911\n",
      "Epoch [700], Loss: 1.0449, validation loss: 1.0490\n",
      "Epoch [800], Loss: 1.0118, validation loss: 1.0140\n",
      "Epoch [900], Loss: 0.9833, validation loss: 0.9837\n",
      "Epoch [1000], Loss: 0.9590, validation loss: 0.9577\n",
      "Epoch [1100], Loss: 0.9382, validation loss: 0.9353\n",
      "Epoch [1200], Loss: 0.9209, validation loss: 0.9169\n",
      "Epoch [1300], Loss: 0.9071, validation loss: 0.9027\n",
      "Epoch [1400], Loss: 0.8957, validation loss: 0.8917\n",
      "Epoch [1500], Loss: 0.8864, validation loss: 0.8829\n",
      "Epoch [1600], Loss: 0.8784, validation loss: 0.8754\n",
      "Epoch [1700], Loss: 0.8715, validation loss: 0.8688\n",
      "Epoch [1800], Loss: 0.8654, validation loss: 0.8629\n",
      "Epoch [1900], Loss: 0.8599, validation loss: 0.8575\n",
      "Epoch [2000], Loss: 0.8547, validation loss: 0.8525\n",
      "Epoch [2100], Loss: 0.8498, validation loss: 0.8475\n",
      "Epoch [2200], Loss: 0.8450, validation loss: 0.8425\n",
      "Epoch [2300], Loss: 0.8404, validation loss: 0.8376\n",
      "Epoch [2400], Loss: 0.8358, validation loss: 0.8328\n",
      "Epoch [2500], Loss: 0.8313, validation loss: 0.8282\n",
      "Epoch [2600], Loss: 0.8268, validation loss: 0.8236\n",
      "Epoch [2700], Loss: 0.8224, validation loss: 0.8194\n",
      "Epoch [2800], Loss: 0.8183, validation loss: 0.8153\n",
      "Epoch [2900], Loss: 0.8143, validation loss: 0.8113\n",
      "Epoch [3000], Loss: 0.8104, validation loss: 0.8073\n",
      "Epoch [3100], Loss: 0.8067, validation loss: 0.8035\n",
      "Epoch [3200], Loss: 0.8031, validation loss: 0.7998\n",
      "Epoch [3300], Loss: 0.7998, validation loss: 0.7964\n",
      "Epoch [3400], Loss: 0.7968, validation loss: 0.7931\n",
      "Epoch [3500], Loss: 0.7941, validation loss: 0.7899\n",
      "Epoch [3600], Loss: 0.7914, validation loss: 0.7866\n",
      "Epoch [3700], Loss: 0.7889, validation loss: 0.7835\n",
      "Epoch [3800], Loss: 0.7866, validation loss: 0.7804\n",
      "Epoch [3900], Loss: 0.7844, validation loss: 0.7773\n",
      "Epoch [4000], Loss: 0.7823, validation loss: 0.7744\n",
      "Epoch [4100], Loss: 0.7803, validation loss: 0.7715\n",
      "Epoch [4200], Loss: 0.7783, validation loss: 0.7688\n",
      "Epoch [4300], Loss: 0.7764, validation loss: 0.7661\n",
      "Epoch [4400], Loss: 0.7746, validation loss: 0.7636\n",
      "Epoch [4500], Loss: 0.7728, validation loss: 0.7610\n",
      "Epoch [4600], Loss: 0.7710, validation loss: 0.7588\n",
      "Epoch [4700], Loss: 0.7694, validation loss: 0.7567\n",
      "Epoch [4800], Loss: 0.7678, validation loss: 0.7548\n",
      "Epoch [4900], Loss: 0.7663, validation loss: 0.7529\n",
      "Epoch [5000], Loss: 0.7647, validation loss: 0.7512\n",
      "Epoch [5100], Loss: 0.7630, validation loss: 0.7496\n",
      "Epoch [5200], Loss: 0.7615, validation loss: 0.7482\n",
      "Epoch [5300], Loss: 0.7598, validation loss: 0.7469\n",
      "Epoch [5400], Loss: 0.7583, validation loss: 0.7454\n",
      "Epoch [5500], Loss: 0.7568, validation loss: 0.7440\n",
      "Epoch [5600], Loss: 0.7553, validation loss: 0.7425\n",
      "Epoch [5700], Loss: 0.7539, validation loss: 0.7413\n",
      "Epoch [5800], Loss: 0.7526, validation loss: 0.7403\n",
      "Epoch [5900], Loss: 0.7514, validation loss: 0.7392\n",
      "Epoch [6000], Loss: 0.7504, validation loss: 0.7382\n",
      "Epoch [6100], Loss: 0.7493, validation loss: 0.7372\n",
      "Epoch [6200], Loss: 0.7483, validation loss: 0.7363\n",
      "Epoch [6300], Loss: 0.7473, validation loss: 0.7353\n",
      "Epoch [6400], Loss: 0.7465, validation loss: 0.7345\n",
      "Epoch [6500], Loss: 0.7456, validation loss: 0.7336\n",
      "Epoch [6600], Loss: 0.7449, validation loss: 0.7328\n",
      "Epoch [6700], Loss: 0.7442, validation loss: 0.7321\n",
      "Epoch [6800], Loss: 0.7435, validation loss: 0.7313\n",
      "Epoch [6900], Loss: 0.7428, validation loss: 0.7307\n",
      "Epoch [7000], Loss: 0.7422, validation loss: 0.7302\n",
      "Epoch [7100], Loss: 0.7417, validation loss: 0.7297\n",
      "Epoch [7200], Loss: 0.7412, validation loss: 0.7292\n",
      "Epoch [7300], Loss: 0.7408, validation loss: 0.7288\n",
      "Early stopping\n",
      "Accuracy: 0.74\n"
     ]
    },
    {
     "data": {
      "text/plain": [
       "0.74"
      ]
     },
     "execution_count": 68,
     "metadata": {},
     "output_type": "execute_result"
    }
   ],
   "source": [
    "# Define the PyTorch neural network\n",
    "class SimpleNN(nn.Module):\n",
    "    def __init__(self, input_dim, hidden_dim, output_dim):\n",
    "        super(SimpleNN, self).__init__()\n",
    "        self.fc1 = nn.Linear(input_dim, hidden_dim)\n",
    "        self.fc2 = nn.Linear(hidden_dim, output_dim)\n",
    "\n",
    "    def forward(self, x):\n",
    "        x = torch.relu(self.fc1(x))\n",
    "        x = self.fc2(x)\n",
    "        return x\n",
    "\n",
    "# Hyperparameters\n",
    "input_dim = train_features_normalized.shape[1]\n",
    "output_dim = len(set(train_labels))  # Assuming train_labels are class indices\n",
    "hidden_dim = int((input_dim + output_dim) / 2)\n",
    "\n",
    "# Instantiate the model\n",
    "model_medium2 = SimpleNN(\n",
    "    input_dim=input_dim, hidden_dim=hidden_dim, output_dim=output_dim\n",
    ")\n",
    "criterion = nn.CrossEntropyLoss()\n",
    "optimizer = optim.Adam(model_medium2.parameters(), lr=0.001)\n",
    "\n",
    "# Training loop with L1 regularization\n",
    "lambda_l1 = 0.0001  # L1 regularization coefficient\n",
    "\n",
    "validation_losses = []\n",
    "epoch = 0\n",
    "\n",
    "model_states = []\n",
    "\n",
    "while True:\n",
    "    optimizer.zero_grad()\n",
    "    outputs = model_medium2(train_features_normalized)\n",
    "\n",
    "    loss = criterion(outputs, train_labels_tensor)\n",
    "\n",
    "    # Add L1 regularization\n",
    "    l1_reg = torch.tensor(0.0, requires_grad=True)\n",
    "    for param in model_medium2.parameters():\n",
    "        l1_reg = l1_reg + torch.norm(param, 1)\n",
    "    loss += lambda_l1 * l1_reg\n",
    "\n",
    "    loss.backward()\n",
    "    optimizer.step()\n",
    "\n",
    "    # Print progress\n",
    "    if (epoch + 1) % 100 == 0:\n",
    "        print(\n",
    "            f\"Epoch [{epoch + 1}], Loss: {loss.item():.4f}, validation loss: {validation_losses[-1]:.4f}\"\n",
    "        )\n",
    "\n",
    "    # store model state\n",
    "    model_states.append(model_medium2.state_dict())\n",
    "\n",
    "    # Compute validation loss\n",
    "    with torch.no_grad():\n",
    "        outputs = model_medium2(val_features_normalized)\n",
    "        loss = criterion(outputs, validation_labels_tensor)\n",
    "        validation_losses.append(loss.item())\n",
    "\n",
    "    # Check for early stopping if no improvement in validation loss in last 10 epochs\n",
    "    if epoch > 10 and validation_losses[-1] > validation_losses[-10]:\n",
    "        print(\"Early stopping\")\n",
    "        break\n",
    "\n",
    "    epoch += 1\n",
    "\n",
    "best_model_state = model_states[np.argmin(validation_losses)]\n",
    "model_medium2.load_state_dict(best_model_state)\n",
    "\n",
    "evaluate_model(model_medium2)"
   ]
  }
 ],
 "metadata": {
  "kernelspec": {
   "display_name": "base",
   "language": "python",
   "name": "python3"
  },
  "language_info": {
   "codemirror_mode": {
    "name": "ipython",
    "version": 3
   },
   "file_extension": ".py",
   "mimetype": "text/x-python",
   "name": "python",
   "nbconvert_exporter": "python",
   "pygments_lexer": "ipython3",
   "version": "3.11.4"
  },
  "orig_nbformat": 4
 },
 "nbformat": 4,
 "nbformat_minor": 2
}
