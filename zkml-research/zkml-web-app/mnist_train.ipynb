{
 "cells": [
  {
   "cell_type": "markdown",
   "metadata": {},
   "source": [
    "# Demo of an MLP neural network Leo transpilation - MNIST dataset"
   ]
  },
  {
   "cell_type": "markdown",
   "metadata": {},
   "source": [
    "MLP neural networks are expressive ML models. Here, we use them for the MNIST classification task, which contains images of handwritten digits. We show the inference of MLP neural networks for the MNIST dataset is possible in a zero knowledge environment.\n",
    "\n",
    "For this, we first download the dataset, and then compute feature representations of the dataset. We then train and test an MLP neural network on the feature dataset using PyTorch (because we can train with L1 regularization which is helpful for pruning later on). Afterward, we iteratively prune the network (meaning we set weights and biases close to 0 to actually 0, this will save circuitconstraints later on) and fine-tune it. Then, we convert the final PyTorch MLP model to a scikit-learn MLP model (since the transpiler supports scikit-learn models) and transpile the final MLP neural network to Leo, evaluate the Leo network and create a zero knowledge proof."
   ]
  },
  {
   "cell_type": "markdown",
   "metadata": {},
   "source": [
    "## Define function to download the dataset"
   ]
  },
  {
   "cell_type": "code",
   "execution_count": 1,
   "metadata": {},
   "outputs": [],
   "source": [
    "import gzip\n",
    "import os\n",
    "import shutil\n",
    "\n",
    "import requests\n",
    "\n",
    "\n",
    "def download_and_extract_dataset(url, save_path, folder_path):\n",
    "    \"\"\"Download and extract dataset if it doesn't exist.\"\"\"\n",
    "    if not os.path.exists(save_path):\n",
    "        print(f\"Downloading {os.path.basename(save_path)}...\")\n",
    "        response = requests.get(url)\n",
    "        with open(save_path, \"wb\") as file:\n",
    "            file.write(response.content)\n",
    "\n",
    "        decompressed_file_name = os.path.splitext(os.path.basename(save_path))[0]\n",
    "        decompressed_file_path = os.path.join(folder_path, decompressed_file_name)\n",
    "\n",
    "        with gzip.open(save_path, \"rb\") as f_in:\n",
    "            with open(decompressed_file_path, \"wb\") as f_out:\n",
    "                shutil.copyfileobj(f_in, f_out)\n",
    "\n",
    "        print(f\"{decompressed_file_name} downloaded and extracted.\")\n",
    "    else:\n",
    "        print(f\"{os.path.basename(save_path)} already exists.\")"
   ]
  },
  {
   "cell_type": "markdown",
   "metadata": {},
   "source": [
    "## Download the dataset"
   ]
  },
  {
   "cell_type": "code",
   "execution_count": 2,
   "metadata": {},
   "outputs": [
    {
     "name": "stdout",
     "output_type": "stream",
     "text": [
      "train-images-idx3-ubyte.gz already exists.\n",
      "train-labels-idx1-ubyte.gz already exists.\n",
      "t10k-images-idx3-ubyte.gz already exists.\n",
      "t10k-labels-idx1-ubyte.gz already exists.\n"
     ]
    }
   ],
   "source": [
    "# URLs and filenames\n",
    "file_info = [\n",
    "    (\n",
    "        \"http://yann.lecun.com/exdb/mnist/train-images-idx3-ubyte.gz\",\n",
    "        \"train-images-idx3-ubyte.gz\",\n",
    "    ),\n",
    "    (\n",
    "        \"http://yann.lecun.com/exdb/mnist/train-labels-idx1-ubyte.gz\",\n",
    "        \"train-labels-idx1-ubyte.gz\",\n",
    "    ),\n",
    "    (\n",
    "        \"http://yann.lecun.com/exdb/mnist/t10k-images-idx3-ubyte.gz\",\n",
    "        \"t10k-images-idx3-ubyte.gz\",\n",
    "    ),\n",
    "    (\n",
    "        \"http://yann.lecun.com/exdb/mnist/t10k-labels-idx1-ubyte.gz\",\n",
    "        \"t10k-labels-idx1-ubyte.gz\",\n",
    "    ),\n",
    "]\n",
    "\n",
    "folder_name = \"tmp/mnist\"\n",
    "folder_path = os.path.join(os.getcwd(), folder_name)\n",
    "\n",
    "os.makedirs(folder_path, exist_ok=True)  # Create folder if it doesn't exist\n",
    "\n",
    "# Download and extract each file\n",
    "for url, file_name in file_info:\n",
    "    path_to_save = os.path.join(folder_path, file_name)\n",
    "    download_and_extract_dataset(url, path_to_save, folder_path)"
   ]
  },
  {
   "cell_type": "markdown",
   "metadata": {},
   "source": [
    "## Define function to read the dataset"
   ]
  },
  {
   "cell_type": "code",
   "execution_count": 3,
   "metadata": {},
   "outputs": [],
   "source": [
    "import numpy as np\n",
    "\n",
    "\n",
    "def read_idx3_ubyte_image_file(filename):\n",
    "    \"\"\"Read IDX3-ubyte formatted image data.\"\"\"\n",
    "    with open(filename, \"rb\") as f:\n",
    "        magic_num = int.from_bytes(f.read(4), byteorder=\"big\")\n",
    "        num_images = int.from_bytes(f.read(4), byteorder=\"big\")\n",
    "        num_rows = int.from_bytes(f.read(4), byteorder=\"big\")\n",
    "        num_cols = int.from_bytes(f.read(4), byteorder=\"big\")\n",
    "\n",
    "        if magic_num != 2051:\n",
    "            raise ValueError(f\"Invalid magic number: {magic_num}\")\n",
    "\n",
    "        images = np.zeros((num_images, num_rows, num_cols), dtype=np.uint8)\n",
    "\n",
    "        for i in range(num_images):\n",
    "            for r in range(num_rows):\n",
    "                for c in range(num_cols):\n",
    "                    pixel = int.from_bytes(f.read(1), byteorder=\"big\")\n",
    "                    images[i, r, c] = pixel\n",
    "\n",
    "    return images\n",
    "\n",
    "\n",
    "def read_idx1_ubyte_label_file(filename):\n",
    "    \"\"\"Read IDX1-ubyte formatted label data.\"\"\"\n",
    "    with open(filename, \"rb\") as f:\n",
    "        magic_num = int.from_bytes(f.read(4), byteorder=\"big\")\n",
    "        num_labels = int.from_bytes(f.read(4), byteorder=\"big\")\n",
    "\n",
    "        if magic_num != 2049:\n",
    "            raise ValueError(f\"Invalid magic number: {magic_num}\")\n",
    "\n",
    "        labels = np.zeros(num_labels, dtype=np.uint8)\n",
    "\n",
    "        for i in range(num_labels):\n",
    "            labels[i] = int.from_bytes(f.read(1), byteorder=\"big\")\n",
    "\n",
    "    return labels"
   ]
  },
  {
   "cell_type": "markdown",
   "metadata": {},
   "source": [
    "## Read the dataset"
   ]
  },
  {
   "cell_type": "code",
   "execution_count": 4,
   "metadata": {},
   "outputs": [
    {
     "name": "stdout",
     "output_type": "stream",
     "text": [
      "Shape of train_images: (60000, 28, 28)\n",
      "Shape of train_labels: (60000,)\n",
      "Shape of test_images: (10000, 28, 28)\n",
      "Shape of test_labels: (10000,)\n"
     ]
    }
   ],
   "source": [
    "folder_path = os.path.join(\n",
    "    os.getcwd(), folder_name\n",
    ")  # Adjust this path to where you stored the files\n",
    "\n",
    "train_images = read_idx3_ubyte_image_file(\n",
    "    os.path.join(folder_path, \"train-images-idx3-ubyte\")\n",
    ")\n",
    "train_labels = read_idx1_ubyte_label_file(\n",
    "    os.path.join(folder_path, \"train-labels-idx1-ubyte\")\n",
    ")\n",
    "test_images = read_idx3_ubyte_image_file(\n",
    "    os.path.join(folder_path, \"t10k-images-idx3-ubyte\")\n",
    ")\n",
    "test_labels = read_idx1_ubyte_label_file(\n",
    "    os.path.join(folder_path, \"t10k-labels-idx1-ubyte\")\n",
    ")\n",
    "\n",
    "print(\n",
    "    f\"Shape of train_images: {train_images.shape}\"\n",
    ")  # Should output \"Shape of train_images: (60000, 28, 28)\"\n",
    "print(\n",
    "    f\"Shape of train_labels: {train_labels.shape}\"\n",
    ")  # Should output \"Shape of train_labels: (60000,)\"\n",
    "print(\n",
    "    f\"Shape of test_images: {test_images.shape}\"\n",
    ")  # Should output \"Shape of test_images: (10000, 28, 28)\"\n",
    "print(\n",
    "    f\"Shape of test_labels: {test_labels.shape}\"\n",
    ")  # Should output \"Shape of test_labels: (10000,)\""
   ]
  },
  {
   "cell_type": "markdown",
   "metadata": {},
   "source": [
    "## Convert the datasets to PyTorch tensors, and get a validation set\n",
    "(We use PyTorch instead of sci-kit learn to train sparse neural networks with L1 regularization)"
   ]
  },
  {
   "cell_type": "code",
   "execution_count": 5,
   "metadata": {},
   "outputs": [],
   "source": [
    "# convertto pytorch tensors\n",
    "import torch\n",
    "\n",
    "train_images_tensor_initial = torch.from_numpy(train_images).float()\n",
    "train_labels_tensor_initial = torch.from_numpy(train_labels).long()\n",
    "test_images_tensor = torch.from_numpy(test_images).float()\n",
    "test_labels_tensor = torch.from_numpy(test_labels).long()\n",
    "\n",
    "# seed the random number generator\n",
    "torch.manual_seed(0)\n",
    "\n",
    "# shuffle the training dataset\n",
    "indices = torch.randperm(train_images_tensor_initial.shape[0])\n",
    "train_images_tensor_shuffled = train_images_tensor_initial[indices]\n",
    "train_labels_tensor_shuffled = train_labels_tensor_initial[indices]\n",
    "\n",
    "# get a 10% validation set\n",
    "validation_size = int(train_images_tensor_shuffled.shape[0] * 0.1)\n",
    "validation_images_tensor = train_images_tensor_shuffled[:validation_size]\n",
    "validation_labels_tensor = train_labels_tensor_shuffled[:validation_size]\n",
    "train_images_tensor = train_images_tensor_shuffled[validation_size:]\n",
    "train_labels_tensor = train_labels_tensor_shuffled[validation_size:]"
   ]
  },
  {
   "cell_type": "code",
   "execution_count": 6,
   "metadata": {},
   "outputs": [
    {
     "name": "stdout",
     "output_type": "stream",
     "text": [
      "Train labels tensor shape: torch.Size([54000])\n",
      "Validation labels tensor shape: torch.Size([6000])\n",
      "Test labels tensor shape: torch.Size([10000])\n"
     ]
    }
   ],
   "source": [
    "print(\"Train labels tensor shape:\", train_labels_tensor.shape)\n",
    "print(\"Validation labels tensor shape:\", validation_labels_tensor.shape)\n",
    "print(\"Test labels tensor shape:\", test_labels_tensor.shape)"
   ]
  },
  {
   "cell_type": "code",
   "execution_count": 7,
   "metadata": {},
   "outputs": [
    {
     "name": "stdout",
     "output_type": "stream",
     "text": [
      "tensor([[  0.,   0.,   0.,   0.,   0.,   0.,   0.,   0.,   0.,   0.,   0.,   0.,\n",
      "           0.,   0.,   0.,   0.,   0.,   0.,   0.,   0.,   0.,   0.,   0.,   0.,\n",
      "           0.,   0.,   0.,   0.],\n",
      "        [  0.,   0.,   0.,   0.,   0.,   0.,   0.,   0.,   0.,   0.,   0.,   0.,\n",
      "           0.,   0.,   0.,   0.,   0.,   0.,   0.,   0.,   0.,   0.,   0.,   0.,\n",
      "           0.,   0.,   0.,   0.],\n",
      "        [  0.,   0.,   0.,   0.,   0.,   0.,   0.,   0.,   0.,   0.,   0.,   0.,\n",
      "           0.,   0.,   0.,   0.,   0.,   0.,   0.,   0.,   0.,   0.,   0.,   0.,\n",
      "           0.,   0.,   0.,   0.],\n",
      "        [  0.,   0.,   0.,   0.,   0.,   0.,   0.,   0.,   0.,   0.,   0.,   0.,\n",
      "           0.,   0.,   0.,   0.,   0.,   0.,   0.,   0.,   0.,   0.,   0.,   0.,\n",
      "           0.,   0.,   0.,   0.],\n",
      "        [  0.,   0.,   0.,   0.,   0.,   0.,   0.,   0.,   0.,   0.,   0.,   0.,\n",
      "           0.,   0.,   0., 113., 255., 248.,   0.,   0.,   0.,   0.,   0.,   0.,\n",
      "           0.,   0.,   0.,   0.],\n",
      "        [  0.,   0.,   0.,   0.,   0.,   0.,   0.,   0.,   0.,   0.,   0.,   0.,\n",
      "           0.,   0., 117., 248., 253., 246.,   0.,   0.,   0.,   0.,   0.,   0.,\n",
      "           0.,   0.,   0.,   0.],\n",
      "        [  0.,   0.,   0.,   0.,   0.,   0.,   0.,   0.,   0.,   0.,   0.,   0.,\n",
      "           0., 117., 246., 253., 253., 248.,  39.,   0.,   0.,   0.,   0.,   0.,\n",
      "           0.,   0.,   0.,   0.],\n",
      "        [  0.,   0.,   0.,   0.,   0.,   0.,   0.,   0.,   0.,   0.,   0.,   0.,\n",
      "          24., 233., 253., 253., 253., 253., 223.,  40.,   0.,   0.,   0.,   0.,\n",
      "           0.,   0.,   0.,   0.],\n",
      "        [  0.,   0.,   0.,   0.,   0.,   0.,   0.,   0.,   0.,   0.,   0.,  18.,\n",
      "         129., 253., 253., 228., 147., 253., 253., 164.,   5.,   0.,   0.,   0.,\n",
      "           0.,   0.,   0.,   0.],\n",
      "        [  0.,   0.,   0.,   0.,   0.,   0.,   0.,   0.,   0.,   0.,   1., 137.,\n",
      "         253., 253., 212.,  28.,  12., 188., 253., 253., 116.,   0.,   0.,   0.,\n",
      "           0.,   0.,   0.,   0.],\n",
      "        [  0.,   0.,   0.,   0.,   0.,   0.,   0.,   0.,   0.,   0.,  14., 253.,\n",
      "         253., 253., 184.,   0.,   0.,  74., 253., 253., 170.,   0.,   0.,   0.,\n",
      "           0.,   0.,   0.,   0.],\n",
      "        [  0.,   0.,   0.,   0.,   0.,   0.,   0.,   0.,   0.,  15., 192., 253.,\n",
      "         253., 214.,  30.,   0.,   0.,   7., 253., 253., 251.,  53.,   0.,   0.,\n",
      "           0.,   0.,   0.,   0.],\n",
      "        [  0.,   0.,   0.,   0.,   0.,   0.,   0.,   0.,   0.,  35., 253., 253.,\n",
      "         253.,  41.,   0.,   0.,   0.,   7., 253., 253., 253.,  54.,   0.,   0.,\n",
      "           0.,   0.,   0.,   0.],\n",
      "        [  0.,   0.,   0.,   0.,   0.,   0.,   0.,   0.,   0., 146., 253., 253.,\n",
      "         127.,   5.,   0.,   0.,   0.,   7., 253., 253., 253.,  54.,   0.,   0.,\n",
      "           0.,   0.,   0.,   0.],\n",
      "        [  0.,   0.,   0.,   0.,   0.,   0.,   0.,   0.,  41., 231., 253., 157.,\n",
      "           2.,   0.,   0.,   0.,   0., 109., 253., 253., 253.,  54.,   0.,   0.,\n",
      "           0.,   0.,   0.,   0.],\n",
      "        [  0.,   0.,   0.,   0.,   0.,   0.,   0.,   0., 145., 253., 252., 110.,\n",
      "           0.,   0.,   0.,   0.,   3., 156., 253., 253., 199.,  19.,   0.,   0.,\n",
      "           0.,   0.,   0.,   0.],\n",
      "        [  0.,   0.,   0.,   0.,   0.,   0.,   0.,   0., 192., 253., 239.,   0.,\n",
      "           0.,   0.,   0.,   0., 107., 253., 253., 253.,  93.,   0.,   0.,   0.,\n",
      "           0.,   0.,   0.,   0.],\n",
      "        [  0.,   0.,   0.,   0.,   0.,   0.,   0.,   0., 192., 253., 239.,   0.,\n",
      "           0.,   0.,   0.,   0., 165., 253., 253., 203.,  17.,   0.,   0.,   0.,\n",
      "           0.,   0.,   0.,   0.],\n",
      "        [  0.,   0.,   0.,   0.,   0.,   0.,   0.,   0., 192., 253., 239.,   0.,\n",
      "           0.,   0.,   0., 103., 249., 253., 253., 150.,   0.,   0.,   0.,   0.,\n",
      "           0.,   0.,   0.,   0.],\n",
      "        [  0.,   0.,   0.,   0.,   0.,   0.,   0.,   0., 192., 253., 120.,   0.,\n",
      "           0.,   0.,  68., 208., 253., 253., 213.,  27.,   0.,   0.,   0.,   0.,\n",
      "           0.,   0.,   0.,   0.],\n",
      "        [  0.,   0.,   0.,   0.,   0.,   0.,   0.,   0., 192., 253., 210.,   0.,\n",
      "           0., 105., 243., 253., 253., 248.,  28.,   0.,   0.,   0.,   0.,   0.,\n",
      "           0.,   0.,   0.,   0.],\n",
      "        [  0.,   0.,   0.,   0.,   0.,   0.,   0.,   0., 192., 253., 249., 179.,\n",
      "         179., 245., 253., 253., 211.,  73.,   0.,   0.,   0.,   0.,   0.,   0.,\n",
      "           0.,   0.,   0.,   0.],\n",
      "        [  0.,   0.,   0.,   0.,   0.,   0.,   0.,   0., 103., 246., 253., 253.,\n",
      "         253., 253., 199.,  96.,  34.,   0.,   0.,   0.,   0.,   0.,   0.,   0.,\n",
      "           0.,   0.,   0.,   0.],\n",
      "        [  0.,   0.,   0.,   0.,   0.,   0.,   0.,   0.,   0.,  79., 116., 186.,\n",
      "         253., 130.,  22.,   0.,   0.,   0.,   0.,   0.,   0.,   0.,   0.,   0.,\n",
      "           0.,   0.,   0.,   0.],\n",
      "        [  0.,   0.,   0.,   0.,   0.,   0.,   0.,   0.,   0.,   0.,   0.,   0.,\n",
      "           0.,   0.,   0.,   0.,   0.,   0.,   0.,   0.,   0.,   0.,   0.,   0.,\n",
      "           0.,   0.,   0.,   0.],\n",
      "        [  0.,   0.,   0.,   0.,   0.,   0.,   0.,   0.,   0.,   0.,   0.,   0.,\n",
      "           0.,   0.,   0.,   0.,   0.,   0.,   0.,   0.,   0.,   0.,   0.,   0.,\n",
      "           0.,   0.,   0.,   0.],\n",
      "        [  0.,   0.,   0.,   0.,   0.,   0.,   0.,   0.,   0.,   0.,   0.,   0.,\n",
      "           0.,   0.,   0.,   0.,   0.,   0.,   0.,   0.,   0.,   0.,   0.,   0.,\n",
      "           0.,   0.,   0.,   0.],\n",
      "        [  0.,   0.,   0.,   0.,   0.,   0.,   0.,   0.,   0.,   0.,   0.,   0.,\n",
      "           0.,   0.,   0.,   0.,   0.,   0.,   0.,   0.,   0.,   0.,   0.,   0.,\n",
      "           0.,   0.,   0.,   0.]])\n"
     ]
    }
   ],
   "source": [
    "print(train_images_tensor[0])"
   ]
  },
  {
   "cell_type": "markdown",
   "metadata": {},
   "source": [
    "## Extract feature representations of the dataset\n",
    "\n",
    "(We transform the bounding box images to 12x12 images, defined by the new_size variable. There is a trade-off in circuit constraints and ML model accuracy. You can increase the image size which will lead to a higher accuracy at the cost of more circuit constraints and thus longer proving times.)"
   ]
  },
  {
   "cell_type": "code",
   "execution_count": 8,
   "metadata": {},
   "outputs": [],
   "source": [
    "import numpy as np\n",
    "\n",
    "\n",
    "def get_bounding_box(img):\n",
    "    \"\"\"\n",
    "    Extract the bounding box from an MNIST image.\n",
    "\n",
    "    Args:\n",
    "        img (np.ndarray): 2D numpy array representing the MNIST image.\n",
    "\n",
    "    Returns:\n",
    "        (np.ndarray): Cropped image with the bounding box.\n",
    "    \"\"\"\n",
    "\n",
    "    # convert torch image to numpy array\n",
    "    img = img.numpy()\n",
    "\n",
    "    # Find the rows and columns where the image has non-zero pixels\n",
    "    rows = np.any(img, axis=1)\n",
    "    cols = np.any(img, axis=0)\n",
    "\n",
    "    # Find the first and last row and column indices where the image has non-zero pixels\n",
    "    rmin, rmax = np.where(rows)[0][[0, -1]]\n",
    "    cmin, cmax = np.where(cols)[0][[0, -1]]\n",
    "\n",
    "    # Return the cropped image\n",
    "    return img[rmin : rmax + 1, cmin : cmax + 1]"
   ]
  },
  {
   "cell_type": "code",
   "execution_count": 9,
   "metadata": {},
   "outputs": [],
   "source": [
    "def resize_image(image, new_size):\n",
    "    height, width = image.shape\n",
    "    resized_image = np.zeros((new_size, new_size), dtype=np.uint8)\n",
    "\n",
    "    x_scale = width / new_size\n",
    "    y_scale = height / new_size\n",
    "\n",
    "    for i in range(new_size):\n",
    "        for j in range(new_size):\n",
    "            x_start = j * x_scale\n",
    "            y_start = i * y_scale\n",
    "            x_end = (j + 1) * x_scale\n",
    "            y_end = (i + 1) * y_scale\n",
    "\n",
    "            sum_pixels = 0\n",
    "            count = 0\n",
    "\n",
    "            for y in range(int(y_start), int(y_end)):\n",
    "                for x in range(int(x_start), int(x_end)):\n",
    "                    if 0 <= y < height and 0 <= x < width:\n",
    "                        sum_pixels += image[y, x]\n",
    "                        count += 1\n",
    "\n",
    "            resized_image[i, j] = round(sum_pixels / count) if count > 0 else 0\n",
    "\n",
    "    return resized_image\n"
   ]
  },
  {
   "cell_type": "code",
   "execution_count": 10,
   "metadata": {},
   "outputs": [],
   "source": [
    "cropped_test_image_0 = None\n",
    "\n",
    "def get_resized_datasets(\n",
    "    train_images_tensor, validation_images_tensor, test_images_tensor, new_size\n",
    "):\n",
    "    num_train = len(train_images_tensor)\n",
    "    num_test = len(test_images_tensor)\n",
    "    num_val = len(validation_images_tensor)\n",
    "\n",
    "    train_images_tensor_resized = np.zeros((num_train, new_size**2))\n",
    "    validation_images_tensor_resized = np.zeros((num_val, new_size**2))\n",
    "    test_images_tensor_resized = np.zeros((num_test, new_size**2))\n",
    "\n",
    "    for i in range(num_train):\n",
    "        cropped_image = get_bounding_box(train_images_tensor[i].reshape(28, 28))\n",
    "        cropped_image_uint8 = np.clip(cropped_image, 0, 255).astype(np.uint8)\n",
    "        resized_image = resize_image(\n",
    "            cropped_image_uint8, new_size\n",
    "        )\n",
    "        train_images_tensor_resized[i, :] = resized_image.flatten()\n",
    "\n",
    "    for i in range(num_val):\n",
    "        cropped_image = get_bounding_box(validation_images_tensor[i].reshape(28, 28))\n",
    "        cropped_image_uint8 = np.clip(cropped_image, 0, 255).astype(np.uint8)\n",
    "        resized_image = resize_image(\n",
    "            cropped_image_uint8, new_size\n",
    "        )\n",
    "        validation_images_tensor_resized[i, :] = resized_image.flatten()\n",
    "\n",
    "    for i in range(num_test):\n",
    "        cropped_image = get_bounding_box(test_images_tensor[i].reshape(28, 28))\n",
    "        cropped_image_uint8 = np.clip(cropped_image, 0, 255).astype(np.uint8)\n",
    "        if(i == 0):\n",
    "            global cropped_test_image_0\n",
    "            cropped_test_image_0 = cropped_image_uint8\n",
    "        resized_image = resize_image(\n",
    "            cropped_image_uint8, new_size\n",
    "        )\n",
    "        test_images_tensor_resized[i, :] = resized_image.flatten()\n",
    "\n",
    "    return (\n",
    "        train_images_tensor_resized,\n",
    "        validation_images_tensor_resized,\n",
    "        test_images_tensor_resized,\n",
    "    )"
   ]
  },
  {
   "cell_type": "code",
   "execution_count": 11,
   "metadata": {},
   "outputs": [],
   "source": [
    "new_size = 12\n",
    "train_images_resized, val_images_resized, test_images_resized = get_resized_datasets(\n",
    "    train_images_tensor, validation_images_tensor, test_images_tensor, new_size\n",
    ")"
   ]
  },
  {
   "cell_type": "markdown",
   "metadata": {},
   "source": [
    "## Let's compute the features"
   ]
  },
  {
   "cell_type": "code",
   "execution_count": 12,
   "metadata": {},
   "outputs": [],
   "source": [
    "def compute_integral_image(image):\n",
    "    integral_image = np.cumsum(np.cumsum(image, axis=0), axis=1)\n",
    "    return integral_image\n",
    "\n",
    "def sum_region(integral_image, top_left, bottom_right):\n",
    "    # Sum of region using the integral image\n",
    "    tl_y, tl_x = top_left\n",
    "    br_y, br_x = bottom_right\n",
    "    \n",
    "    total = integral_image[br_y, br_x]\n",
    "    if tl_y > 0:\n",
    "        total -= integral_image[tl_y - 1, br_x]\n",
    "    if tl_x > 0:\n",
    "        total -= integral_image[br_y, tl_x - 1]\n",
    "    if tl_y > 0 and tl_x > 0:\n",
    "        total += integral_image[tl_y - 1, tl_x - 1]\n",
    "    \n",
    "    return total\n",
    "\n",
    "def compute_haar_features(image):\n",
    "    if image.shape[0] != image.shape[1]:\n",
    "        raise ValueError(\"The input image must be square.\")\n",
    "\n",
    "    integral_image = compute_integral_image(image)\n",
    "    features = []\n",
    "\n",
    "    for i in range(0, image.shape[0], 3):  # Slide vertically with a step of 3\n",
    "        for j in range(0, image.shape[0], 3):  # Slide horizontally with a step of 3\n",
    "\n",
    "            if i + 6 > image.shape[0] or j + 6 > image.shape[0]:\n",
    "                continue\n",
    "\n",
    "            # Horizontal feature\n",
    "            horizontal_feature_value = sum_region(integral_image, (i, j), (i+2, j+5)) - sum_region(integral_image, (i+3, j), (i+5, j+5))\n",
    "\n",
    "            # Vertical feature\n",
    "            vertical_feature_value = sum_region(integral_image, (i, j), (i+5, j+2)) - sum_region(integral_image, (i, j+3), (i+5, j+5))\n",
    "\n",
    "            features.append(horizontal_feature_value)\n",
    "            features.append(vertical_feature_value)\n",
    "\n",
    "    return np.array(features)\n",
    "\n",
    "\n",
    "def aspect_ratio(image, threshold=0.5):\n",
    "    # Threshold the image to create a binary representation\n",
    "    bin_image = image > threshold\n",
    "    # Find the bounding box\n",
    "    row_indices, col_indices = np.nonzero(bin_image)\n",
    "    max_row, min_row = np.max(row_indices), np.min(row_indices)\n",
    "    max_col, min_col = np.max(col_indices), np.min(col_indices)\n",
    "\n",
    "    # Calculate the aspect ratio of the bounding box\n",
    "    width = max_col - min_col + 1\n",
    "    height = max_row - min_row + 1\n",
    "\n",
    "    if height == 0:  # To avoid division by zero\n",
    "        return 1.0\n",
    "\n",
    "    return width / height\n",
    "\n",
    "\n",
    "from scipy.ndimage import label\n",
    "\n",
    "\n",
    "def num_regions_below_threshold(image, threshold=0.5):\n",
    "    # Threshold the image so that pixels below the threshold are set to 1\n",
    "    # and those above the threshold are set to 0.\n",
    "    bin_image = image < threshold\n",
    "\n",
    "    # Use connected components labeling\n",
    "    labeled_array, num_features = label(bin_image)\n",
    "\n",
    "    # Return the number of unique regions\n",
    "    # (subtracting 1 as one of the labels will be the background)\n",
    "    return num_features"
   ]
  },
  {
   "cell_type": "code",
   "execution_count": 13,
   "metadata": {},
   "outputs": [],
   "source": [
    "# compute datasets\n",
    "\n",
    "num_train = len(train_images_tensor)\n",
    "num_val = len(validation_images_tensor)\n",
    "num_test = len(test_images_tensor)\n",
    "\n",
    "aspect_ratio_train = np.zeros(num_train)\n",
    "aspect_ratio_val = np.zeros(num_val)\n",
    "aspect_ratio_test = np.zeros(num_test)\n",
    "\n",
    "num_white_regions_train = np.zeros(num_train)\n",
    "num_white_regions_val = np.zeros(num_val)\n",
    "num_white_regions_test = np.zeros(num_test)\n",
    "\n",
    "haar_1 = compute_haar_features(train_images_resized[0].reshape(new_size, new_size))\n",
    "len_haar_features = len(haar_1)\n",
    "\n",
    "haar_train = np.zeros((num_train, len_haar_features))\n",
    "haar_val = np.zeros((num_val, len_haar_features))\n",
    "haar_test = np.zeros((num_test, len_haar_features))\n",
    "\n",
    "for i in range(num_train):\n",
    "    aspect_ratio_train[i] = aspect_ratio(train_images_tensor[i].reshape(28, 28).numpy())\n",
    "    num_white_regions_train[i] = num_regions_below_threshold(\n",
    "        train_images_tensor[i].reshape(28, 28)\n",
    "    )\n",
    "    haar_train[i, :] = compute_haar_features(\n",
    "        train_images_resized[i, :].reshape(new_size, new_size)\n",
    "    )\n",
    "\n",
    "for i in range(num_val):\n",
    "    aspect_ratio_val[i] = aspect_ratio(\n",
    "        validation_images_tensor[i].reshape(28, 28).numpy()\n",
    "    )\n",
    "    num_white_regions_val[i] = num_regions_below_threshold(\n",
    "        validation_images_tensor[i].reshape(28, 28)\n",
    "    )\n",
    "    haar_val[i, :] = compute_haar_features(\n",
    "        val_images_resized[i, :].reshape(new_size, new_size)\n",
    "    )\n",
    "\n",
    "for i in range(num_test):\n",
    "    aspect_ratio_test[i] = aspect_ratio(test_images_tensor[i].reshape(28, 28).numpy())\n",
    "    num_white_regions_test[i] = num_regions_below_threshold(\n",
    "        test_images_tensor[i].reshape(28, 28)\n",
    "    )\n",
    "    haar_test[i, :] = compute_haar_features(\n",
    "        test_images_resized[i, :].reshape(new_size, new_size)\n",
    "    )"
   ]
  },
  {
   "cell_type": "markdown",
   "metadata": {},
   "source": [
    "## Take a look at the images, and the computed features"
   ]
  },
  {
   "cell_type": "code",
   "execution_count": 14,
   "metadata": {},
   "outputs": [
    {
     "name": "stdout",
     "output_type": "stream",
     "text": [
      "Original image\n"
     ]
    },
    {
     "data": {
      "image/png": "[encoded data removed]",
      "text/plain": [
       "<Figure size 640x480 with 1 Axes>"
      ]
     },
     "metadata": {},
     "output_type": "display_data"
    },
    {
     "name": "stdout",
     "output_type": "stream",
     "text": [
      "Image shape torch.Size([28, 28])\n",
      "Label tensor(0)\n",
      "Resized image\n"
     ]
    },
    {
     "data": {
      "image/png": "[encoded data removed]",
      "text/plain": [
       "<Figure size 640x480 with 1 Axes>"
      ]
     },
     "metadata": {},
     "output_type": "display_data"
    },
    {
     "name": "stdout",
     "output_type": "stream",
     "text": [
      "Image shape (12, 12)\n",
      "Haar features: [-1755. -1751.   484.  -128.   297.   125.   118.   364.   934.   812.\n",
      "  -434. -2370.  -598.  2250. -1380. -1040.   879.   373.]\n",
      "Shape of Haar features: (18,)\n",
      "Aspect ratio: 0.7\n",
      "Number of white regions: 2.0\n"
     ]
    }
   ],
   "source": [
    "image_id = 0\n",
    "\n",
    "image = train_images_tensor[image_id].reshape(28, 28)\n",
    "\n",
    "print(\"Original image\")\n",
    "\n",
    "import matplotlib.pyplot as plt\n",
    "\n",
    "plt.imshow(image, cmap=\"gray\")\n",
    "plt.show()\n",
    "\n",
    "print(\"Image shape\", image.shape)\n",
    "print(\"Label\", train_labels_tensor[image_id])\n",
    "\n",
    "print(\"Resized image\")\n",
    "\n",
    "image_resized = train_images_resized[image_id].reshape(new_size, new_size)\n",
    "\n",
    "plt.imshow(image_resized, cmap=\"gray\")\n",
    "plt.show()\n",
    "\n",
    "print(\"Image shape\", image_resized.shape)\n",
    "\n",
    "print(\"Haar features:\", haar_train[image_id, :])\n",
    "print(\"Shape of Haar features:\", haar_train[image_id, :].shape)\n",
    "\n",
    "print(\"Aspect ratio:\", aspect_ratio_train[image_id])\n",
    "print(\"Number of white regions:\", num_white_regions_train[image_id])"
   ]
  },
  {
   "cell_type": "markdown",
   "metadata": {},
   "source": [
    "## Let's merge all features into one dataset"
   ]
  },
  {
   "cell_type": "code",
   "execution_count": 15,
   "metadata": {},
   "outputs": [],
   "source": [
    "# compute datasets\n",
    "\n",
    "train_features = np.zeros((num_train, len_haar_features + 2))\n",
    "val_features = np.zeros((num_val, len_haar_features + 2))\n",
    "test_features = np.zeros((num_test, len_haar_features + 2))\n",
    "\n",
    "for i in range(num_train):\n",
    "    train_features[i, :] = np.hstack(\n",
    "        (haar_train[i, :], aspect_ratio_train[i], num_white_regions_train[i])\n",
    "    )\n",
    "\n",
    "for i in range(num_val):\n",
    "    val_features[i, :] = np.hstack(\n",
    "        (haar_val[i, :], aspect_ratio_val[i], num_white_regions_val[i])\n",
    "    )\n",
    "\n",
    "for i in range(num_test):\n",
    "    test_features[i, :] = np.hstack(\n",
    "        (haar_test[i, :], aspect_ratio_test[i], num_white_regions_test[i])\n",
    "    )"
   ]
  },
  {
   "cell_type": "code",
   "execution_count": 16,
   "metadata": {},
   "outputs": [
    {
     "name": "stdout",
     "output_type": "stream",
     "text": [
      "Shape of training features: (54000, 20)\n",
      "First training feature vector: [-1.755e+03 -1.751e+03  4.840e+02 -1.280e+02  2.970e+02  1.250e+02\n",
      "  1.180e+02  3.640e+02  9.340e+02  8.120e+02 -4.340e+02 -2.370e+03\n",
      " -5.980e+02  2.250e+03 -1.380e+03 -1.040e+03  8.790e+02  3.730e+02\n",
      "  7.000e-01  2.000e+00]\n"
     ]
    }
   ],
   "source": [
    "print(\"Shape of training features:\", train_features.shape)\n",
    "print(\"First training feature vector:\", train_features[0, :])"
   ]
  },
  {
   "cell_type": "markdown",
   "metadata": {},
   "source": [
    "## Normalize the dataset"
   ]
  },
  {
   "cell_type": "code",
   "execution_count": 17,
   "metadata": {},
   "outputs": [
    {
     "name": "stdout",
     "output_type": "stream",
     "text": [
      "Mean: [-156.89455556 -746.57240741  181.82409259 -233.12468519  215.89527778\n",
      "  263.25757407  -26.51775926 -543.36164815  -95.56633333 -166.66537037\n",
      "   12.45133333  338.88711111 -328.52153704 -618.70875926 -104.3222963\n",
      "   63.83240741  266.76446296  587.49375926    0.80027855    1.64944444]\n",
      "Standard deviation: [1.04394811e+03 9.22641317e+02 1.08172584e+03 9.85078247e+02\n",
      " 8.74984717e+02 1.12660933e+03 1.00850222e+03 1.12867243e+03\n",
      " 1.08860804e+03 1.05573917e+03 9.81360965e+02 1.34469105e+03\n",
      " 1.02263037e+03 9.90665097e+02 1.18404377e+03 1.17523292e+03\n",
      " 8.17505785e+02 1.20897397e+03 2.21488782e-01 8.68779298e-01]\n",
      "Mean: [-156.89455555555554, -746.5724074074074, 181.8240925925926, -233.12468518518517, 215.89527777777778, 263.25757407407406, -26.51775925925926, -543.3616481481481, -95.56633333333333, -166.66537037037037, 12.451333333333332, 338.8871111111111, -328.52153703703704, -618.7087592592593, -104.3222962962963, 63.83240740740741, 266.76446296296297, 587.4937592592593, 0.800278554246832, 1.6494444444444445]\n",
      "Standard deviation: [1043.9481099421746, 922.6413166564906, 1081.7258364235456, 985.0782471787254, 874.9847165310242, 1126.609325302833, 1008.5022217328883, 1128.672429354368, 1088.6080378204506, 1055.7391728007258, 981.360965040711, 1344.6910499347453, 1022.6303743646741, 990.6650968719681, 1184.0437747222106, 1175.2329215102861, 817.5057847253131, 1208.9739683033454, 0.22148878238313918, 0.8687792982892613]\n"
     ]
    }
   ],
   "source": [
    "from sklearn.preprocessing import StandardScaler\n",
    "\n",
    "scaler = StandardScaler()\n",
    "train_features_normalized = torch.tensor(scaler.fit_transform(train_features)).float()\n",
    "val_features_normalized = torch.tensor(scaler.transform(val_features)).float()\n",
    "test_features_normalized = torch.tensor(scaler.transform(test_features)).float()\n",
    "\n",
    "# print normalizing parameters\n",
    "print(\"Mean:\", scaler.mean_)\n",
    "print(\"Standard deviation:\", scaler.scale_)\n",
    "\n",
    "# print mean as javascript array\n",
    "print(\"Mean:\", scaler.mean_.tolist())\n",
    "\n",
    "# print standard deviation as javascript array\n",
    "print(\"Standard deviation:\", scaler.scale_.tolist())"
   ]
  },
  {
   "cell_type": "code",
   "execution_count": 18,
   "metadata": {},
   "outputs": [
    {
     "name": "stdout",
     "output_type": "stream",
     "text": [
      "First training feature vector (normalized): tensor([-1.5308, -1.0886,  0.2793,  0.1067,  0.0927, -0.1227,  0.1433,  0.8039,\n",
      "         0.9458,  0.9270, -0.4549, -2.0145, -0.2635,  2.8957, -1.0774, -0.9392,\n",
      "         0.7489, -0.1774, -0.4527,  0.4035])\n"
     ]
    }
   ],
   "source": [
    "print(\"First training feature vector (normalized):\", train_features_normalized[0, :])"
   ]
  },
  {
   "cell_type": "markdown",
   "metadata": {},
   "source": [
    "## Define the neural network and the training and test function"
   ]
  },
  {
   "cell_type": "code",
   "execution_count": 19,
   "metadata": {},
   "outputs": [],
   "source": [
    "import torch\n",
    "import torch.nn as nn\n",
    "import torch.optim as optim\n",
    "from sklearn.metrics import accuracy_score\n",
    "\n",
    "\n",
    "def evaluate_model(model, test_labels):\n",
    "    model.eval()  # Set the model to evaluation mode\n",
    "    with torch.no_grad():\n",
    "        test_outputs = model(test_features_normalized)\n",
    "        _, predicted = torch.max(test_outputs.data, 1)\n",
    "        accuracy = accuracy_score(test_labels, predicted.numpy())\n",
    "        print(\"Accuracy:\", accuracy)\n",
    "        return accuracy\n",
    "\n",
    "\n",
    "# Define the PyTorch neural network\n",
    "class SimpleNN(nn.Module):\n",
    "    def __init__(self, input_dim, hidden_dim, output_dim):\n",
    "        super(SimpleNN, self).__init__()\n",
    "        self.fc1 = nn.Linear(input_dim, hidden_dim)\n",
    "        self.fc2 = nn.Linear(hidden_dim, output_dim)\n",
    "\n",
    "    def forward(self, x):\n",
    "        x = torch.relu(self.fc1(x))\n",
    "        x = self.fc2(x)\n",
    "        return x\n",
    "\n",
    "\n",
    "def train(model, train_labels, val_labels):\n",
    "    model.train()\n",
    "    criterion = nn.CrossEntropyLoss()\n",
    "    optimizer = optim.Adam(model.parameters(), lr=0.001)\n",
    "\n",
    "    # Training loop with L1 regularization\n",
    "    lambda_l1 = 0.0001  # L1 regularization coefficient\n",
    "\n",
    "    validation_losses = []\n",
    "    epoch = 0\n",
    "\n",
    "    model_states = []\n",
    "\n",
    "    while True:\n",
    "        optimizer.zero_grad()\n",
    "        outputs = model(train_features_normalized)\n",
    "\n",
    "        loss = criterion(outputs, train_labels)\n",
    "\n",
    "        # Add L1 regularization\n",
    "        l1_reg = torch.tensor(0.0, requires_grad=True)\n",
    "        for param in model.parameters():\n",
    "            l1_reg = l1_reg + torch.norm(param, 1)\n",
    "        loss += lambda_l1 * l1_reg\n",
    "\n",
    "        loss.backward()\n",
    "        optimizer.step()\n",
    "\n",
    "        # Print progress\n",
    "        if (epoch + 1) % 100 == 0:\n",
    "            print(\n",
    "                f\"Epoch [{epoch + 1}], Loss: {loss.item():.4f}, validation loss: {validation_losses[-1]:.4f}\"\n",
    "            )\n",
    "\n",
    "        # store model state\n",
    "        model_states.append(model.state_dict())\n",
    "\n",
    "        # Compute validation loss\n",
    "        with torch.no_grad():\n",
    "            outputs = model(val_features_normalized)\n",
    "            loss = criterion(outputs, val_labels)\n",
    "            validation_losses.append(loss.item())\n",
    "\n",
    "        # Check for early stopping if no improvement in validation loss in last 10 epochs\n",
    "        if epoch > 10 and validation_losses[-1] > validation_losses[-10]:\n",
    "            print(\"Early stopping\")\n",
    "            break\n",
    "\n",
    "        epoch += 1\n",
    "\n",
    "    best_model_state = model_states[np.argmin(validation_losses)]\n",
    "    model.load_state_dict(best_model_state)\n",
    "    validation_loss_of_best_model = validation_losses[np.argmin(validation_losses)]\n",
    "\n",
    "    return model, epoch, validation_loss_of_best_model"
   ]
  },
  {
   "cell_type": "markdown",
   "metadata": {},
   "source": [
    "## Let's create and train a model"
   ]
  },
  {
   "cell_type": "code",
   "execution_count": 20,
   "metadata": {},
   "outputs": [],
   "source": [
    "# Hyperparameters\n",
    "input_dim = train_features_normalized.shape[1]\n",
    "output_dim = len(set(train_labels))  # Assuming train_labels are class indices\n",
    "hidden_dim = (input_dim + output_dim) // 2\n",
    "\n",
    "# Instantiate the model\n",
    "model = SimpleNN(input_dim=input_dim, hidden_dim=hidden_dim, output_dim=output_dim)"
   ]
  },
  {
   "cell_type": "code",
   "execution_count": 21,
   "metadata": {},
   "outputs": [
    {
     "name": "stdout",
     "output_type": "stream",
     "text": [
      "Epoch [100], Loss: 1.6662, validation loss: 1.6651\n",
      "Epoch [200], Loss: 0.9860, validation loss: 0.9828\n",
      "Epoch [300], Loss: 0.6444, validation loss: 0.6410\n",
      "Epoch [400], Loss: 0.4980, validation loss: 0.4945\n",
      "Epoch [500], Loss: 0.4302, validation loss: 0.4264\n",
      "Epoch [600], Loss: 0.3938, validation loss: 0.3899\n",
      "Epoch [700], Loss: 0.3716, validation loss: 0.3674\n",
      "Epoch [800], Loss: 0.3566, validation loss: 0.3523\n",
      "Epoch [900], Loss: 0.3460, validation loss: 0.3416\n",
      "Epoch [1000], Loss: 0.3381, validation loss: 0.3337\n",
      "Epoch [1100], Loss: 0.3319, validation loss: 0.3276\n",
      "Epoch [1200], Loss: 0.3269, validation loss: 0.3226\n",
      "Epoch [1300], Loss: 0.3226, validation loss: 0.3181\n",
      "Epoch [1400], Loss: 0.3190, validation loss: 0.3141\n",
      "Epoch [1500], Loss: 0.3158, validation loss: 0.3107\n",
      "Epoch [1600], Loss: 0.3128, validation loss: 0.3075\n",
      "Epoch [1700], Loss: 0.3100, validation loss: 0.3045\n",
      "Epoch [1800], Loss: 0.3073, validation loss: 0.3017\n",
      "Epoch [1900], Loss: 0.3046, validation loss: 0.2989\n",
      "Epoch [2000], Loss: 0.3018, validation loss: 0.2962\n",
      "Epoch [2100], Loss: 0.2992, validation loss: 0.2937\n",
      "Epoch [2200], Loss: 0.2967, validation loss: 0.2911\n",
      "Epoch [2300], Loss: 0.2942, validation loss: 0.2886\n",
      "Epoch [2400], Loss: 0.2918, validation loss: 0.2861\n",
      "Epoch [2500], Loss: 0.2895, validation loss: 0.2836\n",
      "Epoch [2600], Loss: 0.2873, validation loss: 0.2811\n",
      "Epoch [2700], Loss: 0.2850, validation loss: 0.2784\n",
      "Epoch [2800], Loss: 0.2828, validation loss: 0.2759\n",
      "Epoch [2900], Loss: 0.2807, validation loss: 0.2734\n",
      "Epoch [3000], Loss: 0.2785, validation loss: 0.2710\n",
      "Epoch [3100], Loss: 0.2764, validation loss: 0.2685\n",
      "Epoch [3200], Loss: 0.2742, validation loss: 0.2660\n",
      "Epoch [3300], Loss: 0.2720, validation loss: 0.2638\n",
      "Epoch [3400], Loss: 0.2699, validation loss: 0.2616\n",
      "Epoch [3500], Loss: 0.2679, validation loss: 0.2593\n",
      "Epoch [3600], Loss: 0.2659, validation loss: 0.2571\n",
      "Epoch [3700], Loss: 0.2638, validation loss: 0.2547\n",
      "Epoch [3800], Loss: 0.2619, validation loss: 0.2522\n",
      "Epoch [3900], Loss: 0.2600, validation loss: 0.2500\n",
      "Epoch [4000], Loss: 0.2583, validation loss: 0.2479\n",
      "Epoch [4100], Loss: 0.2565, validation loss: 0.2460\n",
      "Epoch [4200], Loss: 0.2547, validation loss: 0.2441\n",
      "Epoch [4300], Loss: 0.2529, validation loss: 0.2421\n",
      "Epoch [4400], Loss: 0.2511, validation loss: 0.2403\n",
      "Epoch [4500], Loss: 0.2494, validation loss: 0.2384\n",
      "Epoch [4600], Loss: 0.2477, validation loss: 0.2366\n",
      "Epoch [4700], Loss: 0.2461, validation loss: 0.2347\n",
      "Epoch [4800], Loss: 0.2446, validation loss: 0.2334\n",
      "Epoch [4900], Loss: 0.2430, validation loss: 0.2317\n",
      "Epoch [5000], Loss: 0.2416, validation loss: 0.2300\n",
      "Epoch [5100], Loss: 0.2404, validation loss: 0.2282\n",
      "Epoch [5200], Loss: 0.2393, validation loss: 0.2266\n",
      "Epoch [5300], Loss: 0.2381, validation loss: 0.2250\n",
      "Epoch [5400], Loss: 0.2370, validation loss: 0.2238\n",
      "Epoch [5500], Loss: 0.2359, validation loss: 0.2227\n",
      "Epoch [5600], Loss: 0.2348, validation loss: 0.2219\n",
      "Epoch [5700], Loss: 0.2339, validation loss: 0.2212\n",
      "Epoch [5800], Loss: 0.2332, validation loss: 0.2208\n",
      "Epoch [5900], Loss: 0.2325, validation loss: 0.2204\n",
      "Epoch [6000], Loss: 0.2319, validation loss: 0.2200\n",
      "Early stopping\n"
     ]
    }
   ],
   "source": [
    "# Train the model\n",
    "model, epochs, val_loss = train(model, train_labels_tensor, validation_labels_tensor)"
   ]
  },
  {
   "cell_type": "code",
   "execution_count": 22,
   "metadata": {},
   "outputs": [
    {
     "name": "stdout",
     "output_type": "stream",
     "text": [
      "Accuracy: 0.9363\n"
     ]
    },
    {
     "data": {
      "text/plain": [
       "0.9363"
      ]
     },
     "execution_count": 22,
     "metadata": {},
     "output_type": "execute_result"
    }
   ],
   "source": [
    "evaluate_model(model, test_labels)"
   ]
  },
  {
   "cell_type": "markdown",
   "metadata": {},
   "source": [
    "## Let's prune the model"
   ]
  },
  {
   "cell_type": "code",
   "execution_count": 23,
   "metadata": {},
   "outputs": [],
   "source": [
    "def prune_pytorch_network(\n",
    "    model, weight_threshold=1e-1, bias_threshold=1e-1\n",
    "):  # noqa: D103\n",
    "    num_weights = 0\n",
    "    num_weights_already_zero = 0\n",
    "    num_changed_weights = 0\n",
    "    num_biases = 0\n",
    "    num_biases_already_zero = 0\n",
    "    num_changed_biases = 0\n",
    "\n",
    "    # Pruning the weights\n",
    "    for name, param in model.named_parameters():\n",
    "        if \"weight\" in name:\n",
    "            flattened_weights = param.data.view(-1)\n",
    "            for j, weight in enumerate(flattened_weights):\n",
    "                if weight == 0:\n",
    "                    num_weights_already_zero += 1\n",
    "                elif abs(weight) < weight_threshold:\n",
    "                    flattened_weights[j] = 0\n",
    "                    num_changed_weights += 1\n",
    "                num_weights += 1\n",
    "            param.data = flattened_weights.view(param.data.shape)\n",
    "        elif \"bias\" in name:\n",
    "            flattened_biases = param.data.view(-1)\n",
    "            for j, bias in enumerate(flattened_biases):\n",
    "                if bias == 0:\n",
    "                    num_biases_already_zero += 1\n",
    "                elif abs(bias) < bias_threshold:\n",
    "                    flattened_biases[j] = 0\n",
    "                    num_changed_biases += 1\n",
    "                num_biases += 1\n",
    "            param.data = flattened_biases.view(param.data.shape)\n",
    "\n",
    "    # Set gradients of pruned weights to zero\n",
    "    def zero_gradients_hook(grad):\n",
    "        return grad * (grad != 0)\n",
    "\n",
    "    hooks = []\n",
    "    for name, param in model.named_parameters():\n",
    "        if \"weight\" in name or \"bias\" in name:\n",
    "            hooks.append(param.register_hook(zero_gradients_hook))\n",
    "\n",
    "    print(f\"Number of weight parameters: {num_weights}\")  # noqa: T201\n",
    "    print(f\"Number of weights already zero: {num_weights_already_zero}\")  # noqa: T201\n",
    "    print(f\"Number of changed weight parameters: {num_changed_weights}\")  # noqa: T201\n",
    "    print(f\"Number of bias parameters: {num_biases}\")  # noqa: T201\n",
    "    print(f\"Number of biases already zero: {num_biases_already_zero}\")  # noqa: T201\n",
    "    print(f\"Number of changed bias parameters: {num_changed_biases}\")  # noqa: T201\n",
    "    print(  # noqa: T201\n",
    "        f\"Percentage of weights pruned: {num_changed_weights / num_weights * 100:.2f}%\"\n",
    "    )\n",
    "    print(  # noqa: T201\n",
    "        f\"Percentage of biases pruned: {num_changed_biases / num_biases * 100:.2f}%\"\n",
    "    )\n",
    "    print(  # noqa: T201\n",
    "        f\"Remaining number of non-zero weights: {num_weights - num_changed_weights}\"\n",
    "    )\n",
    "    print(  # noqa: T201\n",
    "        f\"Remaining number of non-zero biases: {num_biases - num_changed_biases}\"\n",
    "    )\n",
    "\n",
    "    return model, hooks"
   ]
  },
  {
   "cell_type": "code",
   "execution_count": 24,
   "metadata": {},
   "outputs": [
    {
     "name": "stdout",
     "output_type": "stream",
     "text": [
      "Number of weight parameters: 450\n",
      "Number of weights already zero: 0\n",
      "Number of changed weight parameters: 123\n",
      "Number of bias parameters: 25\n",
      "Number of biases already zero: 0\n",
      "Number of changed bias parameters: 4\n",
      "Percentage of weights pruned: 27.33%\n",
      "Percentage of biases pruned: 16.00%\n",
      "Remaining number of non-zero weights: 327\n",
      "Remaining number of non-zero biases: 21\n",
      "Accuracy: 0.9341\n"
     ]
    }
   ],
   "source": [
    "import copy\n",
    "\n",
    "model_pruned = copy.deepcopy(model)\n",
    "model_pruned, hooks = prune_pytorch_network(model_pruned, 1e-1, 1e-1)\n",
    "\n",
    "_ = evaluate_model(model_pruned, test_labels)"
   ]
  },
  {
   "cell_type": "markdown",
   "metadata": {},
   "source": [
    "## Let's have a loop of fine-tuning, pruning, and evaluating"
   ]
  },
  {
   "cell_type": "code",
   "execution_count": 25,
   "metadata": {},
   "outputs": [
    {
     "name": "stdout",
     "output_type": "stream",
     "text": [
      "Iteration 0\n",
      "Number of weight parameters: 450\n",
      "Number of weights already zero: 0\n",
      "Number of changed weight parameters: 123\n",
      "Number of bias parameters: 25\n",
      "Number of biases already zero: 0\n",
      "Number of changed bias parameters: 4\n",
      "Percentage of weights pruned: 27.33%\n",
      "Percentage of biases pruned: 16.00%\n",
      "Remaining number of non-zero weights: 327\n",
      "Remaining number of non-zero biases: 21\n",
      "Now training\n",
      "Early stopping\n",
      "Iteration 1\n",
      "Number of weight parameters: 450\n",
      "Number of weights already zero: 0\n",
      "Number of changed weight parameters: 126\n",
      "Number of bias parameters: 25\n",
      "Number of biases already zero: 0\n",
      "Number of changed bias parameters: 4\n",
      "Percentage of weights pruned: 28.00%\n",
      "Percentage of biases pruned: 16.00%\n",
      "Remaining number of non-zero weights: 324\n",
      "Remaining number of non-zero biases: 21\n",
      "Now training\n",
      "Epoch [100], Loss: 0.2307, validation loss: 0.2188\n",
      "Early stopping\n",
      "Iteration 2\n",
      "Number of weight parameters: 450\n",
      "Number of weights already zero: 0\n",
      "Number of changed weight parameters: 133\n",
      "Number of bias parameters: 25\n",
      "Number of biases already zero: 0\n",
      "Number of changed bias parameters: 4\n",
      "Percentage of weights pruned: 29.56%\n",
      "Percentage of biases pruned: 16.00%\n",
      "Remaining number of non-zero weights: 317\n",
      "Remaining number of non-zero biases: 21\n",
      "Now training\n",
      "Early stopping\n",
      "Iteration 3\n",
      "Number of weight parameters: 450\n",
      "Number of weights already zero: 0\n",
      "Number of changed weight parameters: 134\n",
      "Number of bias parameters: 25\n",
      "Number of biases already zero: 0\n",
      "Number of changed bias parameters: 4\n",
      "Percentage of weights pruned: 29.78%\n",
      "Percentage of biases pruned: 16.00%\n",
      "Remaining number of non-zero weights: 316\n",
      "Remaining number of non-zero biases: 21\n",
      "Now training\n",
      "Early stopping\n",
      "Early stopping\n",
      "Accuracy: 0.9361\n"
     ]
    }
   ],
   "source": [
    "i = 0\n",
    "val_loss_new = val_loss\n",
    "model_to_prune = copy.deepcopy(model)\n",
    "\n",
    "while True:\n",
    "    print(f\"Iteration {i}\")\n",
    "    model_pruned = copy.deepcopy(model_to_prune)\n",
    "    model_pruned, _ = prune_pytorch_network(model_pruned, 1e-1, 1e-1)\n",
    "    val_loss_old = val_loss_new\n",
    "\n",
    "    model_to_prune = copy.deepcopy(model_pruned)\n",
    "    print(\"Now training\")\n",
    "    model_to_prune, _, val_loss_new = train(model_to_prune, train_labels_tensor, validation_labels_tensor)\n",
    "\n",
    "    if val_loss_new > val_loss_old:\n",
    "        print(\"Early stopping\")\n",
    "        break\n",
    "\n",
    "    i += 1\n",
    "\n",
    "accuracy = evaluate_model(model_pruned, test_labels)"
   ]
  },
  {
   "cell_type": "markdown",
   "metadata": {},
   "source": [
    "## Let's convert this model to a scikit-learn MLP model"
   ]
  },
  {
   "cell_type": "code",
   "execution_count": 26,
   "metadata": {},
   "outputs": [
    {
     "name": "stderr",
     "output_type": "stream",
     "text": [
      "/Users/kp/miniconda3/lib/python3.11/site-packages/sklearn/neural_network/_multilayer_perceptron.py:691: ConvergenceWarning: Stochastic Optimizer: Maximum iterations (1) reached and the optimization hasn't converged yet.\n",
      "  warnings.warn(\n"
     ]
    }
   ],
   "source": [
    "from sklearn.neural_network import MLPClassifier\n",
    "\n",
    "\n",
    "def pytorch_to_sklearn(pytorch_model):\n",
    "\n",
    "    # Extract weights and biases from PyTorch model\n",
    "    fc1_weight = pytorch_model.fc1.weight.data\n",
    "    fc1_bias = pytorch_model.fc1.bias.data\n",
    "    fc2_weight = pytorch_model.fc2.weight.data\n",
    "    fc2_bias = pytorch_model.fc2.bias.data\n",
    "\n",
    "    # Get the sizes for initialization\n",
    "    input_size = fc1_weight.shape[1]\n",
    "    hidden_size = fc1_weight.shape[0]\n",
    "    output_size = fc2_weight.shape[0]\n",
    "\n",
    "    # Initialize sklearn MLP\n",
    "    sklearn_mlp = MLPClassifier(\n",
    "        hidden_layer_sizes=(hidden_size,), activation=\"relu\", max_iter=1\n",
    "    )\n",
    "\n",
    "    # To ensure the model doesn't change the weights during the dummy fit, we set warm_start=True\n",
    "    sklearn_mlp.warm_start = True\n",
    "\n",
    "    # Dummy fit to initialize weights (necessary step before setting the weights)\n",
    "    sklearn_mlp.fit(np.zeros((output_size, input_size)), list(range(output_size)))\n",
    "\n",
    "    # Set the weights and biases\n",
    "    sklearn_mlp.coefs_[0] = fc1_weight.t().numpy()\n",
    "    sklearn_mlp.intercepts_[0] = fc1_bias.numpy()\n",
    "    sklearn_mlp.coefs_[1] = fc2_weight.t().numpy()\n",
    "    sklearn_mlp.intercepts_[1] = fc2_bias.numpy()\n",
    "\n",
    "    return sklearn_mlp\n",
    "\n",
    "\n",
    "# Convert the example PyTorch MLP to sklearn MLP\n",
    "converted_model = pytorch_to_sklearn(model_pruned)"
   ]
  },
  {
   "cell_type": "code",
   "execution_count": 27,
   "metadata": {},
   "outputs": [
    {
     "name": "stdout",
     "output_type": "stream",
     "text": [
      "Accuracy: 0.9361\n",
      "Number of neurons per layer: [20, 15, 10]\n"
     ]
    }
   ],
   "source": [
    "# Evaluate the sklearn model\n",
    "accuracy = converted_model.score(test_features_normalized.numpy(), test_labels)\n",
    "print(\"Accuracy:\", accuracy)\n",
    "\n",
    "layers_sizes = [converted_model.coefs_[0].shape[0]] + [\n",
    "    coef.shape[1] for coef in converted_model.coefs_\n",
    "]\n",
    "\n",
    "print(\"Number of neurons per layer:\", layers_sizes)"
   ]
  },
  {
   "cell_type": "markdown",
   "metadata": {},
   "source": [
    "## Let's transpile this model to Leo"
   ]
  },
  {
   "cell_type": "code",
   "execution_count": 28,
   "metadata": {},
   "outputs": [
    {
     "name": "stdout",
     "output_type": "stream",
     "text": [
      "<class 'sklearn.neural_network._multilayer_perceptron.MLPClassifier'>\n",
      "Constraints: 147972\n",
      "Runtime for one instance: 3.6300060749053955 seconds\n",
      "Leo accuracy: 80.0 %\n",
      "Python accuracy: 80.0 %\n"
     ]
    }
   ],
   "source": [
    "from zkml import LeoTranspiler\n",
    "\n",
    "# Transpile the deceision tree into Leo code\n",
    "print(type(converted_model))\n",
    "lt = LeoTranspiler(\n",
    "    model=converted_model, validation_data=train_features_normalized[0:600].numpy()\n",
    ")\n",
    "leo_project_path = os.path.join(os.getcwd(), \"tmp\", \"mnist\")\n",
    "leo_project_name = \"sklearn_mlp_mnist_1\"\n",
    "lt.to_leo(\n",
    "    path=leo_project_path, project_name=leo_project_name, fixed_point_scaling_factor=16\n",
    ")\n",
    "\n",
    "# Compute the accuracy of the Leo program and the Python program on the test set\n",
    "num_test_samples = len(test_features)\n",
    "\n",
    "# let's limit the number of test stamples to 10 to make the computation faster\n",
    "num_test_samples = min(num_test_samples, 10)\n",
    "\n",
    "python_predictions = converted_model.predict(test_features)\n",
    "\n",
    "leo_predictions = np.zeros(num_test_samples)\n",
    "for i in range(num_test_samples):\n",
    "    lc = lt.run(input=test_features[i])\n",
    "    leo_predictions[i] = np.argmax(lc.output_decimal)\n",
    "\n",
    "print(f\"Constraints: {lc.circuit_constraints}\")\n",
    "print(f\"Runtime for one instance: {lc.runtime} seconds\")\n",
    "\n",
    "leo_accuracy = (\n",
    "    np.sum(leo_predictions[0:num_test_samples] == test_labels[0:num_test_samples])\n",
    "    / num_test_samples\n",
    ")\n",
    "python_accuracy = (\n",
    "    np.sum(python_predictions[0:num_test_samples] == test_labels[0:num_test_samples])\n",
    "    / num_test_samples\n",
    ")\n",
    "\n",
    "print(f\"Leo accuracy: {100*leo_accuracy} %\")\n",
    "print(f\"Python accuracy: {100*python_accuracy} %\")"
   ]
  },
  {
   "cell_type": "markdown",
   "metadata": {},
   "source": [
    "## Let's generate a proof"
   ]
  },
  {
   "cell_type": "code",
   "execution_count": 29,
   "metadata": {},
   "outputs": [
    {
     "name": "stdout",
     "output_type": "stream",
     "text": [
      "Constraints: 147972\n",
      "Runtime for one instance: 28.183155059814453 seconds\n",
      "\n",
      "Leo prediction: [-1457.217041015625, -5426.77490234375, 3321.30517578125, 2152.006103515625, -6994.791015625, -6128.408203125, -11780.537841796875, 5969.34619140625, 1985.5869140625, 3234.726806640625]\n",
      "Python prediction: 7\n",
      "True label: 7\n",
      "\n",
      "Proof: proof1qyqsqqqqqqqqqqqpqqqqqqqqqqqrwhjmms8lv52u43ff6a22mn3yfwwqv3jzg00fp0sy7tkv699f42gl50lwycl764ejy2p2vudj5tsqqy27szvhax3lwm6gs3t8lpf2dhxxx4jy2eywny9zafrxk46f2hjng7gmhy3pu07tewl6m49jjtkssqr6r27y52qxwf2wf9ft0r97c6e5xywggthwmla44e63fc8wldqd37aas4qsr50rxejrk0qwr2px2gqwhp76l8lrnsadsdca6a5jtxjgwsy0vf9tpdfmtj2s48rpdg4ax7l46wachcu236v22au0s8tp6rgqsnvzlgp9wuqulg2akcwendm4n5kq7has8pq5p9rcluqavzcvcxt4wytx5nxlfatl6j8vlxgneuccpeuhelgt78tlur6xgvh4fre7aecpadruycfw4se77hm5vttz3gpywwvm5f68p7wetvremk2a8048sxg6949t62ftwh5t34fk2qs56l0ecs2deevmlswk66xfpytlc52g4vlc7cgmc9mewt7jta4y5qax3qqyvpa3v3t7rm9wduqjkjdh0gsz4gvgxltugwwjvz6292xy8upxjfsddtfu2kzj3dxm8jk0u2qgy5q2jy7xx509r5xycups0czvk4gy8p0y3qjjzzc25rg8xptkl2nywem2dy5kesqc85cqxxr69pkh4h5q8a2vvedsfc4wwjydhe3g3h8repegn4548h4lwdkl0jvgdgm4gyrphmfc2tulz890w3yqzcvuql9cn942jln7qjyvqka7amv67xq6yqw6kgxgk9dg4q4gt0sc3aulh84kjcnaht6y89pywx5gs5t46yclpnecxjzlnz36f9ezz5pm8j8xcjt69gkyq9nemgnesh8pwrtrprspp09smvmq4py00znu3uy6wsw0xjdd7csk0uqam75uuqywmp74hhgr53tcas9nxn8ezuv9w5au80fjfat3rwkaa73r33da8t0cjdfwjyguqeezywcrf8nztqzhde020sq72mtntm8gnwvy6vk7j6lwyava2q9hp7upk0a8g9jv7c2k2ccyp5sv053a9frhp55l82dsea67f738pc42hgss8m8wt4wpz9kuzdmc7v8scg893xce0m7c7jlzkfh06thprdmggwtf5h598ug55x4t3y5epg5z0x4243cdyqpcvw7xs44wl7csqvqqqqqqqqqqp3lkjcljdsy7vqgw86u8kkwenxf9uytkpk2k5x3ntd62eulgqpq6ztpzg3dgwrm9x7xupmtvel0dsqq04h0n97qlxs6y760c94rd3h53gp0uuhzw689acy3fy89des3st8ahrsnphtuye3v3gua80h4ctruqqyc5gwkjru3sparw5x2zg3whtnnqekxgxu0fwp4m49r46lm9nmlsuawa3z7vdp0nk7p6dunh8mm07d5z24q20yf9cta3qppmeapskg8p56d4hgg7cpcy0gnsyey0gwk2sqqqqpmrqw\n"
     ]
    }
   ],
   "source": [
    "zkp = lt.execute(input=test_features[0])\n",
    "\n",
    "print(f\"Constraints: {zkp.circuit_constraints}\")\n",
    "print(f\"Runtime for one instance: {zkp.runtime} seconds\\n\")\n",
    "\n",
    "print(f\"Leo prediction: {zkp.output_decimal}\")\n",
    "print(f\"Python prediction: {python_predictions[0]}\")\n",
    "print(f\"True label: {test_labels[0]}\\n\")\n",
    "\n",
    "print(f\"Proof: {zkp.proof}\")"
   ]
  },
  {
   "cell_type": "code",
   "execution_count": 30,
   "metadata": {},
   "outputs": [
    {
     "name": "stdout",
     "output_type": "stream",
     "text": [
      "Plot the image\n"
     ]
    },
    {
     "data": {
      "image/png": "[encoded data removed]",
      "text/plain": [
       "<Figure size 640x480 with 1 Axes>"
      ]
     },
     "metadata": {},
     "output_type": "display_data"
    }
   ],
   "source": [
    "print(\"Plot the image\")\n",
    "plt.imshow(test_images_tensor[0].reshape(28, 28), cmap=\"gray\")\n",
    "plt.show()"
   ]
  },
  {
   "cell_type": "markdown",
   "metadata": {},
   "source": [
    "## Debugging information"
   ]
  },
  {
   "cell_type": "code",
   "execution_count": 31,
   "metadata": {},
   "outputs": [
    {
     "name": "stdout",
     "output_type": "stream",
     "text": [
      "Features: [ 1.711e+03  1.410e+02  1.228e+03 -3.260e+02  4.110e+02 -9.950e+02\n",
      " -1.290e+02 -1.290e+02 -1.066e+03 -1.476e+03  1.320e+02  5.360e+02\n",
      " -1.162e+03 -1.420e+03 -7.900e+01 -3.900e+01  1.083e+03  1.459e+03\n",
      "  8.000e-01  1.000e+00]\n"
     ]
    }
   ],
   "source": [
    "# print the featuers\n",
    "print(\"Features:\", test_features[0])"
   ]
  },
  {
   "cell_type": "code",
   "execution_count": 32,
   "metadata": {},
   "outputs": [
    {
     "name": "stdout",
     "output_type": "stream",
     "text": [
      "Javascript array: [1711.0, 141.0, 1228.0, -326.0, 411.0, -995.0, -129.0, -129.0, -1066.0, -1476.0, 132.0, 536.0, -1162.0, -1420.0, -79.0, -39.0, 1083.0, 1459.0, 0.8, 1.0, ]\n"
     ]
    }
   ],
   "source": [
    "# convert test_features[0] into a javascript array\n",
    "js_array = \"[\"\n",
    "for i in range(len(test_features[0])):\n",
    "    js_array += str(test_features[0][i]) + \", \"\n",
    "js_array += \"]\"\n",
    "\n",
    "print(\"Javascript array:\", js_array)"
   ]
  },
  {
   "cell_type": "code",
   "execution_count": 33,
   "metadata": {},
   "outputs": [
    {
     "name": "stdout",
     "output_type": "stream",
     "text": [
      "[[0.0, 0.0, 0.0, 0.0, 0.0, 0.0, 0.0, 0.0, 0.0, 0.0, 0.0, 0.0, 0.0, 0.0, 0.0, 0.0, 0.0, 0.0, 0.0, 0.0, 0.0, 0.0, 0.0, 0.0, 0.0, 0.0, 0.0, 0.0], [0.0, 0.0, 0.0, 0.0, 0.0, 0.0, 0.0, 0.0, 0.0, 0.0, 0.0, 0.0, 0.0, 0.0, 0.0, 0.0, 0.0, 0.0, 0.0, 0.0, 0.0, 0.0, 0.0, 0.0, 0.0, 0.0, 0.0, 0.0], [0.0, 0.0, 0.0, 0.0, 0.0, 0.0, 0.0, 0.0, 0.0, 0.0, 0.0, 0.0, 0.0, 0.0, 0.0, 0.0, 0.0, 0.0, 0.0, 0.0, 0.0, 0.0, 0.0, 0.0, 0.0, 0.0, 0.0, 0.0], [0.0, 0.0, 0.0, 0.0, 0.0, 0.0, 0.0, 0.0, 0.0, 0.0, 0.0, 0.0, 0.0, 0.0, 0.0, 0.0, 0.0, 0.0, 0.0, 0.0, 0.0, 0.0, 0.0, 0.0, 0.0, 0.0, 0.0, 0.0], [0.0, 0.0, 0.0, 0.0, 0.0, 0.0, 0.0, 0.0, 0.0, 0.0, 0.0, 0.0, 0.0, 0.0, 0.0, 0.0, 0.0, 0.0, 0.0, 0.0, 0.0, 0.0, 0.0, 0.0, 0.0, 0.0, 0.0, 0.0], [0.0, 0.0, 0.0, 0.0, 0.0, 0.0, 0.0, 0.0, 0.0, 0.0, 0.0, 0.0, 0.0, 0.0, 0.0, 0.0, 0.0, 0.0, 0.0, 0.0, 0.0, 0.0, 0.0, 0.0, 0.0, 0.0, 0.0, 0.0], [0.0, 0.0, 0.0, 0.0, 0.0, 0.0, 0.0, 0.0, 0.0, 0.0, 0.0, 0.0, 0.0, 0.0, 0.0, 0.0, 0.0, 0.0, 0.0, 0.0, 0.0, 0.0, 0.0, 0.0, 0.0, 0.0, 0.0, 0.0], [0.0, 0.0, 0.0, 0.0, 0.0, 0.0, 84.0, 185.0, 159.0, 151.0, 60.0, 36.0, 0.0, 0.0, 0.0, 0.0, 0.0, 0.0, 0.0, 0.0, 0.0, 0.0, 0.0, 0.0, 0.0, 0.0, 0.0, 0.0], [0.0, 0.0, 0.0, 0.0, 0.0, 0.0, 222.0, 254.0, 254.0, 254.0, 254.0, 241.0, 198.0, 198.0, 198.0, 198.0, 198.0, 198.0, 198.0, 198.0, 170.0, 52.0, 0.0, 0.0, 0.0, 0.0, 0.0, 0.0], [0.0, 0.0, 0.0, 0.0, 0.0, 0.0, 67.0, 114.0, 72.0, 114.0, 163.0, 227.0, 254.0, 225.0, 254.0, 254.0, 254.0, 250.0, 229.0, 254.0, 254.0, 140.0, 0.0, 0.0, 0.0, 0.0, 0.0, 0.0], [0.0, 0.0, 0.0, 0.0, 0.0, 0.0, 0.0, 0.0, 0.0, 0.0, 0.0, 17.0, 66.0, 14.0, 67.0, 67.0, 67.0, 59.0, 21.0, 236.0, 254.0, 106.0, 0.0, 0.0, 0.0, 0.0, 0.0, 0.0], [0.0, 0.0, 0.0, 0.0, 0.0, 0.0, 0.0, 0.0, 0.0, 0.0, 0.0, 0.0, 0.0, 0.0, 0.0, 0.0, 0.0, 0.0, 83.0, 253.0, 209.0, 18.0, 0.0, 0.0, 0.0, 0.0, 0.0, 0.0], [0.0, 0.0, 0.0, 0.0, 0.0, 0.0, 0.0, 0.0, 0.0, 0.0, 0.0, 0.0, 0.0, 0.0, 0.0, 0.0, 0.0, 22.0, 233.0, 255.0, 83.0, 0.0, 0.0, 0.0, 0.0, 0.0, 0.0, 0.0], [0.0, 0.0, 0.0, 0.0, 0.0, 0.0, 0.0, 0.0, 0.0, 0.0, 0.0, 0.0, 0.0, 0.0, 0.0, 0.0, 0.0, 129.0, 254.0, 238.0, 44.0, 0.0, 0.0, 0.0, 0.0, 0.0, 0.0, 0.0], [0.0, 0.0, 0.0, 0.0, 0.0, 0.0, 0.0, 0.0, 0.0, 0.0, 0.0, 0.0, 0.0, 0.0, 0.0, 0.0, 59.0, 249.0, 254.0, 62.0, 0.0, 0.0, 0.0, 0.0, 0.0, 0.0, 0.0, 0.0], [0.0, 0.0, 0.0, 0.0, 0.0, 0.0, 0.0, 0.0, 0.0, 0.0, 0.0, 0.0, 0.0, 0.0, 0.0, 0.0, 133.0, 254.0, 187.0, 5.0, 0.0, 0.0, 0.0, 0.0, 0.0, 0.0, 0.0, 0.0], [0.0, 0.0, 0.0, 0.0, 0.0, 0.0, 0.0, 0.0, 0.0, 0.0, 0.0, 0.0, 0.0, 0.0, 0.0, 9.0, 205.0, 248.0, 58.0, 0.0, 0.0, 0.0, 0.0, 0.0, 0.0, 0.0, 0.0, 0.0], [0.0, 0.0, 0.0, 0.0, 0.0, 0.0, 0.0, 0.0, 0.0, 0.0, 0.0, 0.0, 0.0, 0.0, 0.0, 126.0, 254.0, 182.0, 0.0, 0.0, 0.0, 0.0, 0.0, 0.0, 0.0, 0.0, 0.0, 0.0], [0.0, 0.0, 0.0, 0.0, 0.0, 0.0, 0.0, 0.0, 0.0, 0.0, 0.0, 0.0, 0.0, 0.0, 75.0, 251.0, 240.0, 57.0, 0.0, 0.0, 0.0, 0.0, 0.0, 0.0, 0.0, 0.0, 0.0, 0.0], [0.0, 0.0, 0.0, 0.0, 0.0, 0.0, 0.0, 0.0, 0.0, 0.0, 0.0, 0.0, 0.0, 19.0, 221.0, 254.0, 166.0, 0.0, 0.0, 0.0, 0.0, 0.0, 0.0, 0.0, 0.0, 0.0, 0.0, 0.0], [0.0, 0.0, 0.0, 0.0, 0.0, 0.0, 0.0, 0.0, 0.0, 0.0, 0.0, 0.0, 3.0, 203.0, 254.0, 219.0, 35.0, 0.0, 0.0, 0.0, 0.0, 0.0, 0.0, 0.0, 0.0, 0.0, 0.0, 0.0], [0.0, 0.0, 0.0, 0.0, 0.0, 0.0, 0.0, 0.0, 0.0, 0.0, 0.0, 0.0, 38.0, 254.0, 254.0, 77.0, 0.0, 0.0, 0.0, 0.0, 0.0, 0.0, 0.0, 0.0, 0.0, 0.0, 0.0, 0.0], [0.0, 0.0, 0.0, 0.0, 0.0, 0.0, 0.0, 0.0, 0.0, 0.0, 0.0, 31.0, 224.0, 254.0, 115.0, 1.0, 0.0, 0.0, 0.0, 0.0, 0.0, 0.0, 0.0, 0.0, 0.0, 0.0, 0.0, 0.0], [0.0, 0.0, 0.0, 0.0, 0.0, 0.0, 0.0, 0.0, 0.0, 0.0, 0.0, 133.0, 254.0, 254.0, 52.0, 0.0, 0.0, 0.0, 0.0, 0.0, 0.0, 0.0, 0.0, 0.0, 0.0, 0.0, 0.0, 0.0], [0.0, 0.0, 0.0, 0.0, 0.0, 0.0, 0.0, 0.0, 0.0, 0.0, 61.0, 242.0, 254.0, 254.0, 52.0, 0.0, 0.0, 0.0, 0.0, 0.0, 0.0, 0.0, 0.0, 0.0, 0.0, 0.0, 0.0, 0.0], [0.0, 0.0, 0.0, 0.0, 0.0, 0.0, 0.0, 0.0, 0.0, 0.0, 121.0, 254.0, 254.0, 219.0, 40.0, 0.0, 0.0, 0.0, 0.0, 0.0, 0.0, 0.0, 0.0, 0.0, 0.0, 0.0, 0.0, 0.0], [0.0, 0.0, 0.0, 0.0, 0.0, 0.0, 0.0, 0.0, 0.0, 0.0, 121.0, 254.0, 207.0, 18.0, 0.0, 0.0, 0.0, 0.0, 0.0, 0.0, 0.0, 0.0, 0.0, 0.0, 0.0, 0.0, 0.0, 0.0], [0.0, 0.0, 0.0, 0.0, 0.0, 0.0, 0.0, 0.0, 0.0, 0.0, 0.0, 0.0, 0.0, 0.0, 0.0, 0.0, 0.0, 0.0, 0.0, 0.0, 0.0, 0.0, 0.0, 0.0, 0.0, 0.0, 0.0, 0.0]]\n"
     ]
    }
   ],
   "source": [
    "# convert test_images_tensor[0] into a javascript array\n",
    "js_array = \"[\"\n",
    "for item in test_images_tensor[0].tolist():\n",
    "    js_array += str(item) + \", \"\n",
    "js_array = js_array.rstrip(', ')  # Remove the trailing comma and space\n",
    "js_array += \"]\"\n",
    "\n",
    "print(js_array)"
   ]
  },
  {
   "cell_type": "code",
   "execution_count": 34,
   "metadata": {},
   "outputs": [
    {
     "name": "stdout",
     "output_type": "stream",
     "text": [
      "[[ 84 185 159 151  60  36   0   0   0   0   0   0   0   0   0   0]\n",
      " [222 254 254 254 254 241 198 198 198 198 198 198 198 198 170  52]\n",
      " [ 67 114  72 114 163 227 254 225 254 254 254 250 229 254 254 140]\n",
      " [  0   0   0   0   0  17  66  14  67  67  67  59  21 236 254 106]\n",
      " [  0   0   0   0   0   0   0   0   0   0   0   0  83 253 209  18]\n",
      " [  0   0   0   0   0   0   0   0   0   0   0  22 233 255  83   0]\n",
      " [  0   0   0   0   0   0   0   0   0   0   0 129 254 238  44   0]\n",
      " [  0   0   0   0   0   0   0   0   0   0  59 249 254  62   0   0]\n",
      " [  0   0   0   0   0   0   0   0   0   0 133 254 187   5   0   0]\n",
      " [  0   0   0   0   0   0   0   0   0   9 205 248  58   0   0   0]\n",
      " [  0   0   0   0   0   0   0   0   0 126 254 182   0   0   0   0]\n",
      " [  0   0   0   0   0   0   0   0  75 251 240  57   0   0   0   0]\n",
      " [  0   0   0   0   0   0   0  19 221 254 166   0   0   0   0   0]\n",
      " [  0   0   0   0   0   0   3 203 254 219  35   0   0   0   0   0]\n",
      " [  0   0   0   0   0   0  38 254 254  77   0   0   0   0   0   0]\n",
      " [  0   0   0   0   0  31 224 254 115   1   0   0   0   0   0   0]\n",
      " [  0   0   0   0   0 133 254 254  52   0   0   0   0   0   0   0]\n",
      " [  0   0   0   0  61 242 254 254  52   0   0   0   0   0   0   0]\n",
      " [  0   0   0   0 121 254 254 219  40   0   0   0   0   0   0   0]\n",
      " [  0   0   0   0 121 254 207  18   0   0   0   0   0   0   0   0]]\n"
     ]
    }
   ],
   "source": [
    "print(cropped_test_image_0)"
   ]
  },
  {
   "cell_type": "code",
   "execution_count": 35,
   "metadata": {},
   "outputs": [
    {
     "name": "stdout",
     "output_type": "stream",
     "text": [
      "[[ 84. 185. 155.  60.  36.   0.   0.   0.   0.   0.   0.   0.]\n",
      " [144. 184. 174. 208. 234. 219. 226. 226. 225. 214. 226. 154.]\n",
      " [  0.   0.   0.   0.   8.  20.  34.  34.  32.  52. 244. 147.]\n",
      " [  0.   0.   0.   0.   0.   0.   0.   0.  11. 233. 255.  42.]\n",
      " [  0.   0.   0.   0.   0.   0.   0.   0. 109. 254. 150.  11.]\n",
      " [  0.   0.   0.   0.   0.   0.   0.   4. 210. 122.   2.   0.]\n",
      " [  0.   0.   0.   0.   0.   0.   0. 126. 218.   0.   0.   0.]\n",
      " [  0.   0.   0.   0.   0.   5. 148. 252. 116.   0.   0.   0.]\n",
      " [  0.   0.   0.   0.   0. 124. 254. 148.   9.   0.   0.   0.]\n",
      " [  0.   0.   0.   0.  31. 239. 115.   1.   0.   0.   0.   0.]\n",
      " [  0.   0.   0.  30. 188. 254.  52.   0.   0.   0.   0.   0.]\n",
      " [  0.   0.   0. 121. 254. 174.  20.   0.   0.   0.   0.   0.]]\n"
     ]
    }
   ],
   "source": [
    "print(test_images_resized[0].reshape(new_size, new_size))"
   ]
  },
  {
   "cell_type": "markdown",
   "metadata": {},
   "source": [
    "## Let's train a decision tree"
   ]
  },
  {
   "cell_type": "code",
   "execution_count": 36,
   "metadata": {},
   "outputs": [
    {
     "data": {
      "text/html": [
       "<style>#sk-container-id-1 {color: black;}#sk-container-id-1 pre{padding: 0;}#sk-container-id-1 div.sk-toggleable {background-color: white;}#sk-container-id-1 label.sk-toggleable__label {cursor: pointer;display: block;width: 100%;margin-bottom: 0;padding: 0.3em;box-sizing: border-box;text-align: center;}#sk-container-id-1 label.sk-toggleable__label-arrow:before {content: \"▸\";float: left;margin-right: 0.25em;color: #696969;}#sk-container-id-1 label.sk-toggleable__label-arrow:hover:before {color: black;}#sk-container-id-1 div.sk-estimator:hover label.sk-toggleable__label-arrow:before {color: black;}#sk-container-id-1 div.sk-toggleable__content {max-height: 0;max-width: 0;overflow: hidden;text-align: left;background-color: #f0f8ff;}#sk-container-id-1 div.sk-toggleable__content pre {margin: 0.2em;color: black;border-radius: 0.25em;background-color: #f0f8ff;}#sk-container-id-1 input.sk-toggleable__control:checked~div.sk-toggleable__content {max-height: 200px;max-width: 100%;overflow: auto;}#sk-container-id-1 input.sk-toggleable__control:checked~label.sk-toggleable__label-arrow:before {content: \"▾\";}#sk-container-id-1 div.sk-estimator input.sk-toggleable__control:checked~label.sk-toggleable__label {background-color: #d4ebff;}#sk-container-id-1 div.sk-label input.sk-toggleable__control:checked~label.sk-toggleable__label {background-color: #d4ebff;}#sk-container-id-1 input.sk-hidden--visually {border: 0;clip: rect(1px 1px 1px 1px);clip: rect(1px, 1px, 1px, 1px);height: 1px;margin: -1px;overflow: hidden;padding: 0;position: absolute;width: 1px;}#sk-container-id-1 div.sk-estimator {font-family: monospace;background-color: #f0f8ff;border: 1px dotted black;border-radius: 0.25em;box-sizing: border-box;margin-bottom: 0.5em;}#sk-container-id-1 div.sk-estimator:hover {background-color: #d4ebff;}#sk-container-id-1 div.sk-parallel-item::after {content: \"\";width: 100%;border-bottom: 1px solid gray;flex-grow: 1;}#sk-container-id-1 div.sk-label:hover label.sk-toggleable__label {background-color: #d4ebff;}#sk-container-id-1 div.sk-serial::before {content: \"\";position: absolute;border-left: 1px solid gray;box-sizing: border-box;top: 0;bottom: 0;left: 50%;z-index: 0;}#sk-container-id-1 div.sk-serial {display: flex;flex-direction: column;align-items: center;background-color: white;padding-right: 0.2em;padding-left: 0.2em;position: relative;}#sk-container-id-1 div.sk-item {position: relative;z-index: 1;}#sk-container-id-1 div.sk-parallel {display: flex;align-items: stretch;justify-content: center;background-color: white;position: relative;}#sk-container-id-1 div.sk-item::before, #sk-container-id-1 div.sk-parallel-item::before {content: \"\";position: absolute;border-left: 1px solid gray;box-sizing: border-box;top: 0;bottom: 0;left: 50%;z-index: -1;}#sk-container-id-1 div.sk-parallel-item {display: flex;flex-direction: column;z-index: 1;position: relative;background-color: white;}#sk-container-id-1 div.sk-parallel-item:first-child::after {align-self: flex-end;width: 50%;}#sk-container-id-1 div.sk-parallel-item:last-child::after {align-self: flex-start;width: 50%;}#sk-container-id-1 div.sk-parallel-item:only-child::after {width: 0;}#sk-container-id-1 div.sk-dashed-wrapped {border: 1px dashed gray;margin: 0 0.4em 0.5em 0.4em;box-sizing: border-box;padding-bottom: 0.4em;background-color: white;}#sk-container-id-1 div.sk-label label {font-family: monospace;font-weight: bold;display: inline-block;line-height: 1.2em;}#sk-container-id-1 div.sk-label-container {text-align: center;}#sk-container-id-1 div.sk-container {/* jupyter's `normalize.less` sets `[hidden] { display: none; }` but bootstrap.min.css set `[hidden] { display: none !important; }` so we also need the `!important` here to be able to override the default hidden behavior on the sphinx rendered scikit-learn.org. See: https://github.com/scikit-learn/scikit-learn/issues/21755 */display: inline-block !important;position: relative;}#sk-container-id-1 div.sk-text-repr-fallback {display: none;}</style><div id=\"sk-container-id-1\" class=\"sk-top-container\"><div class=\"sk-text-repr-fallback\"><pre>DecisionTreeClassifier(max_depth=9, random_state=0)</pre><b>In a Jupyter environment, please rerun this cell to show the HTML representation or trust the notebook. <br />On GitHub, the HTML representation is unable to render, please try loading this page with nbviewer.org.</b></div><div class=\"sk-container\" hidden><div class=\"sk-item\"><div class=\"sk-estimator sk-toggleable\"><input class=\"sk-toggleable__control sk-hidden--visually\" id=\"sk-estimator-id-1\" type=\"checkbox\" checked><label for=\"sk-estimator-id-1\" class=\"sk-toggleable__label sk-toggleable__label-arrow\">DecisionTreeClassifier</label><div class=\"sk-toggleable__content\"><pre>DecisionTreeClassifier(max_depth=9, random_state=0)</pre></div></div></div></div></div>"
      ],
      "text/plain": [
       "DecisionTreeClassifier(max_depth=9, random_state=0)"
      ]
     },
     "execution_count": 36,
     "metadata": {},
     "output_type": "execute_result"
    }
   ],
   "source": [
    "from sklearn.tree import DecisionTreeClassifier\n",
    "\n",
    "tree = DecisionTreeClassifier(max_depth=9, random_state=0)\n",
    "tree.fit(train_features_normalized, train_labels_tensor)"
   ]
  },
  {
   "cell_type": "code",
   "execution_count": 37,
   "metadata": {},
   "outputs": [
    {
     "name": "stdout",
     "output_type": "stream",
     "text": [
      "Training accuracy for our baseline: 83.76%\n",
      "Validation accuracy for our baseline: 82.32%\n"
     ]
    }
   ],
   "source": [
    "from sklearn.metrics import accuracy_score\n",
    "\n",
    "def acc(y_true, y_pred):\n",
    "    return accuracy_score(y_true, y_pred) * 100  # Multiply by 100 to get percentage\n",
    "\n",
    "# Evaluate the baseline model\n",
    "train_preds_baseline = tree.predict(train_features_normalized)\n",
    "val_preds_baseline = tree.predict(test_features_normalized)\n",
    "acc_baseline_train = acc(train_preds_baseline, train_labels_tensor)\n",
    "acc_baseline_val = acc(val_preds_baseline, test_labels_tensor)\n",
    "print(\n",
    "    \"Training accuracy for our baseline: \"\n",
    "    f\"{acc_baseline_train:.2f}%\"\n",
    ")\n",
    "print(\n",
    "    \"Validation accuracy for our baseline: \"\n",
    "    f\"{acc_baseline_val:.2f}%\"\n",
    ")"
   ]
  },
  {
   "cell_type": "code",
   "execution_count": 38,
   "metadata": {},
   "outputs": [
    {
     "name": "stderr",
     "output_type": "stream",
     "text": [
      "INFO:root:Computing number ranges and fixed-point scaling factor...\n",
      "INFO:root:Minimum number: -3.603619337081909, maximum number: 5.416624069213867. Recommended fixed-point scaling factor: 16, required Leo type: i64\n",
      "INFO:root:Transpiling model...\n",
      "INFO:root:Leo program stored\n"
     ]
    }
   ],
   "source": [
    "import logging\n",
    "# Set the logger\n",
    "logger = logging.getLogger()\n",
    "logger.setLevel(logging.INFO)\n",
    "\n",
    "tree_transpiler = LeoTranspiler(model=tree, validation_data=train_features_normalized.numpy()[0:200])\n",
    "leo_project_path = os.path.join(os.getcwd(), \"tmp/mnist\")\n",
    "leo_project_name = \"tree_mnist_1\"\n",
    "tree_transpiler.to_leo(path=leo_project_path, project_name=leo_project_name, fixed_point_scaling_factor=16)"
   ]
  },
  {
   "cell_type": "code",
   "execution_count": 39,
   "metadata": {},
   "outputs": [
    {
     "name": "stdout",
     "output_type": "stream",
     "text": [
      "Circuit constraints: 32305\n",
      "Runtime: 12.573861122131348 seconds\n",
      "Active input count: 20\n",
      "Leo prediction in fixed-point notation: 112\n",
      "Leo prediction in decimal notation: 7.0\n",
      "Python prediction: 7\n",
      "Label: 7\n"
     ]
    }
   ],
   "source": [
    "# prove and compare the Leo prediction with the Python prediction and the label\n",
    "zkp = tree_transpiler.execute(input=test_features_normalized.numpy()[0])\n",
    "python_prediction = tree.predict([test_features_normalized[0]])\n",
    "\n",
    "print(f\"Circuit constraints: {zkp.circuit_constraints}\")\n",
    "print(f\"Runtime: {zkp.runtime} seconds\")\n",
    "print(f\"Active input count: {zkp.active_input_count}\")\n",
    "print(f\"Leo prediction in fixed-point notation: {zkp.output[0]}\")\n",
    "print(f\"Leo prediction in decimal notation: {zkp.output_decimal[0]}\")\n",
    "print(f\"Python prediction: {python_prediction[0]}\")\n",
    "print(f\"Label: {test_labels[0]}\")"
   ]
  },
  {
   "cell_type": "markdown",
   "metadata": {},
   "source": [
    "## Debugging"
   ]
  },
  {
   "cell_type": "code",
   "execution_count": 40,
   "metadata": {},
   "outputs": [
    {
     "name": "stdout",
     "output_type": "stream",
     "text": [
      "Features: [ 1.711e+03  1.410e+02  1.228e+03 -3.260e+02  4.110e+02 -9.950e+02\n",
      " -1.290e+02 -1.290e+02 -1.066e+03 -1.476e+03  1.320e+02  5.360e+02\n",
      " -1.162e+03 -1.420e+03 -7.900e+01 -3.900e+01  1.083e+03  1.459e+03\n",
      "  8.000e-01  1.000e+00]\n"
     ]
    }
   ],
   "source": [
    "# print the featuers\n",
    "print(\"Features:\", test_features[0])"
   ]
  },
  {
   "cell_type": "markdown",
   "metadata": {},
   "source": [
    "tree\n",
    "input_array (16) ['{x0: 27424i64, x1: 2240i64}', '{x0: 19664i64, x1: -5200i64}', '{x0: 6544i64, x1: -15952i64}', '{x0: -2080i64, x1: -2080i64}', '{x0: -17072i64}', '{x0: -23632i64}', '{x0: 2144i64}', '{x0: 8576i64}', '{x0: -18608i64}', '{x0: -22768i64}', '{x0: -1264i64}', '{x0: -592i64}', '{x0: 17344i64}', '{x0: 23360i64}', '{x0: 13i64}', '{x0: 16i64}']\n",
    "\n",
    "mlp\n",
    "input_array (16) ['{x0: 27424i64, x1: 2240i64}', '{x0: 19664i64, x1: -5200i64}', '{x0: 6544i64, x1: -15952i64}', '{x0: -2080i64, x1: -2080i64}', '{x0: -17072i64}', '{x0: -23632i64}', '{x0: 2144i64}', '{x0: 8576i64}', '{x0: -18608i64}', '{x0: -22768i64}', '{x0: -1264i64}', '{x0: -592i64}', '{x0: 17344i64}', '{x0: 23360i64}', '{x0: 13i64}', '{x0: 16i64}']"
   ]
  },
  {
   "cell_type": "code",
   "execution_count": 41,
   "metadata": {},
   "outputs": [
    {
     "name": "stdout",
     "output_type": "stream",
     "text": [
      "[1711.0, 141.0, 1228.0, -326.0, 411.0, -995.0, -129.0, -129.0, -1066.0, -1476.0, 132.0, 536.0, -1162.0, -1420.0, -79.0, -39.0, 1083.0, 1459.0, 0.8, 1.0]\n",
      "[[ 1.78925996e+00  9.61990745e-01  9.67135916e-01 -9.42821701e-02\n",
      "   2.22980720e-01 -1.11685351e+00 -1.01618260e-01  3.67123035e-01\n",
      "  -8.91444517e-01 -1.24020654e+00  1.21819260e-01  1.46586005e-01\n",
      "  -8.15033940e-01 -8.08841700e-01  2.13862839e-02 -8.74995973e-02\n",
      "   9.98446191e-01  7.20864356e-01 -1.25764494e-03 -7.47536740e-01]]\n"
     ]
    }
   ],
   "source": [
    "features_hardcoded_in_js = [1711.0, 141.0, 1228.0, -326.0, 411.0, -995.0, -129.0, -129.0, -1066.0, -1476.0, 132.0, 536.0, -1162.0, -1420.0, -79.0, -39.0, 1083.0, 1459.0, 0.8, 1.0]\n",
    "features_hardcoded_in_js_normalized = scaler.transform([features_hardcoded_in_js])\n",
    "\n",
    "print(features_hardcoded_in_js)\n",
    "print(features_hardcoded_in_js_normalized)"
   ]
  },
  {
   "cell_type": "code",
   "execution_count": 42,
   "metadata": {},
   "outputs": [
    {
     "name": "stdout",
     "output_type": "stream",
     "text": [
      "Circuit constraints: 32305\n",
      "Runtime: 6.674022197723389 seconds\n",
      "Active input count: 20\n",
      "Leo prediction in fixed-point notation: 112\n",
      "Leo prediction in decimal notation: 7.0\n",
      "Python prediction: 7\n",
      "Label: 7\n"
     ]
    }
   ],
   "source": [
    "# prove and compare the Leo prediction with the Python prediction and the label\n",
    "zkp = tree_transpiler.execute(input=features_hardcoded_in_js_normalized[0])\n",
    "python_prediction = tree.predict(features_hardcoded_in_js_normalized)\n",
    "\n",
    "print(f\"Circuit constraints: {zkp.circuit_constraints}\")\n",
    "print(f\"Runtime: {zkp.runtime} seconds\")\n",
    "print(f\"Active input count: {zkp.active_input_count}\")\n",
    "print(f\"Leo prediction in fixed-point notation: {zkp.output[0]}\")\n",
    "print(f\"Leo prediction in decimal notation: {zkp.output_decimal[0]}\")\n",
    "print(f\"Python prediction: {python_prediction[0]}\")\n",
    "print(f\"Label: {test_labels[0]}\")"
   ]
  },
  {
   "cell_type": "code",
   "execution_count": 43,
   "metadata": {},
   "outputs": [
    {
     "name": "stdout",
     "output_type": "stream",
     "text": [
      "tensor([ 1.7893e+00,  9.6199e-01,  9.6714e-01, -9.4282e-02,  2.2298e-01,\n",
      "        -1.1169e+00, -1.0162e-01,  3.6712e-01, -8.9144e-01, -1.2402e+00,\n",
      "         1.2182e-01,  1.4659e-01, -8.1503e-01, -8.0884e-01,  2.1386e-02,\n",
      "        -8.7500e-02,  9.9845e-01,  7.2086e-01, -1.2576e-03, -7.4754e-01])\n"
     ]
    }
   ],
   "source": [
    "print(test_features_normalized[0])"
   ]
  },
  {
   "cell_type": "markdown",
   "metadata": {},
   "source": [
    "## Create even/odd labels"
   ]
  },
  {
   "cell_type": "code",
   "execution_count": 44,
   "metadata": {},
   "outputs": [],
   "source": [
    "train_labels_even_odd = np.ones(len(train_labels_tensor))\n",
    "train_labels_even_odd[train_labels_tensor % 2 == 0] = 0\n",
    "train_labels_even_odd_tensor = torch.tensor(train_labels_even_odd).long()\n",
    "\n",
    "validation_labels_even_odd = np.ones(len(validation_labels_tensor))\n",
    "validation_labels_even_odd[validation_labels_tensor % 2 == 0] = 0\n",
    "validation_labels_even_odd_tensor = torch.tensor(validation_labels_even_odd).long()\n",
    "\n",
    "test_labels_even_odd = np.ones(len(test_labels_tensor))\n",
    "test_labels_even_odd[test_labels_tensor % 2 == 0] = 0\n",
    "test_labels_even_odd_tensor = torch.tensor(test_labels_even_odd).long()"
   ]
  },
  {
   "cell_type": "markdown",
   "metadata": {},
   "source": [
    "## Let's train an MLP network"
   ]
  },
  {
   "cell_type": "code",
   "execution_count": 45,
   "metadata": {},
   "outputs": [],
   "source": [
    "# Hyperparameters\n",
    "input_dim = train_features_normalized.shape[1]\n",
    "output_dim = len(set(train_labels_even_odd))  # Assuming train_labels are class indices\n",
    "hidden_dim = (input_dim + output_dim) // 2\n",
    "\n",
    "# Instantiate the model\n",
    "model_even_odd = SimpleNN(input_dim=input_dim, hidden_dim=hidden_dim, output_dim=output_dim)"
   ]
  },
  {
   "cell_type": "code",
   "execution_count": 46,
   "metadata": {},
   "outputs": [
    {
     "name": "stdout",
     "output_type": "stream",
     "text": [
      "Epoch [100], Loss: 0.4227, validation loss: 0.4206\n",
      "Epoch [200], Loss: 0.3066, validation loss: 0.3048\n",
      "Epoch [300], Loss: 0.2462, validation loss: 0.2455\n",
      "Epoch [400], Loss: 0.2103, validation loss: 0.2084\n",
      "Epoch [500], Loss: 0.1893, validation loss: 0.1856\n",
      "Epoch [600], Loss: 0.1763, validation loss: 0.1710\n",
      "Epoch [700], Loss: 0.1679, validation loss: 0.1611\n",
      "Epoch [800], Loss: 0.1618, validation loss: 0.1539\n",
      "Epoch [900], Loss: 0.1571, validation loss: 0.1485\n",
      "Epoch [1000], Loss: 0.1535, validation loss: 0.1443\n",
      "Epoch [1100], Loss: 0.1507, validation loss: 0.1410\n",
      "Epoch [1200], Loss: 0.1485, validation loss: 0.1384\n",
      "Epoch [1300], Loss: 0.1465, validation loss: 0.1365\n",
      "Epoch [1400], Loss: 0.1450, validation loss: 0.1349\n",
      "Epoch [1500], Loss: 0.1435, validation loss: 0.1335\n",
      "Epoch [1600], Loss: 0.1422, validation loss: 0.1322\n",
      "Epoch [1700], Loss: 0.1412, validation loss: 0.1312\n",
      "Epoch [1800], Loss: 0.1402, validation loss: 0.1303\n",
      "Epoch [1900], Loss: 0.1394, validation loss: 0.1298\n",
      "Epoch [2000], Loss: 0.1387, validation loss: 0.1292\n",
      "Epoch [2100], Loss: 0.1379, validation loss: 0.1289\n",
      "Epoch [2200], Loss: 0.1371, validation loss: 0.1285\n",
      "Epoch [2300], Loss: 0.1361, validation loss: 0.1279\n",
      "Epoch [2400], Loss: 0.1352, validation loss: 0.1273\n",
      "Epoch [2500], Loss: 0.1342, validation loss: 0.1267\n",
      "Epoch [2600], Loss: 0.1331, validation loss: 0.1260\n",
      "Epoch [2700], Loss: 0.1323, validation loss: 0.1253\n",
      "Epoch [2800], Loss: 0.1316, validation loss: 0.1247\n",
      "Epoch [2900], Loss: 0.1309, validation loss: 0.1240\n",
      "Epoch [3000], Loss: 0.1302, validation loss: 0.1236\n",
      "Early stopping\n"
     ]
    }
   ],
   "source": [
    "# Train the model\n",
    "model_even_odd, epochs, val_loss = train(model_even_odd, train_labels_even_odd_tensor, validation_labels_even_odd_tensor)"
   ]
  },
  {
   "cell_type": "code",
   "execution_count": 47,
   "metadata": {},
   "outputs": [
    {
     "name": "stdout",
     "output_type": "stream",
     "text": [
      "Accuracy: 0.9598\n"
     ]
    },
    {
     "data": {
      "text/plain": [
       "0.9598"
      ]
     },
     "execution_count": 47,
     "metadata": {},
     "output_type": "execute_result"
    }
   ],
   "source": [
    "evaluate_model(model_even_odd, test_labels_even_odd)"
   ]
  },
  {
   "cell_type": "markdown",
   "metadata": {},
   "source": [
    "## Let's prune the model and convert it to scikit-learn"
   ]
  },
  {
   "cell_type": "code",
   "execution_count": 48,
   "metadata": {},
   "outputs": [
    {
     "name": "stdout",
     "output_type": "stream",
     "text": [
      "Number of weight parameters: 242\n",
      "Number of weights already zero: 0\n",
      "Number of changed weight parameters: 62\n",
      "Number of bias parameters: 13\n",
      "Number of biases already zero: 0\n",
      "Number of changed bias parameters: 2\n",
      "Percentage of weights pruned: 25.62%\n",
      "Percentage of biases pruned: 15.38%\n",
      "Remaining number of non-zero weights: 180\n",
      "Remaining number of non-zero biases: 11\n",
      "Accuracy: 0.9559\n"
     ]
    }
   ],
   "source": [
    "model_even_odd_pruned = copy.deepcopy(model_even_odd)\n",
    "model_even_odd_pruned, hooks = prune_pytorch_network(model_even_odd_pruned, 1e-1, 1e-1)\n",
    "\n",
    "_ = evaluate_model(model_even_odd_pruned, test_labels_even_odd)"
   ]
  },
  {
   "cell_type": "code",
   "execution_count": 49,
   "metadata": {},
   "outputs": [
    {
     "name": "stderr",
     "output_type": "stream",
     "text": [
      "/Users/kp/miniconda3/lib/python3.11/site-packages/sklearn/neural_network/_multilayer_perceptron.py:691: ConvergenceWarning: Stochastic Optimizer: Maximum iterations (1) reached and the optimization hasn't converged yet.\n",
      "  warnings.warn(\n"
     ]
    }
   ],
   "source": [
    "converted_model_even_odd = pytorch_to_sklearn(model_even_odd_pruned)"
   ]
  },
  {
   "cell_type": "markdown",
   "metadata": {},
   "source": [
    "## Let's transpile"
   ]
  },
  {
   "cell_type": "code",
   "execution_count": 50,
   "metadata": {},
   "outputs": [
    {
     "name": "stderr",
     "output_type": "stream",
     "text": [
      "INFO:root:Computing number ranges and fixed-point scaling factor...\n"
     ]
    },
    {
     "name": "stdout",
     "output_type": "stream",
     "text": [
      "<class 'sklearn.neural_network._multilayer_perceptron.MLPClassifier'>\n"
     ]
    },
    {
     "name": "stderr",
     "output_type": "stream",
     "text": [
      "INFO:root:Minimum number: -7.960461139678955, maximum number: 8.663869857788086. Recommended fixed-point scaling factor: 16, required Leo type: i64\n",
      "INFO:root:Transpiling model...\n",
      "INFO:root:Leo program stored\n"
     ]
    },
    {
     "name": "stdout",
     "output_type": "stream",
     "text": [
      "Constraints: 84630\n",
      "Runtime for one instance: 3.0045650005340576 seconds\n",
      "Leo accuracy: 85.0 %\n",
      "Python accuracy: 85.0 %\n"
     ]
    }
   ],
   "source": [
    "# Transpile the deceision tree into Leo code\n",
    "print(type(converted_model_even_odd))\n",
    "lt = LeoTranspiler(\n",
    "    model=converted_model_even_odd, validation_data=train_features_normalized[0:600].numpy()\n",
    ")\n",
    "leo_project_path = os.path.join(os.getcwd(), \"tmp\", \"mnist\")\n",
    "leo_project_name = \"sklearn_mlp_mnist_2\"\n",
    "lt.to_leo(\n",
    "    path=leo_project_path, project_name=leo_project_name, fixed_point_scaling_factor=16\n",
    ")\n",
    "\n",
    "# Compute the accuracy of the Leo program and the Python program on the test set\n",
    "num_test_samples = len(test_features)\n",
    "\n",
    "# let's limit the number of test stamples to 10 to make the computation faster\n",
    "num_test_samples = min(num_test_samples, 20)\n",
    "\n",
    "python_predictions = np.zeros(num_test_samples)\n",
    "\n",
    "leo_predictions = np.zeros(num_test_samples)\n",
    "for i in range(num_test_samples):\n",
    "    lc = lt.run(input=test_features[i])\n",
    "    leo_predictions[i] = np.argmax(lc.output_decimal)\n",
    "    python_predictions[i] = converted_model_even_odd.predict(test_features[i].reshape(1,-1)).argmax()\n",
    "\n",
    "\n",
    "print(f\"Constraints: {lc.circuit_constraints}\")\n",
    "print(f\"Runtime for one instance: {lc.runtime} seconds\")\n",
    "\n",
    "leo_accuracy = (\n",
    "    np.sum(leo_predictions[0:num_test_samples] == test_labels_even_odd[0:num_test_samples])\n",
    "    / num_test_samples\n",
    ")\n",
    "python_accuracy = (\n",
    "    np.sum(python_predictions[0:num_test_samples] == test_labels_even_odd[0:num_test_samples])\n",
    "    / num_test_samples\n",
    ")\n",
    "\n",
    "print(f\"Leo accuracy: {100*leo_accuracy} %\")\n",
    "print(f\"Python accuracy: {100*python_accuracy} %\")"
   ]
  },
  {
   "cell_type": "markdown",
   "metadata": {},
   "source": [
    "## Let's train and transpile a decision tree"
   ]
  },
  {
   "cell_type": "code",
   "execution_count": 51,
   "metadata": {},
   "outputs": [
    {
     "data": {
      "text/html": [
       "<style>#sk-container-id-2 {color: black;}#sk-container-id-2 pre{padding: 0;}#sk-container-id-2 div.sk-toggleable {background-color: white;}#sk-container-id-2 label.sk-toggleable__label {cursor: pointer;display: block;width: 100%;margin-bottom: 0;padding: 0.3em;box-sizing: border-box;text-align: center;}#sk-container-id-2 label.sk-toggleable__label-arrow:before {content: \"▸\";float: left;margin-right: 0.25em;color: #696969;}#sk-container-id-2 label.sk-toggleable__label-arrow:hover:before {color: black;}#sk-container-id-2 div.sk-estimator:hover label.sk-toggleable__label-arrow:before {color: black;}#sk-container-id-2 div.sk-toggleable__content {max-height: 0;max-width: 0;overflow: hidden;text-align: left;background-color: #f0f8ff;}#sk-container-id-2 div.sk-toggleable__content pre {margin: 0.2em;color: black;border-radius: 0.25em;background-color: #f0f8ff;}#sk-container-id-2 input.sk-toggleable__control:checked~div.sk-toggleable__content {max-height: 200px;max-width: 100%;overflow: auto;}#sk-container-id-2 input.sk-toggleable__control:checked~label.sk-toggleable__label-arrow:before {content: \"▾\";}#sk-container-id-2 div.sk-estimator input.sk-toggleable__control:checked~label.sk-toggleable__label {background-color: #d4ebff;}#sk-container-id-2 div.sk-label input.sk-toggleable__control:checked~label.sk-toggleable__label {background-color: #d4ebff;}#sk-container-id-2 input.sk-hidden--visually {border: 0;clip: rect(1px 1px 1px 1px);clip: rect(1px, 1px, 1px, 1px);height: 1px;margin: -1px;overflow: hidden;padding: 0;position: absolute;width: 1px;}#sk-container-id-2 div.sk-estimator {font-family: monospace;background-color: #f0f8ff;border: 1px dotted black;border-radius: 0.25em;box-sizing: border-box;margin-bottom: 0.5em;}#sk-container-id-2 div.sk-estimator:hover {background-color: #d4ebff;}#sk-container-id-2 div.sk-parallel-item::after {content: \"\";width: 100%;border-bottom: 1px solid gray;flex-grow: 1;}#sk-container-id-2 div.sk-label:hover label.sk-toggleable__label {background-color: #d4ebff;}#sk-container-id-2 div.sk-serial::before {content: \"\";position: absolute;border-left: 1px solid gray;box-sizing: border-box;top: 0;bottom: 0;left: 50%;z-index: 0;}#sk-container-id-2 div.sk-serial {display: flex;flex-direction: column;align-items: center;background-color: white;padding-right: 0.2em;padding-left: 0.2em;position: relative;}#sk-container-id-2 div.sk-item {position: relative;z-index: 1;}#sk-container-id-2 div.sk-parallel {display: flex;align-items: stretch;justify-content: center;background-color: white;position: relative;}#sk-container-id-2 div.sk-item::before, #sk-container-id-2 div.sk-parallel-item::before {content: \"\";position: absolute;border-left: 1px solid gray;box-sizing: border-box;top: 0;bottom: 0;left: 50%;z-index: -1;}#sk-container-id-2 div.sk-parallel-item {display: flex;flex-direction: column;z-index: 1;position: relative;background-color: white;}#sk-container-id-2 div.sk-parallel-item:first-child::after {align-self: flex-end;width: 50%;}#sk-container-id-2 div.sk-parallel-item:last-child::after {align-self: flex-start;width: 50%;}#sk-container-id-2 div.sk-parallel-item:only-child::after {width: 0;}#sk-container-id-2 div.sk-dashed-wrapped {border: 1px dashed gray;margin: 0 0.4em 0.5em 0.4em;box-sizing: border-box;padding-bottom: 0.4em;background-color: white;}#sk-container-id-2 div.sk-label label {font-family: monospace;font-weight: bold;display: inline-block;line-height: 1.2em;}#sk-container-id-2 div.sk-label-container {text-align: center;}#sk-container-id-2 div.sk-container {/* jupyter's `normalize.less` sets `[hidden] { display: none; }` but bootstrap.min.css set `[hidden] { display: none !important; }` so we also need the `!important` here to be able to override the default hidden behavior on the sphinx rendered scikit-learn.org. See: https://github.com/scikit-learn/scikit-learn/issues/21755 */display: inline-block !important;position: relative;}#sk-container-id-2 div.sk-text-repr-fallback {display: none;}</style><div id=\"sk-container-id-2\" class=\"sk-top-container\"><div class=\"sk-text-repr-fallback\"><pre>DecisionTreeClassifier(max_depth=9, random_state=0)</pre><b>In a Jupyter environment, please rerun this cell to show the HTML representation or trust the notebook. <br />On GitHub, the HTML representation is unable to render, please try loading this page with nbviewer.org.</b></div><div class=\"sk-container\" hidden><div class=\"sk-item\"><div class=\"sk-estimator sk-toggleable\"><input class=\"sk-toggleable__control sk-hidden--visually\" id=\"sk-estimator-id-2\" type=\"checkbox\" checked><label for=\"sk-estimator-id-2\" class=\"sk-toggleable__label sk-toggleable__label-arrow\">DecisionTreeClassifier</label><div class=\"sk-toggleable__content\"><pre>DecisionTreeClassifier(max_depth=9, random_state=0)</pre></div></div></div></div></div>"
      ],
      "text/plain": [
       "DecisionTreeClassifier(max_depth=9, random_state=0)"
      ]
     },
     "execution_count": 51,
     "metadata": {},
     "output_type": "execute_result"
    }
   ],
   "source": [
    "tree_even_odd = DecisionTreeClassifier(max_depth=9, random_state=0)\n",
    "tree_even_odd.fit(train_features_normalized, train_labels_even_odd_tensor)"
   ]
  },
  {
   "cell_type": "code",
   "execution_count": 52,
   "metadata": {},
   "outputs": [
    {
     "name": "stdout",
     "output_type": "stream",
     "text": [
      "Training accuracy for our baseline: 93.03%\n",
      "Validation accuracy for our baseline: 91.60%\n"
     ]
    }
   ],
   "source": [
    "def acc(y_true, y_pred):\n",
    "    return accuracy_score(y_true, y_pred) * 100  # Multiply by 100 to get percentage\n",
    "\n",
    "# Evaluate the baseline model\n",
    "train_preds_baseline = tree_even_odd.predict(train_features_normalized)\n",
    "val_preds_baseline = tree_even_odd.predict(test_features_normalized)\n",
    "acc_baseline_train = acc(train_preds_baseline, train_labels_even_odd_tensor)\n",
    "acc_baseline_val = acc(val_preds_baseline, test_labels_even_odd_tensor)\n",
    "print(\n",
    "    \"Training accuracy for our baseline: \"\n",
    "    f\"{acc_baseline_train:.2f}%\"\n",
    ")\n",
    "print(\n",
    "    \"Validation accuracy for our baseline: \"\n",
    "    f\"{acc_baseline_val:.2f}%\"\n",
    ")"
   ]
  },
  {
   "cell_type": "code",
   "execution_count": 53,
   "metadata": {},
   "outputs": [
    {
     "name": "stderr",
     "output_type": "stream",
     "text": [
      "INFO:root:Computing number ranges and fixed-point scaling factor...\n",
      "INFO:root:Minimum number: -3.603619337081909, maximum number: 5.416624069213867. Recommended fixed-point scaling factor: 16, required Leo type: i64\n",
      "INFO:root:Transpiling model...\n",
      "INFO:root:Leo program stored\n"
     ]
    }
   ],
   "source": [
    "tree_transpiler = LeoTranspiler(model=tree_even_odd, validation_data=train_features_normalized.numpy()[0:200])\n",
    "leo_project_path = os.path.join(os.getcwd(), \"tmp/mnist\")\n",
    "leo_project_name = \"tree_mnist_2\"\n",
    "tree_transpiler.to_leo(path=leo_project_path, project_name=leo_project_name, fixed_point_scaling_factor=16)"
   ]
  },
  {
   "cell_type": "code",
   "execution_count": 54,
   "metadata": {},
   "outputs": [
    {
     "name": "stdout",
     "output_type": "stream",
     "text": [
      "Circuit constraints: 24508\n",
      "Runtime: 22.241719007492065 seconds\n",
      "Active input count: 20\n",
      "Leo prediction in fixed-point notation: 16\n",
      "Leo prediction in decimal notation: 1.0\n",
      "Python prediction: 7\n",
      "Label: 1.0\n"
     ]
    }
   ],
   "source": [
    "# prove and compare the Leo prediction with the Python prediction and the label\n",
    "zkp = tree_transpiler.execute(input=test_features_normalized.numpy()[0])\n",
    "python_prediction = tree.predict([test_features_normalized[0]])\n",
    "\n",
    "print(f\"Circuit constraints: {zkp.circuit_constraints}\")\n",
    "print(f\"Runtime: {zkp.runtime} seconds\")\n",
    "print(f\"Active input count: {zkp.active_input_count}\")\n",
    "print(f\"Leo prediction in fixed-point notation: {zkp.output[0]}\")\n",
    "print(f\"Leo prediction in decimal notation: {zkp.output_decimal[0]}\")\n",
    "print(f\"Python prediction: {python_prediction[0]}\")\n",
    "print(f\"Label: {test_labels_even_odd[0]}\")"
   ]
  }
 ],
 "metadata": {
  "kernelspec": {
   "display_name": "Python 3",
   "language": "python",
   "name": "python3"
  },
  "language_info": {
   "codemirror_mode": {
    "name": "ipython",
    "version": 3
   },
   "file_extension": ".py",
   "mimetype": "text/x-python",
   "name": "python",
   "nbconvert_exporter": "python",
   "pygments_lexer": "ipython3",
   "version": "3.11.4"
  },
  "orig_nbformat": 4
 },
 "nbformat": 4,
 "nbformat_minor": 2
}
