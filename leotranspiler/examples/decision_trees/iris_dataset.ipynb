{
 "cells": [
  {
   "cell_type": "markdown",
   "metadata": {},
   "source": [
    "# Demo of a decision tree Leo transpilation - Iris dataset"
   ]
  },
  {
   "cell_type": "markdown",
   "metadata": {},
   "source": [
    "## The three classes of the Iris dataset\n",
    "![The three classes of the iris dataset](https://editor.analyticsvidhya.com/uploads/51518iris%20img1.png \"The three classes of the iris dataset\")"
   ]
  },
  {
   "cell_type": "markdown",
   "metadata": {},
   "source": [
    "## Load the Iris dataset and explore the data"
   ]
  },
  {
   "cell_type": "code",
   "execution_count": null,
   "metadata": {},
   "outputs": [],
   "source": [
    "from sklearn.datasets import load_iris\n",
    "\n",
    "# Load the iris dataset\n",
    "iris = load_iris()\n",
    "X = iris.data\n",
    "y = iris.target\n",
    "\n",
    "# take a look at the data\n",
    "print(f\"Data shape: {X.shape}\")\n",
    "print(f\"Feature names: {iris.feature_names}\")\n",
    "print(f\"Label names: {iris.target_names}\")\n",
    "print(f\"First row: {X[0]}\")\n",
    "print(f\"First label: {y[0]}\")"
   ]
  },
  {
   "cell_type": "markdown",
   "metadata": {},
   "source": [
    "## Split the dataset into a training and a test set, and train the classifier"
   ]
  },
  {
   "cell_type": "code",
   "execution_count": null,
   "metadata": {},
   "outputs": [],
   "source": [
    "from sklearn.model_selection import train_test_split\n",
    "\n",
    "# Split the dataset into a training and a test set\n",
    "X_train, X_test, y_train, y_test = train_test_split(X, y, test_size=0.2, random_state=0)"
   ]
  },
  {
   "cell_type": "code",
   "execution_count": null,
   "metadata": {},
   "outputs": [],
   "source": [
    "from sklearn.tree import DecisionTreeClassifier\n",
    "\n",
    "# Create and train a decision tree classifier\n",
    "clf = DecisionTreeClassifier(random_state=0)\n",
    "clf.fit(X_train, y_train)"
   ]
  },
  {
   "cell_type": "markdown",
   "metadata": {},
   "source": [
    "## Visualize the decision tree"
   ]
  },
  {
   "cell_type": "code",
   "execution_count": null,
   "metadata": {},
   "outputs": [],
   "source": [
    "import matplotlib.pyplot as plt\n",
    "from sklearn.tree import plot_tree\n",
    "\n",
    "# visualize the decision tree\n",
    "plt.figure(figsize=(15, 7.5))\n",
    "plot_tree(\n",
    "    clf,\n",
    "    filled=True,\n",
    "    feature_names=iris.feature_names,\n",
    "    class_names=iris.target_names.tolist(),\n",
    ")\n",
    "plt.show()"
   ]
  },
  {
   "cell_type": "markdown",
   "metadata": {},
   "source": [
    "## Transpile the model into Leo code"
   ]
  },
  {
   "cell_type": "code",
   "execution_count": null,
   "metadata": {},
   "outputs": [],
   "source": [
    "import logging\n",
    "import os\n",
    "\n",
    "from leotranspiler import LeoTranspiler\n",
    "\n",
    "# Set the logger\n",
    "logger = logging.getLogger()\n",
    "logger.setLevel(logging.INFO)\n",
    "\n",
    "# Transpile the deceision tree into Leo code\n",
    "lt = LeoTranspiler(model=clf, validation_data=X_train)\n",
    "leo_project_path = os.path.join(os.getcwd(), \"tmp/iris\")\n",
    "leo_project_name = \"tree_iris_1\"\n",
    "lt.to_leo(path=leo_project_path, project_name=leo_project_name)"
   ]
  },
  {
   "cell_type": "markdown",
   "metadata": {},
   "source": [
    "## Let's take a look at the transpiled Leo code\n",
    "(the thresholds in the conditions are going to be different compared to the visual representation because of the fixed-point conversion)"
   ]
  },
  {
   "cell_type": "code",
   "execution_count": null,
   "metadata": {},
   "outputs": [],
   "source": [
    "# take a look at the transpiled code\n",
    "leo_code_path = os.path.join(\n",
    "    (os.path.join(leo_project_path, leo_project_name, \"src\", \"main.leo\"))\n",
    ")\n",
    "with open(leo_code_path, \"r\") as f:\n",
    "    leo_code = f.read()\n",
    "print(leo_code)"
   ]
  },
  {
   "cell_type": "markdown",
   "metadata": {},
   "source": [
    "## Let's input one test data instance into the Leo and Python model and compare the predictions and labels"
   ]
  },
  {
   "cell_type": "code",
   "execution_count": null,
   "metadata": {},
   "outputs": [],
   "source": [
    "# prove and compare the Leo prediction with the Python prediction and the label\n",
    "zkp = lt.execute(input_sample=X_test[0])\n",
    "python_prediction = clf.predict([X_test[0]])\n",
    "\n",
    "print(f\"Circuit constraints: {zkp.circuit_constraints}\")\n",
    "print(f\"Runtime: {zkp.runtime} seconds\")\n",
    "print(f\"Active circuit inputs: {zkp.active_input_count}\")\n",
    "print(f\"Leo prediction in fixed-point notation: {zkp.output[0]}\")\n",
    "print(f\"Leo prediction in decimal notation: {zkp.output_decimal[0]}\")\n",
    "print(f\"Python prediction: {python_prediction[0]}\")\n",
    "print(f\"Label: {y_test[0]}\")\n",
    "print(f\"Proof: {zkp.proof}\")"
   ]
  },
  {
   "cell_type": "markdown",
   "metadata": {},
   "source": [
    "## Let's compare the classification accuracy for the Leo and Python model over the entire test data set "
   ]
  },
  {
   "cell_type": "code",
   "execution_count": null,
   "metadata": {},
   "outputs": [],
   "source": [
    "import numpy as np\n",
    "\n",
    "# Compute the accuracy of the Leo program and the Python program on the test set\n",
    "num_test_samples = len(X_test)\n",
    "leo_predictions = np.zeros(num_test_samples)\n",
    "for i in range(num_test_samples):\n",
    "    leo_predictions[i] = lt.run(input_sample=X_test[i]).output_decimal[0]\n",
    "\n",
    "python_predictions = clf.predict(X_test)\n",
    "\n",
    "leo_accuracy = np.sum(leo_predictions == y_test) / num_test_samples\n",
    "python_accuracy = np.sum(python_predictions == y_test) / num_test_samples\n",
    "\n",
    "print(f\"Leo accuracy: {100*leo_accuracy} %\")\n",
    "print(f\"Python accuracy: {100*python_accuracy} %\")"
   ]
  },
  {
   "cell_type": "markdown",
   "metadata": {},
   "source": [
    "## We can also set the model parameters as inputs instead of hardcoding these"
   ]
  },
  {
   "cell_type": "code",
   "execution_count": null,
   "metadata": {},
   "outputs": [],
   "source": [
    "leo_project_name = \"tree_iris_2\"\n",
    "lt.to_leo(path=leo_project_path, project_name=leo_project_name, model_as_input=True)"
   ]
  },
  {
   "cell_type": "markdown",
   "metadata": {},
   "source": [
    "## Taking a look to check ..."
   ]
  },
  {
   "cell_type": "code",
   "execution_count": null,
   "metadata": {},
   "outputs": [],
   "source": [
    "# take a look at the transpiled code\n",
    "leo_code_path = os.path.join(\n",
    "    (os.path.join(leo_project_path, leo_project_name, \"src\", \"main.leo\"))\n",
    ")\n",
    "with open(leo_code_path, \"r\") as f:\n",
    "    leo_code = f.read()\n",
    "print(leo_code)"
   ]
  },
  {
   "cell_type": "markdown",
   "metadata": {},
   "source": [
    "## Let's run the proving again\n",
    "(we expect the circuit to have more inputs and slightly more constraints now, more inputs, and also the proving to run slightly longer)"
   ]
  },
  {
   "cell_type": "code",
   "execution_count": null,
   "metadata": {},
   "outputs": [],
   "source": [
    "# prove and compare the Leo prediction with the Python prediction and the label\n",
    "zkp = lt.execute(input_sample=X_test[0])\n",
    "python_prediction = clf.predict([X_test[0]])\n",
    "\n",
    "print(f\"Circuit constraints: {zkp.circuit_constraints}\")\n",
    "print(f\"Runtime: {zkp.runtime} seconds\")\n",
    "print(f\"Active circuit inputs: {zkp.active_input_count}\")\n",
    "print(f\"Leo prediction in fixed-point notation: {zkp.output[0]}\")\n",
    "print(f\"Leo prediction in decimal notation: {zkp.output_decimal[0]}\")\n",
    "print(f\"Python prediction: {python_prediction[0]}\")\n",
    "print(f\"Label: {y_test[0]}\")\n",
    "print(f\"Proof: {zkp.proof}\")"
   ]
  }
 ],
 "metadata": {
  "kernelspec": {
   "display_name": "Python 3",
   "language": "python",
   "name": "python3"
  },
  "language_info": {
   "codemirror_mode": {
    "name": "ipython",
    "version": 3
   },
   "file_extension": ".py",
   "mimetype": "text/x-python",
   "name": "python",
   "nbconvert_exporter": "python",
   "pygments_lexer": "ipython3",
   "version": "3.11.5"
  },
  "orig_nbformat": 4
 },
 "nbformat": 4,
 "nbformat_minor": 2
}
